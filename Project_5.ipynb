{
  "nbformat": 4,
  "nbformat_minor": 0,
  "metadata": {
    "colab": {
      "provenance": [],
      "toc_visible": true,
      "include_colab_link": true
    },
    "kernelspec": {
      "name": "python3",
      "display_name": "Python 3"
    },
    "language_info": {
      "name": "python"
    }
  },
  "cells": [
    {
      "cell_type": "markdown",
      "metadata": {
        "id": "view-in-github",
        "colab_type": "text"
      },
      "source": [
        "<a href=\"https://colab.research.google.com/github/ZacharyFry1/DD-Science-Cohort15/blob/main/Project_5.ipynb\" target=\"_parent\"><img src=\"https://colab.research.google.com/assets/colab-badge.svg\" alt=\"Open In Colab\"/></a>"
      ]
    },
    {
      "cell_type": "markdown",
      "source": [
        "# Project 5 - NLP"
      ],
      "metadata": {
        "id": "cJG_e1vK2NMI"
      }
    },
    {
      "cell_type": "markdown",
      "source": [
        "## Problem Definition\n"
      ],
      "metadata": {
        "id": "Ugnt7mjT2Pyt"
      }
    },
    {
      "cell_type": "markdown",
      "source": [
        "The objective of this project is to choose a famous person from the data frame below and perform a text analysis to figure out who the nearest ten neighbors are. This will be accomplished through bag of words and a TF-IDF transformation."
      ],
      "metadata": {
        "id": "DJB41zc-2q-w"
      }
    },
    {
      "cell_type": "markdown",
      "source": [
        "## Data Collection/Sources\n"
      ],
      "metadata": {
        "id": "jaq46wHS2Uh1"
      }
    },
    {
      "cell_type": "markdown",
      "source": [
        "Imports"
      ],
      "metadata": {
        "id": "rSyy2KAi3tHt"
      }
    },
    {
      "cell_type": "code",
      "source": [
        "import numpy as np\n",
        "import pandas as pd\n",
        "from textblob import TextBlob\n",
        "from sklearn.feature_extraction.text import CountVectorizer\n",
        "from sklearn.feature_extraction.text import TfidfVectorizer\n",
        "from sklearn.feature_extraction.text import TfidfTransformer\n",
        "from sklearn.neighbors import NearestNeighbors"
      ],
      "metadata": {
        "id": "Rw-TaXBg3cs4"
      },
      "execution_count": null,
      "outputs": []
    },
    {
      "cell_type": "markdown",
      "source": [
        "## Part 1"
      ],
      "metadata": {
        "id": "WWEEAg1q52tf"
      }
    },
    {
      "cell_type": "markdown",
      "source": [
        "Installing text blobs and corpora."
      ],
      "metadata": {
        "id": "DsVh_dlQzfep"
      }
    },
    {
      "cell_type": "code",
      "source": [
        "%%capture\n",
        "# Install textblob\n",
        "!pip install -U textblob"
      ],
      "metadata": {
        "id": "mNOARr9i2qW8"
      },
      "execution_count": null,
      "outputs": []
    },
    {
      "cell_type": "code",
      "source": [
        "%%capture\n",
        "# Download corpora\n",
        "!python -m textblob.download_corpora\n"
      ],
      "metadata": {
        "id": "Cxvczo1p5gTk"
      },
      "execution_count": null,
      "outputs": []
    },
    {
      "cell_type": "markdown",
      "source": [
        "Reading in the data."
      ],
      "metadata": {
        "id": "uX2LlunS39Nl"
      }
    },
    {
      "cell_type": "code",
      "source": [
        "url = 'https://ddc-datascience.s3.amazonaws.com/Projects/Project.5-NLP/Data/NLP.csv'\n",
        "df_original = pd.read_csv(url)"
      ],
      "metadata": {
        "id": "VPkZ4s_44IvK"
      },
      "execution_count": null,
      "outputs": []
    },
    {
      "cell_type": "markdown",
      "source": [
        "Getting the shape of the data."
      ],
      "metadata": {
        "id": "wQb_wwZN4pYr"
      }
    },
    {
      "cell_type": "code",
      "source": [
        "df_original.shape"
      ],
      "metadata": {
        "id": "k4Q6cbo42paj",
        "colab": {
          "base_uri": "https://localhost:8080/"
        },
        "outputId": "d801fa61-b1a0-4f22-c0c5-f8d2efa43006"
      },
      "execution_count": null,
      "outputs": [
        {
          "output_type": "execute_result",
          "data": {
            "text/plain": [
              "(42786, 3)"
            ]
          },
          "metadata": {},
          "execution_count": 34
        }
      ]
    },
    {
      "cell_type": "markdown",
      "source": [
        "## Sentiment Analysis"
      ],
      "metadata": {
        "id": "TEtz37ku0c0N"
      }
    },
    {
      "cell_type": "markdown",
      "source": [
        "Using a lambda function to create a new column, Text_Blob_Text that converts the summary text for everything in the data frame into a text blob. Required for sentiment analysis."
      ],
      "metadata": {
        "id": "NerPXbsS0goj"
      }
    },
    {
      "cell_type": "code",
      "source": [
        "df_original['Text_Blob_Text'] = df_original['text'].apply(lambda x: TextBlob(x))"
      ],
      "metadata": {
        "id": "plDO55GK7XdR"
      },
      "execution_count": null,
      "outputs": []
    },
    {
      "cell_type": "markdown",
      "source": [
        "Below is the sentiment of person 55, Mary Goldring."
      ],
      "metadata": {
        "id": "pXDjV56U9Oi_"
      }
    },
    {
      "cell_type": "code",
      "source": [
        "df_original['Text_Blob_Text'][55].sentiment"
      ],
      "metadata": {
        "id": "vjSIcUXYFLr8",
        "colab": {
          "base_uri": "https://localhost:8080/"
        },
        "outputId": "21e455f8-8c2d-4a29-fa45-699d2fa6d04d"
      },
      "execution_count": null,
      "outputs": [
        {
          "output_type": "execute_result",
          "data": {
            "text/plain": [
              "Sentiment(polarity=-0.10098039215686273, subjectivity=0.2966817496229261)"
            ]
          },
          "metadata": {},
          "execution_count": 36
        }
      ]
    },
    {
      "cell_type": "code",
      "source": [
        "df_original.loc[55]"
      ],
      "metadata": {
        "id": "ekvqh9ZV6xQU",
        "colab": {
          "base_uri": "https://localhost:8080/",
          "height": 209
        },
        "outputId": "aeef2535-f67a-44bd-989a-cd42f1760d53"
      },
      "execution_count": null,
      "outputs": [
        {
          "output_type": "execute_result",
          "data": {
            "text/plain": [
              "URI                     <http://dbpedia.org/resource/Mary_Goldring>\n",
              "name                                                  Mary Goldring\n",
              "text              mary goldring obe is a british business journa...\n",
              "Text_Blob_Text    (m, a, r, y,  , g, o, l, d, r, i, n, g,  , o, ...\n",
              "Name: 55, dtype: object"
            ],
            "text/html": [
              "<div>\n",
              "<style scoped>\n",
              "    .dataframe tbody tr th:only-of-type {\n",
              "        vertical-align: middle;\n",
              "    }\n",
              "\n",
              "    .dataframe tbody tr th {\n",
              "        vertical-align: top;\n",
              "    }\n",
              "\n",
              "    .dataframe thead th {\n",
              "        text-align: right;\n",
              "    }\n",
              "</style>\n",
              "<table border=\"1\" class=\"dataframe\">\n",
              "  <thead>\n",
              "    <tr style=\"text-align: right;\">\n",
              "      <th></th>\n",
              "      <th>55</th>\n",
              "    </tr>\n",
              "  </thead>\n",
              "  <tbody>\n",
              "    <tr>\n",
              "      <th>URI</th>\n",
              "      <td>&lt;http://dbpedia.org/resource/Mary_Goldring&gt;</td>\n",
              "    </tr>\n",
              "    <tr>\n",
              "      <th>name</th>\n",
              "      <td>Mary Goldring</td>\n",
              "    </tr>\n",
              "    <tr>\n",
              "      <th>text</th>\n",
              "      <td>mary goldring obe is a british business journa...</td>\n",
              "    </tr>\n",
              "    <tr>\n",
              "      <th>Text_Blob_Text</th>\n",
              "      <td>(m, a, r, y,  , g, o, l, d, r, i, n, g,  , o, ...</td>\n",
              "    </tr>\n",
              "  </tbody>\n",
              "</table>\n",
              "</div><br><label><b>dtype:</b> object</label>"
            ]
          },
          "metadata": {},
          "execution_count": 37
        }
      ]
    },
    {
      "cell_type": "markdown",
      "source": [
        "## Pattern Mining"
      ],
      "metadata": {
        "id": "UqMg33Hq1PFL"
      }
    },
    {
      "cell_type": "markdown",
      "source": [
        "### Vectorizing / BoW"
      ],
      "metadata": {
        "id": "zUlRjY327JZA"
      }
    },
    {
      "cell_type": "markdown",
      "source": [
        "Creating a bag of words in order to fit a TF-IDF model."
      ],
      "metadata": {
        "id": "nsi4GDWO1F-n"
      }
    },
    {
      "cell_type": "code",
      "source": [
        "vectorizer = CountVectorizer(stop_words='english')\n",
        "bow_vec = vectorizer.fit_transform(df_original[:]['text'])\n",
        "bow_vec"
      ],
      "metadata": {
        "id": "vlwj90Z6M1T6",
        "colab": {
          "base_uri": "https://localhost:8080/"
        },
        "outputId": "7aceeb94-3cdf-42d5-cb25-65b13ce50e48"
      },
      "execution_count": null,
      "outputs": [
        {
          "output_type": "execute_result",
          "data": {
            "text/plain": [
              "<42786x437190 sparse matrix of type '<class 'numpy.int64'>'\n",
              "\twith 5847547 stored elements in Compressed Sparse Row format>"
            ]
          },
          "metadata": {},
          "execution_count": 38
        }
      ]
    },
    {
      "cell_type": "markdown",
      "source": [
        "### TF-IDF"
      ],
      "metadata": {
        "id": "f96Y1wiFzkC7"
      }
    },
    {
      "cell_type": "markdown",
      "source": [
        "Transforming the bag of words vector to TF-IDF in order to perform a nearest neighbors comparison on the words."
      ],
      "metadata": {
        "id": "8x9aEPRC1TIu"
      }
    },
    {
      "cell_type": "code",
      "source": [
        "tf_idf_vec = TfidfTransformer()\n",
        "tf_idf_fit = tf_idf_vec.fit_transform(bow_vec)\n"
      ],
      "metadata": {
        "id": "CDoSHAYFzjTC"
      },
      "execution_count": null,
      "outputs": []
    },
    {
      "cell_type": "markdown",
      "source": [
        "### Nearest Neighbors"
      ],
      "metadata": {
        "id": "iKL7mrNx2hjx"
      }
    },
    {
      "cell_type": "markdown",
      "source": [
        "Fitt my TF-IDF data into the nearest neighbors model."
      ],
      "metadata": {
        "id": "R-EORR7_Ah49"
      }
    },
    {
      "cell_type": "code",
      "source": [
        "nn = NearestNeighbors().fit(tf_idf_fit)"
      ],
      "metadata": {
        "id": "UnMZYk232g4u"
      },
      "execution_count": null,
      "outputs": []
    },
    {
      "cell_type": "markdown",
      "source": [
        "### Inputting desired person. Requires index."
      ],
      "metadata": {
        "id": "jUlbJjGcVt4j"
      }
    },
    {
      "cell_type": "code",
      "source": [
        "df_original[df_original['name'] == 'Mary Goldring']"
      ],
      "metadata": {
        "colab": {
          "base_uri": "https://localhost:8080/",
          "height": 81
        },
        "id": "GwJgagP5QOM0",
        "outputId": "b2ba77eb-c77e-4882-ad31-5b3a1bce1b77"
      },
      "execution_count": null,
      "outputs": [
        {
          "output_type": "execute_result",
          "data": {
            "text/plain": [
              "                                            URI           name  \\\n",
              "55  <http://dbpedia.org/resource/Mary_Goldring>  Mary Goldring   \n",
              "\n",
              "                                                 text  \\\n",
              "55  mary goldring obe is a british business journa...   \n",
              "\n",
              "                                       Text_Blob_Text  \n",
              "55  (m, a, r, y,  , g, o, l, d, r, i, n, g,  , o, ...  "
            ],
            "text/html": [
              "\n",
              "  <div id=\"df-e3767673-2338-440b-ba76-6032cfaedc5b\" class=\"colab-df-container\">\n",
              "    <div>\n",
              "<style scoped>\n",
              "    .dataframe tbody tr th:only-of-type {\n",
              "        vertical-align: middle;\n",
              "    }\n",
              "\n",
              "    .dataframe tbody tr th {\n",
              "        vertical-align: top;\n",
              "    }\n",
              "\n",
              "    .dataframe thead th {\n",
              "        text-align: right;\n",
              "    }\n",
              "</style>\n",
              "<table border=\"1\" class=\"dataframe\">\n",
              "  <thead>\n",
              "    <tr style=\"text-align: right;\">\n",
              "      <th></th>\n",
              "      <th>URI</th>\n",
              "      <th>name</th>\n",
              "      <th>text</th>\n",
              "      <th>Text_Blob_Text</th>\n",
              "    </tr>\n",
              "  </thead>\n",
              "  <tbody>\n",
              "    <tr>\n",
              "      <th>55</th>\n",
              "      <td>&lt;http://dbpedia.org/resource/Mary_Goldring&gt;</td>\n",
              "      <td>Mary Goldring</td>\n",
              "      <td>mary goldring obe is a british business journa...</td>\n",
              "      <td>(m, a, r, y,  , g, o, l, d, r, i, n, g,  , o, ...</td>\n",
              "    </tr>\n",
              "  </tbody>\n",
              "</table>\n",
              "</div>\n",
              "    <div class=\"colab-df-buttons\">\n",
              "\n",
              "  <div class=\"colab-df-container\">\n",
              "    <button class=\"colab-df-convert\" onclick=\"convertToInteractive('df-e3767673-2338-440b-ba76-6032cfaedc5b')\"\n",
              "            title=\"Convert this dataframe to an interactive table.\"\n",
              "            style=\"display:none;\">\n",
              "\n",
              "  <svg xmlns=\"http://www.w3.org/2000/svg\" height=\"24px\" viewBox=\"0 -960 960 960\">\n",
              "    <path d=\"M120-120v-720h720v720H120Zm60-500h600v-160H180v160Zm220 220h160v-160H400v160Zm0 220h160v-160H400v160ZM180-400h160v-160H180v160Zm440 0h160v-160H620v160ZM180-180h160v-160H180v160Zm440 0h160v-160H620v160Z\"/>\n",
              "  </svg>\n",
              "    </button>\n",
              "\n",
              "  <style>\n",
              "    .colab-df-container {\n",
              "      display:flex;\n",
              "      gap: 12px;\n",
              "    }\n",
              "\n",
              "    .colab-df-convert {\n",
              "      background-color: #E8F0FE;\n",
              "      border: none;\n",
              "      border-radius: 50%;\n",
              "      cursor: pointer;\n",
              "      display: none;\n",
              "      fill: #1967D2;\n",
              "      height: 32px;\n",
              "      padding: 0 0 0 0;\n",
              "      width: 32px;\n",
              "    }\n",
              "\n",
              "    .colab-df-convert:hover {\n",
              "      background-color: #E2EBFA;\n",
              "      box-shadow: 0px 1px 2px rgba(60, 64, 67, 0.3), 0px 1px 3px 1px rgba(60, 64, 67, 0.15);\n",
              "      fill: #174EA6;\n",
              "    }\n",
              "\n",
              "    .colab-df-buttons div {\n",
              "      margin-bottom: 4px;\n",
              "    }\n",
              "\n",
              "    [theme=dark] .colab-df-convert {\n",
              "      background-color: #3B4455;\n",
              "      fill: #D2E3FC;\n",
              "    }\n",
              "\n",
              "    [theme=dark] .colab-df-convert:hover {\n",
              "      background-color: #434B5C;\n",
              "      box-shadow: 0px 1px 3px 1px rgba(0, 0, 0, 0.15);\n",
              "      filter: drop-shadow(0px 1px 2px rgba(0, 0, 0, 0.3));\n",
              "      fill: #FFFFFF;\n",
              "    }\n",
              "  </style>\n",
              "\n",
              "    <script>\n",
              "      const buttonEl =\n",
              "        document.querySelector('#df-e3767673-2338-440b-ba76-6032cfaedc5b button.colab-df-convert');\n",
              "      buttonEl.style.display =\n",
              "        google.colab.kernel.accessAllowed ? 'block' : 'none';\n",
              "\n",
              "      async function convertToInteractive(key) {\n",
              "        const element = document.querySelector('#df-e3767673-2338-440b-ba76-6032cfaedc5b');\n",
              "        const dataTable =\n",
              "          await google.colab.kernel.invokeFunction('convertToInteractive',\n",
              "                                                    [key], {});\n",
              "        if (!dataTable) return;\n",
              "\n",
              "        const docLinkHtml = 'Like what you see? Visit the ' +\n",
              "          '<a target=\"_blank\" href=https://colab.research.google.com/notebooks/data_table.ipynb>data table notebook</a>'\n",
              "          + ' to learn more about interactive tables.';\n",
              "        element.innerHTML = '';\n",
              "        dataTable['output_type'] = 'display_data';\n",
              "        await google.colab.output.renderOutput(dataTable, element);\n",
              "        const docLink = document.createElement('div');\n",
              "        docLink.innerHTML = docLinkHtml;\n",
              "        element.appendChild(docLink);\n",
              "      }\n",
              "    </script>\n",
              "  </div>\n",
              "\n",
              "\n",
              "    </div>\n",
              "  </div>\n"
            ],
            "application/vnd.google.colaboratory.intrinsic+json": {
              "type": "dataframe",
              "summary": "{\n  \"name\": \"df_original[df_original['name'] == 'Mary Goldring']\",\n  \"rows\": 1,\n  \"fields\": [\n    {\n      \"column\": \"URI\",\n      \"properties\": {\n        \"dtype\": \"string\",\n        \"num_unique_values\": 1,\n        \"samples\": [\n          \"<http://dbpedia.org/resource/Mary_Goldring>\"\n        ],\n        \"semantic_type\": \"\",\n        \"description\": \"\"\n      }\n    },\n    {\n      \"column\": \"name\",\n      \"properties\": {\n        \"dtype\": \"string\",\n        \"num_unique_values\": 1,\n        \"samples\": [\n          \"Mary Goldring\"\n        ],\n        \"semantic_type\": \"\",\n        \"description\": \"\"\n      }\n    },\n    {\n      \"column\": \"text\",\n      \"properties\": {\n        \"dtype\": \"string\",\n        \"num_unique_values\": 1,\n        \"samples\": [\n          \"mary goldring obe is a british business journalist and broadcasteran economist who graduated from lady margaret hall oxford university goldring turned to journalism in the late 1940s and became a member of staff at the economist where for a long time she was its business editor rising to the rank of deputy editor alongside norman mcrae she left the paper suddenly in spring 1974 following a dispute over its editorship in the wake of the surprise departure of alastair burnet who left to become editor of the daily expressgoldring then moved to the bbc and meantime also wrote a weekly column for the investors chronicle edited at the time by andreas whittam smith in 1976 she became one of the main regular presenters of bbc radio 4s analysis series of analytical authored currentaffairs documentaries she developed it into a flagship programme staying with it until 1987 she also made five series of television documentaries the goldring audit for channel 4 screened from 1993 to 1998in the late 1960s mary goldring became particularly noted as the economists aviation correspondent for her sustained and trenchant critique of the development programme for the anglofrench concorde supersonic aircraft on the basis of noise pollution and above all what she predicted would be disastrous commercial economics an almost solitary voice of dissent at the time her views turned out to be wellfounded\"\n        ],\n        \"semantic_type\": \"\",\n        \"description\": \"\"\n      }\n    },\n    {\n      \"column\": \"Text_Blob_Text\",\n      \"properties\": {\n        \"dtype\": \"string\",\n        \"num_unique_values\": 1,\n        \"samples\": [\n          \"mary goldring obe is a british business journalist and broadcasteran economist who graduated from lady margaret hall oxford university goldring turned to journalism in the late 1940s and became a member of staff at the economist where for a long time she was its business editor rising to the rank of deputy editor alongside norman mcrae she left the paper suddenly in spring 1974 following a dispute over its editorship in the wake of the surprise departure of alastair burnet who left to become editor of the daily expressgoldring then moved to the bbc and meantime also wrote a weekly column for the investors chronicle edited at the time by andreas whittam smith in 1976 she became one of the main regular presenters of bbc radio 4s analysis series of analytical authored currentaffairs documentaries she developed it into a flagship programme staying with it until 1987 she also made five series of television documentaries the goldring audit for channel 4 screened from 1993 to 1998in the late 1960s mary goldring became particularly noted as the economists aviation correspondent for her sustained and trenchant critique of the development programme for the anglofrench concorde supersonic aircraft on the basis of noise pollution and above all what she predicted would be disastrous commercial economics an almost solitary voice of dissent at the time her views turned out to be wellfounded\"\n        ],\n        \"semantic_type\": \"\",\n        \"description\": \"\"\n      }\n    }\n  ]\n}"
            }
          },
          "metadata": {},
          "execution_count": 86
        }
      ]
    },
    {
      "cell_type": "markdown",
      "source": [
        "In the case below, person 55 was chosen at random, and made into a reference."
      ],
      "metadata": {
        "id": "5Fo_rjjW1cEe"
      }
    },
    {
      "cell_type": "code",
      "source": [
        "sent0 = tf_idf_fit[55]\n",
        "sent0.shape"
      ],
      "metadata": {
        "id": "H2NjLXyE2p0T",
        "colab": {
          "base_uri": "https://localhost:8080/"
        },
        "outputId": "a37573a9-801f-40fd-b1f0-ccbec76f6ca0"
      },
      "execution_count": null,
      "outputs": [
        {
          "output_type": "execute_result",
          "data": {
            "text/plain": [
              "(1, 437190)"
            ]
          },
          "metadata": {},
          "execution_count": 41
        }
      ]
    },
    {
      "cell_type": "code",
      "source": [
        "distances, indices = nn.kneighbors(\n",
        "  X = sent0,\n",
        "  n_neighbors = 11,\n",
        ")"
      ],
      "metadata": {
        "id": "eaVQFFGY3fdl"
      },
      "execution_count": null,
      "outputs": []
    },
    {
      "cell_type": "code",
      "source": [
        "distances"
      ],
      "metadata": {
        "id": "oGB3ZNFc3rJQ",
        "colab": {
          "base_uri": "https://localhost:8080/"
        },
        "outputId": "0d6ff434-63e2-4b9a-d38c-fac9be083d68"
      },
      "execution_count": null,
      "outputs": [
        {
          "output_type": "execute_result",
          "data": {
            "text/plain": [
              "array([[0.        , 1.31359919, 1.33099633, 1.33208976, 1.3334915 ,\n",
              "        1.33508681, 1.3369001 , 1.33863531, 1.3397137 , 1.34067823,\n",
              "        1.34154   ]])"
            ]
          },
          "metadata": {},
          "execution_count": 43
        }
      ]
    },
    {
      "cell_type": "code",
      "source": [
        "indices"
      ],
      "metadata": {
        "id": "JlHMlF8SbMk4",
        "colab": {
          "base_uri": "https://localhost:8080/"
        },
        "outputId": "27fce98c-7fdc-4bf7-cd85-adfbc8ced355"
      },
      "execution_count": null,
      "outputs": [
        {
          "output_type": "execute_result",
          "data": {
            "text/plain": [
              "array([[   55, 16046, 28857,   816, 31856, 25199, 10957, 27272, 15701,\n",
              "        32763, 42651]])"
            ]
          },
          "metadata": {},
          "execution_count": 44
        }
      ]
    },
    {
      "cell_type": "code",
      "source": [
        "transformed_data_frame = pd.DataFrame(indices)"
      ],
      "metadata": {
        "id": "aJ7Ca5ND3swo"
      },
      "execution_count": null,
      "outputs": []
    },
    {
      "cell_type": "code",
      "source": [
        "d_i = nn.kneighbors(sent0, n_neighbors = df_original.shape[0])\n",
        "distances, indices = np.array(d_i)\n",
        "distances**2, indices\n"
      ],
      "metadata": {
        "id": "nNG5qnQ8tD6X",
        "colab": {
          "base_uri": "https://localhost:8080/"
        },
        "outputId": "e1a31287-69d8-42d2-94f9-8344271b6f0f"
      },
      "execution_count": null,
      "outputs": [
        {
          "output_type": "execute_result",
          "data": {
            "text/plain": [
              "(array([[0.        , 1.72554282, 1.77155124, ..., 2.        , 2.        ,\n",
              "         2.        ]]),\n",
              " array([[   55., 16046., 28857., ...,  8456., 29318., 30817.]]))"
            ]
          },
          "metadata": {},
          "execution_count": 46
        }
      ]
    },
    {
      "cell_type": "code",
      "source": [
        "indices = indices.flatten()  # Convert 2D array to 1D\n",
        "distances = distances.flatten() # Convert 2D distances to 1D\n",
        "\n",
        "new_df = (\n",
        "  df_original\n",
        "    .iloc[indices]\n",
        "    .join( pd.DataFrame( { \"distances^2\": distances**2 }, index = indices ) )\n",
        ")\n",
        "\n"
      ],
      "metadata": {
        "id": "SRn7NSswtegu"
      },
      "execution_count": null,
      "outputs": []
    },
    {
      "cell_type": "code",
      "source": [
        "new_df = new_df.reset_index()"
      ],
      "metadata": {
        "id": "FMiNhaeAuDUh"
      },
      "execution_count": null,
      "outputs": []
    },
    {
      "cell_type": "code",
      "source": [
        "new_df[['index', 'name', 'distances^2']].head(11)"
      ],
      "metadata": {
        "id": "T7XlSw7vuTNR",
        "colab": {
          "base_uri": "https://localhost:8080/",
          "height": 394
        },
        "outputId": "603edc6b-002b-4d11-934c-3b7ebf76d680"
      },
      "execution_count": null,
      "outputs": [
        {
          "output_type": "execute_result",
          "data": {
            "text/plain": [
              "      index                             name  distances^2\n",
              "0      55.0                    Mary Goldring     0.000000\n",
              "1   16046.0            Andreas Whittam Smith     1.725543\n",
              "2   28857.0                      Ceri Thomas     1.771551\n",
              "3     816.0  Bruce Reynolds (TV personality)     1.774463\n",
              "4   31856.0                     Bill Hagerty     1.778200\n",
              "5   25199.0                      Mike Embley     1.782457\n",
              "6   10957.0                   Terri Thompson     1.787302\n",
              "7   27272.0                   Russell Davies     1.791944\n",
              "8   15701.0                  Brian MacArthur     1.794833\n",
              "9   32763.0                   David Stafford     1.797418\n",
              "10  42651.0                    Brian Walpole     1.799730"
            ],
            "text/html": [
              "\n",
              "  <div id=\"df-1d3e5075-4c4f-4084-a1b5-692209824e91\" class=\"colab-df-container\">\n",
              "    <div>\n",
              "<style scoped>\n",
              "    .dataframe tbody tr th:only-of-type {\n",
              "        vertical-align: middle;\n",
              "    }\n",
              "\n",
              "    .dataframe tbody tr th {\n",
              "        vertical-align: top;\n",
              "    }\n",
              "\n",
              "    .dataframe thead th {\n",
              "        text-align: right;\n",
              "    }\n",
              "</style>\n",
              "<table border=\"1\" class=\"dataframe\">\n",
              "  <thead>\n",
              "    <tr style=\"text-align: right;\">\n",
              "      <th></th>\n",
              "      <th>index</th>\n",
              "      <th>name</th>\n",
              "      <th>distances^2</th>\n",
              "    </tr>\n",
              "  </thead>\n",
              "  <tbody>\n",
              "    <tr>\n",
              "      <th>0</th>\n",
              "      <td>55.0</td>\n",
              "      <td>Mary Goldring</td>\n",
              "      <td>0.000000</td>\n",
              "    </tr>\n",
              "    <tr>\n",
              "      <th>1</th>\n",
              "      <td>16046.0</td>\n",
              "      <td>Andreas Whittam Smith</td>\n",
              "      <td>1.725543</td>\n",
              "    </tr>\n",
              "    <tr>\n",
              "      <th>2</th>\n",
              "      <td>28857.0</td>\n",
              "      <td>Ceri Thomas</td>\n",
              "      <td>1.771551</td>\n",
              "    </tr>\n",
              "    <tr>\n",
              "      <th>3</th>\n",
              "      <td>816.0</td>\n",
              "      <td>Bruce Reynolds (TV personality)</td>\n",
              "      <td>1.774463</td>\n",
              "    </tr>\n",
              "    <tr>\n",
              "      <th>4</th>\n",
              "      <td>31856.0</td>\n",
              "      <td>Bill Hagerty</td>\n",
              "      <td>1.778200</td>\n",
              "    </tr>\n",
              "    <tr>\n",
              "      <th>5</th>\n",
              "      <td>25199.0</td>\n",
              "      <td>Mike Embley</td>\n",
              "      <td>1.782457</td>\n",
              "    </tr>\n",
              "    <tr>\n",
              "      <th>6</th>\n",
              "      <td>10957.0</td>\n",
              "      <td>Terri Thompson</td>\n",
              "      <td>1.787302</td>\n",
              "    </tr>\n",
              "    <tr>\n",
              "      <th>7</th>\n",
              "      <td>27272.0</td>\n",
              "      <td>Russell Davies</td>\n",
              "      <td>1.791944</td>\n",
              "    </tr>\n",
              "    <tr>\n",
              "      <th>8</th>\n",
              "      <td>15701.0</td>\n",
              "      <td>Brian MacArthur</td>\n",
              "      <td>1.794833</td>\n",
              "    </tr>\n",
              "    <tr>\n",
              "      <th>9</th>\n",
              "      <td>32763.0</td>\n",
              "      <td>David Stafford</td>\n",
              "      <td>1.797418</td>\n",
              "    </tr>\n",
              "    <tr>\n",
              "      <th>10</th>\n",
              "      <td>42651.0</td>\n",
              "      <td>Brian Walpole</td>\n",
              "      <td>1.799730</td>\n",
              "    </tr>\n",
              "  </tbody>\n",
              "</table>\n",
              "</div>\n",
              "    <div class=\"colab-df-buttons\">\n",
              "\n",
              "  <div class=\"colab-df-container\">\n",
              "    <button class=\"colab-df-convert\" onclick=\"convertToInteractive('df-1d3e5075-4c4f-4084-a1b5-692209824e91')\"\n",
              "            title=\"Convert this dataframe to an interactive table.\"\n",
              "            style=\"display:none;\">\n",
              "\n",
              "  <svg xmlns=\"http://www.w3.org/2000/svg\" height=\"24px\" viewBox=\"0 -960 960 960\">\n",
              "    <path d=\"M120-120v-720h720v720H120Zm60-500h600v-160H180v160Zm220 220h160v-160H400v160Zm0 220h160v-160H400v160ZM180-400h160v-160H180v160Zm440 0h160v-160H620v160ZM180-180h160v-160H180v160Zm440 0h160v-160H620v160Z\"/>\n",
              "  </svg>\n",
              "    </button>\n",
              "\n",
              "  <style>\n",
              "    .colab-df-container {\n",
              "      display:flex;\n",
              "      gap: 12px;\n",
              "    }\n",
              "\n",
              "    .colab-df-convert {\n",
              "      background-color: #E8F0FE;\n",
              "      border: none;\n",
              "      border-radius: 50%;\n",
              "      cursor: pointer;\n",
              "      display: none;\n",
              "      fill: #1967D2;\n",
              "      height: 32px;\n",
              "      padding: 0 0 0 0;\n",
              "      width: 32px;\n",
              "    }\n",
              "\n",
              "    .colab-df-convert:hover {\n",
              "      background-color: #E2EBFA;\n",
              "      box-shadow: 0px 1px 2px rgba(60, 64, 67, 0.3), 0px 1px 3px 1px rgba(60, 64, 67, 0.15);\n",
              "      fill: #174EA6;\n",
              "    }\n",
              "\n",
              "    .colab-df-buttons div {\n",
              "      margin-bottom: 4px;\n",
              "    }\n",
              "\n",
              "    [theme=dark] .colab-df-convert {\n",
              "      background-color: #3B4455;\n",
              "      fill: #D2E3FC;\n",
              "    }\n",
              "\n",
              "    [theme=dark] .colab-df-convert:hover {\n",
              "      background-color: #434B5C;\n",
              "      box-shadow: 0px 1px 3px 1px rgba(0, 0, 0, 0.15);\n",
              "      filter: drop-shadow(0px 1px 2px rgba(0, 0, 0, 0.3));\n",
              "      fill: #FFFFFF;\n",
              "    }\n",
              "  </style>\n",
              "\n",
              "    <script>\n",
              "      const buttonEl =\n",
              "        document.querySelector('#df-1d3e5075-4c4f-4084-a1b5-692209824e91 button.colab-df-convert');\n",
              "      buttonEl.style.display =\n",
              "        google.colab.kernel.accessAllowed ? 'block' : 'none';\n",
              "\n",
              "      async function convertToInteractive(key) {\n",
              "        const element = document.querySelector('#df-1d3e5075-4c4f-4084-a1b5-692209824e91');\n",
              "        const dataTable =\n",
              "          await google.colab.kernel.invokeFunction('convertToInteractive',\n",
              "                                                    [key], {});\n",
              "        if (!dataTable) return;\n",
              "\n",
              "        const docLinkHtml = 'Like what you see? Visit the ' +\n",
              "          '<a target=\"_blank\" href=https://colab.research.google.com/notebooks/data_table.ipynb>data table notebook</a>'\n",
              "          + ' to learn more about interactive tables.';\n",
              "        element.innerHTML = '';\n",
              "        dataTable['output_type'] = 'display_data';\n",
              "        await google.colab.output.renderOutput(dataTable, element);\n",
              "        const docLink = document.createElement('div');\n",
              "        docLink.innerHTML = docLinkHtml;\n",
              "        element.appendChild(docLink);\n",
              "      }\n",
              "    </script>\n",
              "  </div>\n",
              "\n",
              "\n",
              "<div id=\"df-455dd5f0-90ec-4e2c-aa70-88b1a23d4c47\">\n",
              "  <button class=\"colab-df-quickchart\" onclick=\"quickchart('df-455dd5f0-90ec-4e2c-aa70-88b1a23d4c47')\"\n",
              "            title=\"Suggest charts\"\n",
              "            style=\"display:none;\">\n",
              "\n",
              "<svg xmlns=\"http://www.w3.org/2000/svg\" height=\"24px\"viewBox=\"0 0 24 24\"\n",
              "     width=\"24px\">\n",
              "    <g>\n",
              "        <path d=\"M19 3H5c-1.1 0-2 .9-2 2v14c0 1.1.9 2 2 2h14c1.1 0 2-.9 2-2V5c0-1.1-.9-2-2-2zM9 17H7v-7h2v7zm4 0h-2V7h2v10zm4 0h-2v-4h2v4z\"/>\n",
              "    </g>\n",
              "</svg>\n",
              "  </button>\n",
              "\n",
              "<style>\n",
              "  .colab-df-quickchart {\n",
              "      --bg-color: #E8F0FE;\n",
              "      --fill-color: #1967D2;\n",
              "      --hover-bg-color: #E2EBFA;\n",
              "      --hover-fill-color: #174EA6;\n",
              "      --disabled-fill-color: #AAA;\n",
              "      --disabled-bg-color: #DDD;\n",
              "  }\n",
              "\n",
              "  [theme=dark] .colab-df-quickchart {\n",
              "      --bg-color: #3B4455;\n",
              "      --fill-color: #D2E3FC;\n",
              "      --hover-bg-color: #434B5C;\n",
              "      --hover-fill-color: #FFFFFF;\n",
              "      --disabled-bg-color: #3B4455;\n",
              "      --disabled-fill-color: #666;\n",
              "  }\n",
              "\n",
              "  .colab-df-quickchart {\n",
              "    background-color: var(--bg-color);\n",
              "    border: none;\n",
              "    border-radius: 50%;\n",
              "    cursor: pointer;\n",
              "    display: none;\n",
              "    fill: var(--fill-color);\n",
              "    height: 32px;\n",
              "    padding: 0;\n",
              "    width: 32px;\n",
              "  }\n",
              "\n",
              "  .colab-df-quickchart:hover {\n",
              "    background-color: var(--hover-bg-color);\n",
              "    box-shadow: 0 1px 2px rgba(60, 64, 67, 0.3), 0 1px 3px 1px rgba(60, 64, 67, 0.15);\n",
              "    fill: var(--button-hover-fill-color);\n",
              "  }\n",
              "\n",
              "  .colab-df-quickchart-complete:disabled,\n",
              "  .colab-df-quickchart-complete:disabled:hover {\n",
              "    background-color: var(--disabled-bg-color);\n",
              "    fill: var(--disabled-fill-color);\n",
              "    box-shadow: none;\n",
              "  }\n",
              "\n",
              "  .colab-df-spinner {\n",
              "    border: 2px solid var(--fill-color);\n",
              "    border-color: transparent;\n",
              "    border-bottom-color: var(--fill-color);\n",
              "    animation:\n",
              "      spin 1s steps(1) infinite;\n",
              "  }\n",
              "\n",
              "  @keyframes spin {\n",
              "    0% {\n",
              "      border-color: transparent;\n",
              "      border-bottom-color: var(--fill-color);\n",
              "      border-left-color: var(--fill-color);\n",
              "    }\n",
              "    20% {\n",
              "      border-color: transparent;\n",
              "      border-left-color: var(--fill-color);\n",
              "      border-top-color: var(--fill-color);\n",
              "    }\n",
              "    30% {\n",
              "      border-color: transparent;\n",
              "      border-left-color: var(--fill-color);\n",
              "      border-top-color: var(--fill-color);\n",
              "      border-right-color: var(--fill-color);\n",
              "    }\n",
              "    40% {\n",
              "      border-color: transparent;\n",
              "      border-right-color: var(--fill-color);\n",
              "      border-top-color: var(--fill-color);\n",
              "    }\n",
              "    60% {\n",
              "      border-color: transparent;\n",
              "      border-right-color: var(--fill-color);\n",
              "    }\n",
              "    80% {\n",
              "      border-color: transparent;\n",
              "      border-right-color: var(--fill-color);\n",
              "      border-bottom-color: var(--fill-color);\n",
              "    }\n",
              "    90% {\n",
              "      border-color: transparent;\n",
              "      border-bottom-color: var(--fill-color);\n",
              "    }\n",
              "  }\n",
              "</style>\n",
              "\n",
              "  <script>\n",
              "    async function quickchart(key) {\n",
              "      const quickchartButtonEl =\n",
              "        document.querySelector('#' + key + ' button');\n",
              "      quickchartButtonEl.disabled = true;  // To prevent multiple clicks.\n",
              "      quickchartButtonEl.classList.add('colab-df-spinner');\n",
              "      try {\n",
              "        const charts = await google.colab.kernel.invokeFunction(\n",
              "            'suggestCharts', [key], {});\n",
              "      } catch (error) {\n",
              "        console.error('Error during call to suggestCharts:', error);\n",
              "      }\n",
              "      quickchartButtonEl.classList.remove('colab-df-spinner');\n",
              "      quickchartButtonEl.classList.add('colab-df-quickchart-complete');\n",
              "    }\n",
              "    (() => {\n",
              "      let quickchartButtonEl =\n",
              "        document.querySelector('#df-455dd5f0-90ec-4e2c-aa70-88b1a23d4c47 button');\n",
              "      quickchartButtonEl.style.display =\n",
              "        google.colab.kernel.accessAllowed ? 'block' : 'none';\n",
              "    })();\n",
              "  </script>\n",
              "</div>\n",
              "\n",
              "    </div>\n",
              "  </div>\n"
            ],
            "application/vnd.google.colaboratory.intrinsic+json": {
              "type": "dataframe",
              "summary": "{\n  \"name\": \"new_df[['index', 'name', 'distances^2']]\",\n  \"rows\": 11,\n  \"fields\": [\n    {\n      \"column\": \"index\",\n      \"properties\": {\n        \"dtype\": \"number\",\n        \"std\": 13576.206769733048,\n        \"min\": 55.0,\n        \"max\": 42651.0,\n        \"num_unique_values\": 11,\n        \"samples\": [\n          25199.0,\n          55.0,\n          32763.0\n        ],\n        \"semantic_type\": \"\",\n        \"description\": \"\"\n      }\n    },\n    {\n      \"column\": \"name\",\n      \"properties\": {\n        \"dtype\": \"string\",\n        \"num_unique_values\": 11,\n        \"samples\": [\n          \"Mike Embley\",\n          \"Mary Goldring\",\n          \"David Stafford\"\n        ],\n        \"semantic_type\": \"\",\n        \"description\": \"\"\n      }\n    },\n    {\n      \"column\": \"distances^2\",\n      \"properties\": {\n        \"dtype\": \"number\",\n        \"std\": 0.5371835391385054,\n        \"min\": 0.0,\n        \"max\": 1.7997295768630408,\n        \"num_unique_values\": 11,\n        \"samples\": [\n          1.7824567832785083,\n          0.0,\n          1.7974181277550763\n        ],\n        \"semantic_type\": \"\",\n        \"description\": \"\"\n      }\n    }\n  ]\n}"
            }
          },
          "metadata": {},
          "execution_count": 49
        }
      ]
    },
    {
      "cell_type": "markdown",
      "source": [
        "## Part 2"
      ],
      "metadata": {
        "id": "iuEOzrGZQf-2"
      }
    },
    {
      "cell_type": "markdown",
      "source": [
        "Imports again. For some reason these do not work when I put them at the top of my notebook."
      ],
      "metadata": {
        "id": "wihQRpekAxSb"
      }
    },
    {
      "cell_type": "code",
      "source": [
        "%%capture output\n",
        "#install Wikipedia API\n",
        "!pip3 install wikipedia-api\n",
        "import wikipediaapi"
      ],
      "metadata": {
        "id": "7QFhymW9RMXT"
      },
      "execution_count": null,
      "outputs": []
    },
    {
      "cell_type": "code",
      "source": [
        "!python -m textblob.download_corpora\n",
        "!pip install -U textblob\n",
        "import nltk\n",
        "nltk.download('punkt_tab')"
      ],
      "metadata": {
        "id": "pB7ySfvqWhLF",
        "colab": {
          "base_uri": "https://localhost:8080/"
        },
        "outputId": "091a7d44-6a6b-438c-fadb-f15b358cbced"
      },
      "execution_count": null,
      "outputs": [
        {
          "output_type": "stream",
          "name": "stdout",
          "text": [
            "[nltk_data] Downloading package brown to /root/nltk_data...\n",
            "[nltk_data]   Package brown is already up-to-date!\n",
            "[nltk_data] Downloading package punkt to /root/nltk_data...\n",
            "[nltk_data]   Package punkt is already up-to-date!\n",
            "[nltk_data] Downloading package wordnet to /root/nltk_data...\n",
            "[nltk_data]   Package wordnet is already up-to-date!\n",
            "[nltk_data] Downloading package averaged_perceptron_tagger to\n",
            "[nltk_data]     /root/nltk_data...\n",
            "[nltk_data]   Package averaged_perceptron_tagger is already up-to-\n",
            "[nltk_data]       date!\n",
            "[nltk_data] Downloading package conll2000 to /root/nltk_data...\n",
            "[nltk_data]   Package conll2000 is already up-to-date!\n",
            "[nltk_data] Downloading package movie_reviews to /root/nltk_data...\n",
            "[nltk_data]   Package movie_reviews is already up-to-date!\n",
            "Finished.\n",
            "Requirement already satisfied: textblob in /usr/local/lib/python3.10/dist-packages (0.18.0.post0)\n",
            "Requirement already satisfied: nltk>=3.8 in /usr/local/lib/python3.10/dist-packages (from textblob) (3.9.1)\n",
            "Requirement already satisfied: click in /usr/local/lib/python3.10/dist-packages (from nltk>=3.8->textblob) (8.1.7)\n",
            "Requirement already satisfied: joblib in /usr/local/lib/python3.10/dist-packages (from nltk>=3.8->textblob) (1.4.2)\n",
            "Requirement already satisfied: regex>=2021.8.3 in /usr/local/lib/python3.10/dist-packages (from nltk>=3.8->textblob) (2024.9.11)\n",
            "Requirement already satisfied: tqdm in /usr/local/lib/python3.10/dist-packages (from nltk>=3.8->textblob) (4.66.6)\n"
          ]
        },
        {
          "output_type": "stream",
          "name": "stderr",
          "text": [
            "[nltk_data] Downloading package punkt_tab to /root/nltk_data...\n",
            "[nltk_data]   Package punkt_tab is already up-to-date!\n"
          ]
        },
        {
          "output_type": "execute_result",
          "data": {
            "text/plain": [
              "True"
            ]
          },
          "metadata": {},
          "execution_count": 51
        }
      ]
    },
    {
      "cell_type": "code",
      "source": [
        "df_original.iloc[55]['URI']"
      ],
      "metadata": {
        "id": "YYjFJuMcRoXg",
        "colab": {
          "base_uri": "https://localhost:8080/",
          "height": 36
        },
        "outputId": "30864e1c-ac91-4145-a644-e1d3bf134656"
      },
      "execution_count": null,
      "outputs": [
        {
          "output_type": "execute_result",
          "data": {
            "text/plain": [
              "'<http://dbpedia.org/resource/Mary_Goldring>'"
            ],
            "application/vnd.google.colaboratory.intrinsic+json": {
              "type": "string"
            }
          },
          "metadata": {},
          "execution_count": 52
        }
      ]
    },
    {
      "cell_type": "markdown",
      "source": [
        "Checking below to see if Mary Goldring's wiki page is loading properly."
      ],
      "metadata": {
        "id": "zyjiuHekAM7T"
      }
    },
    {
      "cell_type": "code",
      "source": [
        "topic = 'Mary_Goldring'\n",
        "wikip = wikipediaapi.Wikipedia(user_agent = 'foobar')\n",
        "page_ex = wikip.page(topic)\n",
        "wiki_text = page_ex.text\n",
        "wiki_text"
      ],
      "metadata": {
        "id": "VxpYLqKWSnCV",
        "colab": {
          "base_uri": "https://localhost:8080/",
          "height": 165
        },
        "outputId": "c95d82ff-3257-40be-a52f-10472ea3dace"
      },
      "execution_count": null,
      "outputs": [
        {
          "output_type": "execute_result",
          "data": {
            "text/plain": [
              "\"Mary Sheila Goldring  (born 1923 - died 2016) was a British business journalist and broadcaster.\\nAn economist who graduated from Lady Margaret Hall, Oxford University, Goldring turned to journalism in the late 1940s and became a member of staff at The Economist, where for a long time she was its Business Editor, rising to the rank of Deputy Editor alongside Norman McRae. She left the paper suddenly in spring 1974 following a dispute over its editorship in the wake of the surprise departure of Alastair Burnet, who left to become editor of the Daily Express.\\nGoldring then moved to the BBC and meantime also wrote a weekly column for the Investors Chronicle, edited at the time by Andreas Whittam Smith. In 1976 she became one of the main regular presenters of BBC Radio 4's Analysis series of analytical authored current-affairs documentaries. She developed it into a flagship programme, staying with it until 1987. She also made five series of television documentaries, the Goldring Audit, for Channel 4 screened from 1993 to 1998.\\nIn the late 1960s, Mary Goldring was The Economist's aviation correspondent, a post in which she was highly critical of the development programme for the Anglo-French Concorde supersonic aircraft, on the basis of noise, pollution and above all what she predicted would be disastrous commercial economics.\\n\\nBooks\\nGoldring, Mary Sheila (1957). Economics of Atomic Energy. London: Butterworths Scientific.\\n\\nExternal links\\n'I said Concorde would be an expensive mistake. I was right.' BBC audio extract, 17 October 2003.\\n“Replanning Britain’s Nuclear Power Programme”, The Journal of the British Nuclear Energy Society”, July 1964\\nMary Goldring Filmography, the British Film Institute\\nANALYSIS IN AFRICA! Chignell, H. (2003) ‘BBC Radio 4’s Analysis and Africa: How the flagship current affairs programme covered Africa in the 1970s and early 1980s’, The Radio Journal: International Studies in Broadcast and Audio Media, 1 (2) pp 101-111\\n\\n\\n== References ==\""
            ],
            "application/vnd.google.colaboratory.intrinsic+json": {
              "type": "string"
            }
          },
          "metadata": {},
          "execution_count": 53
        }
      ]
    },
    {
      "cell_type": "code",
      "source": [
        "TextBlob(wiki_text)"
      ],
      "metadata": {
        "collapsed": true,
        "id": "i-mg3N9jTyD4",
        "colab": {
          "base_uri": "https://localhost:8080/"
        },
        "outputId": "31e41586-b8af-4474-8b96-2088a171c4af"
      },
      "execution_count": null,
      "outputs": [
        {
          "output_type": "execute_result",
          "data": {
            "text/plain": [
              "TextBlob(\"Mary Sheila Goldring  (born 1923 - died 2016) was a British business journalist and broadcaster.\n",
              "An economist who graduated from Lady Margaret Hall, Oxford University, Goldring turned to journalism in the late 1940s and became a member of staff at The Economist, where for a long time she was its Business Editor, rising to the rank of Deputy Editor alongside Norman McRae. She left the paper suddenly in spring 1974 following a dispute over its editorship in the wake of the surprise departure of Alastair Burnet, who left to become editor of the Daily Express.\n",
              "Goldring then moved to the BBC and meantime also wrote a weekly column for the Investors Chronicle, edited at the time by Andreas Whittam Smith. In 1976 she became one of the main regular presenters of BBC Radio 4's Analysis series of analytical authored current-affairs documentaries. She developed it into a flagship programme, staying with it until 1987. She also made five series of television documentaries, the Goldring Audit, for Channel 4 screened from 1993 to 1998.\n",
              "In the late 1960s, Mary Goldring was The Economist's aviation correspondent, a post in which she was highly critical of the development programme for the Anglo-French Concorde supersonic aircraft, on the basis of noise, pollution and above all what she predicted would be disastrous commercial economics.\n",
              "\n",
              "Books\n",
              "Goldring, Mary Sheila (1957). Economics of Atomic Energy. London: Butterworths Scientific.\n",
              "\n",
              "External links\n",
              "'I said Concorde would be an expensive mistake. I was right.' BBC audio extract, 17 October 2003.\n",
              "“Replanning Britain’s Nuclear Power Programme”, The Journal of the British Nuclear Energy Society”, July 1964\n",
              "Mary Goldring Filmography, the British Film Institute\n",
              "ANALYSIS IN AFRICA! Chignell, H. (2003) ‘BBC Radio 4’s Analysis and Africa: How the flagship current affairs programme covered Africa in the 1970s and early 1980s’, The Radio Journal: International Studies in Broadcast and Audio Media, 1 (2) pp 101-111\n",
              "\n",
              "\n",
              "== References ==\")"
            ]
          },
          "metadata": {},
          "execution_count": 54
        }
      ]
    },
    {
      "cell_type": "code",
      "source": [
        "Mary_Goldring_Sentiment = TextBlob(wiki_text).sentiment\n",
        "Mary_Goldring_Sentiment"
      ],
      "metadata": {
        "id": "wyWQkQPxT-P3",
        "colab": {
          "base_uri": "https://localhost:8080/"
        },
        "outputId": "3fe3f887-7d2b-4a99-a6b0-a0e934a061da"
      },
      "execution_count": null,
      "outputs": [
        {
          "output_type": "execute_result",
          "data": {
            "text/plain": [
              "Sentiment(polarity=-0.07990476190476191, subjectivity=0.3018388278388278)"
            ]
          },
          "metadata": {},
          "execution_count": 55
        }
      ]
    },
    {
      "cell_type": "markdown",
      "source": [
        "### With 10 closest nearest neighbors\n"
      ],
      "metadata": {
        "id": "CdJOiKcEbxse"
      }
    },
    {
      "cell_type": "markdown",
      "source": [
        "Printing out a dataframe top_ten_nn to see who the people closest to Mary Goldring are."
      ],
      "metadata": {
        "id": "NbunPbAUA_0i"
      }
    },
    {
      "cell_type": "code",
      "source": [
        "top_ten_nn = new_df[['index', 'URI', 'name', 'distances^2']]"
      ],
      "metadata": {
        "id": "c98srSTfdgUJ"
      },
      "execution_count": null,
      "outputs": []
    },
    {
      "cell_type": "code",
      "source": [
        "top_ten_nn = top_ten_nn.head(12)"
      ],
      "metadata": {
        "id": "hS545R2aOo-z"
      },
      "execution_count": null,
      "outputs": []
    },
    {
      "cell_type": "markdown",
      "source": [
        "### Function to retireve wiki text."
      ],
      "metadata": {
        "id": "yh1Q4sapQQJa"
      }
    },
    {
      "cell_type": "markdown",
      "source": [
        "Below is a function meant to get the entire text from a person's wikipedia page. It uses a similar code to that used above, but it's just in a function so I can use it on the people from the top_ten_nn dataframe."
      ],
      "metadata": {
        "id": "bAFKQMU_BG3Q"
      }
    },
    {
      "cell_type": "code",
      "source": [
        "def get_wiki_text(person_name):\n",
        "  \"\"\"\"\n",
        "  Args: Takes the person's name. Needs to be a string.\n",
        "    person_name: The link to the person's name.\n",
        "    Returns: The text of the desired indices.\n",
        "  \"\"\"\n",
        "  wikip = wikipediaapi.Wikipedia(user_agent = 'foobar')\n",
        "  page = wikip.page(person_name)\n",
        "  if page.exists():\n",
        "    return page.text\n",
        "  else:\n",
        "    return None"
      ],
      "metadata": {
        "id": "trvZy0mcfza8"
      },
      "execution_count": null,
      "outputs": []
    },
    {
      "cell_type": "markdown",
      "source": [
        "### For loop to pull the texts from the function."
      ],
      "metadata": {
        "id": "SEEf9af2QVow"
      }
    },
    {
      "cell_type": "markdown",
      "source": [
        "Pulls the text from wikipedia based on the person's name from the top_ten_nn."
      ],
      "metadata": {
        "id": "AhKjiA6KBn8Y"
      }
    },
    {
      "cell_type": "code",
      "source": [
        "top_ten_texts = []\n",
        "\n",
        "for name in top_ten_nn['name']:\n",
        "    wiki_text = get_wiki_text(name)\n",
        "    if wiki_text:\n",
        "        top_ten_texts.append(wiki_text)\n"
      ],
      "metadata": {
        "id": "H7SqQ_3nPm60"
      },
      "execution_count": null,
      "outputs": []
    },
    {
      "cell_type": "markdown",
      "source": [
        "### Coverting List into String Objects"
      ],
      "metadata": {
        "id": "85s7_fEoRv6L"
      }
    },
    {
      "cell_type": "markdown",
      "source": [
        "Converting the texts into strings so they can be cleaned below."
      ],
      "metadata": {
        "id": "Rg2r8ULPBuzi"
      }
    },
    {
      "cell_type": "code",
      "source": [
        "top_ten_texts_str = [str(text) for text in top_ten_texts]"
      ],
      "metadata": {
        "id": "f0z7H-EXRo3S"
      },
      "execution_count": null,
      "outputs": []
    },
    {
      "cell_type": "markdown",
      "source": [
        "## Data Cleaning"
      ],
      "metadata": {
        "id": "8CkqOZoq5SwO"
      }
    },
    {
      "cell_type": "markdown",
      "source": [
        "### Cleaning the Strings"
      ],
      "metadata": {
        "id": "WHMcnCpESNo4"
      }
    },
    {
      "cell_type": "markdown",
      "source": [
        "Have to do a for loop because this is a list. Getting rid of all the strange symbols and other things that might make the text blobs less readable."
      ],
      "metadata": {
        "id": "c7GFSiRnUbId"
      }
    },
    {
      "cell_type": "code",
      "source": [
        "wiki_text_clean = []\n",
        "\n",
        "for text in top_ten_texts_str:\n",
        "    cleaned_text = (\n",
        "        text\n",
        "        .replace(\"\\n\", \" \")\n",
        "        .replace(\"\\'s\", \"\")\n",
        "        .replace(\"\\'\", \"\")\n",
        "    )\n",
        "    wiki_text_clean.append(cleaned_text)"
      ],
      "metadata": {
        "id": "eJsAZcpWTk-d"
      },
      "execution_count": null,
      "outputs": []
    },
    {
      "cell_type": "markdown",
      "source": [
        "### Converting Cleaned List Into Text Blobs"
      ],
      "metadata": {
        "id": "E5nFtCshUgaj"
      }
    },
    {
      "cell_type": "markdown",
      "source": [
        "Converting the clean text list into text blobs so I can perform a sentiment analysis on whichever one I want."
      ],
      "metadata": {
        "id": "bVFSdPM3Aq_-"
      }
    },
    {
      "cell_type": "code",
      "source": [
        "wiki_clean_text_textblobs = []\n",
        "\n",
        "for text in wiki_text_clean:\n",
        "  wiki_clean_text_blobs = TextBlob(text)\n",
        "  wiki_clean_text_textblobs.append(wiki_clean_text_blobs)"
      ],
      "metadata": {
        "id": "bKz5aKU2Utqi"
      },
      "execution_count": null,
      "outputs": []
    },
    {
      "cell_type": "markdown",
      "source": [
        "## Sentiment Analysis of Person 55"
      ],
      "metadata": {
        "id": "mF9jq1qz6WIS"
      }
    },
    {
      "cell_type": "markdown",
      "source": [
        "Below is the sentiment analysis of person 55 based on their entire wikipedia article."
      ],
      "metadata": {
        "id": "UYaJ9to76dJe"
      }
    },
    {
      "cell_type": "code",
      "source": [
        "wiki_clean_text_textblobs[0].sentiment"
      ],
      "metadata": {
        "id": "-SwHryh36ZR9",
        "colab": {
          "base_uri": "https://localhost:8080/"
        },
        "outputId": "1473946a-ea44-40e1-de98-9ff85649d355"
      },
      "execution_count": null,
      "outputs": [
        {
          "output_type": "execute_result",
          "data": {
            "text/plain": [
              "Sentiment(polarity=-0.07990476190476191, subjectivity=0.3018388278388278)"
            ]
          },
          "metadata": {},
          "execution_count": 63
        }
      ]
    },
    {
      "cell_type": "markdown",
      "source": [
        "## Pattern Mining"
      ],
      "metadata": {
        "id": "DD3Hr1F9Dvc4"
      }
    },
    {
      "cell_type": "markdown",
      "source": [
        "### BoW"
      ],
      "metadata": {
        "id": "mSVB6VLLWTBg"
      }
    },
    {
      "cell_type": "markdown",
      "source": [
        "Vectorizing and bag of words below. Will be used in a TF-IDF."
      ],
      "metadata": {
        "id": "EXNUEwjvCcnw"
      }
    },
    {
      "cell_type": "code",
      "source": [
        "vectorizer = CountVectorizer(stop_words='english')\n",
        "bow_matrix = vectorizer.fit_transform(wiki_text_clean)"
      ],
      "metadata": {
        "id": "vCEOzP4oWSiy"
      },
      "execution_count": null,
      "outputs": []
    },
    {
      "cell_type": "markdown",
      "source": [
        "### TF-IDF"
      ],
      "metadata": {
        "id": "NMEzXv79XOBZ"
      }
    },
    {
      "cell_type": "markdown",
      "source": [
        "Fitting the bow matrix into the TF-IDF model."
      ],
      "metadata": {
        "id": "lyhaY99RCi3K"
      }
    },
    {
      "cell_type": "code",
      "source": [
        "tf_idf_matrix = TfidfTransformer()\n",
        "tf_idf_wiki = tf_idf_matrix.fit_transform(bow_matrix)"
      ],
      "metadata": {
        "id": "tU-MkSN0XQAL"
      },
      "execution_count": null,
      "outputs": []
    },
    {
      "cell_type": "markdown",
      "metadata": {
        "id": "KRN8RSUFW77S"
      },
      "source": [
        "### Nearest Neighbors"
      ]
    },
    {
      "cell_type": "markdown",
      "source": [
        "Performing a nearest neighbors on the full text from wikipedia. The reference corresponds to person 55, Mary Goldring, just like it did in part one."
      ],
      "metadata": {
        "id": "WVgwEAP5Cocn"
      }
    },
    {
      "cell_type": "code",
      "source": [
        "reference = tf_idf_wiki[0]"
      ],
      "metadata": {
        "id": "A2t8Qzq2X2eQ"
      },
      "execution_count": null,
      "outputs": []
    },
    {
      "cell_type": "code",
      "execution_count": null,
      "metadata": {
        "id": "fdtRhsq2W-j2"
      },
      "outputs": [],
      "source": [
        "nn = NearestNeighbors().fit(tf_idf_wiki)\n"
      ]
    },
    {
      "cell_type": "code",
      "source": [
        "distances, indices = nn.kneighbors(\n",
        "  X = reference,\n",
        "  n_neighbors = 11,\n",
        ")\n"
      ],
      "metadata": {
        "id": "Q0fpFpbzXlXn"
      },
      "execution_count": null,
      "outputs": []
    },
    {
      "cell_type": "code",
      "source": [
        "distances"
      ],
      "metadata": {
        "id": "8yuOK9LPYFRz",
        "colab": {
          "base_uri": "https://localhost:8080/"
        },
        "outputId": "3db8d88e-2ea7-4519-ef14-af8b024f9d2c"
      },
      "execution_count": null,
      "outputs": [
        {
          "output_type": "execute_result",
          "data": {
            "text/plain": [
              "array([[0.        , 1.26534466, 1.29569984, 1.29587619, 1.34130996,\n",
              "        1.34626924, 1.35217868, 1.35229268, 1.36059251, 1.40004308,\n",
              "        1.40737747]])"
            ]
          },
          "metadata": {},
          "execution_count": 69
        }
      ]
    },
    {
      "cell_type": "code",
      "source": [
        "indices"
      ],
      "metadata": {
        "id": "1BVAShnoYH_U",
        "colab": {
          "base_uri": "https://localhost:8080/"
        },
        "outputId": "b14bbbf9-de59-456e-923f-8772a51db9b0"
      },
      "execution_count": null,
      "outputs": [
        {
          "output_type": "execute_result",
          "data": {
            "text/plain": [
              "array([[ 0,  2,  4,  6,  1,  5, 10,  7,  9,  3,  8]])"
            ]
          },
          "metadata": {},
          "execution_count": 70
        }
      ]
    },
    {
      "cell_type": "markdown",
      "source": [
        "### New DF"
      ],
      "metadata": {
        "id": "KyiA2UmLyJuF"
      }
    },
    {
      "cell_type": "markdown",
      "source": [
        "Creating a new data frame called final_df to show the difference between the original nearest neighbors and the one based on all the text."
      ],
      "metadata": {
        "id": "iCX850zaC6P-"
      }
    },
    {
      "cell_type": "code",
      "source": [
        "distance_df = pd.DataFrame({'indices': indices.flatten(), 'distances^2': distances.flatten()})\n"
      ],
      "metadata": {
        "id": "D0uISNE1vsBz"
      },
      "execution_count": null,
      "outputs": []
    },
    {
      "cell_type": "code",
      "source": [
        "final_df = pd.merge(distance_df, top_ten_nn[['index', 'name']], left_on='indices', right_index=True, how='left')\n",
        "final_df = final_df[['name', 'indices', 'distances^2']]"
      ],
      "metadata": {
        "id": "oT0Y295gvuHP"
      },
      "execution_count": null,
      "outputs": []
    },
    {
      "cell_type": "code",
      "source": [
        "final_df['distances^2'] = final_df['distances^2']**2"
      ],
      "metadata": {
        "id": "NWq5AbIxxN8S"
      },
      "execution_count": null,
      "outputs": []
    },
    {
      "cell_type": "code",
      "source": [
        "final_df"
      ],
      "metadata": {
        "id": "xEtyppM-ynuC",
        "colab": {
          "base_uri": "https://localhost:8080/",
          "height": 394
        },
        "outputId": "43e01913-e258-4866-9619-ca07d25210fd"
      },
      "execution_count": null,
      "outputs": [
        {
          "output_type": "execute_result",
          "data": {
            "text/plain": [
              "                               name  indices  distances^2\n",
              "0                     Mary Goldring        0     0.000000\n",
              "1                       Ceri Thomas        2     1.601097\n",
              "2                      Bill Hagerty        4     1.678838\n",
              "3                    Terri Thompson        6     1.679295\n",
              "4             Andreas Whittam Smith        1     1.799112\n",
              "5                       Mike Embley        5     1.812441\n",
              "6                     Brian Walpole       10     1.828387\n",
              "7                    Russell Davies        7     1.828695\n",
              "8                    David Stafford        9     1.851212\n",
              "9   Bruce Reynolds (TV personality)        3     1.960121\n",
              "10                  Brian MacArthur        8     1.980711"
            ],
            "text/html": [
              "\n",
              "  <div id=\"df-ac6df542-e69b-4350-909f-fd64ef4fd52c\" class=\"colab-df-container\">\n",
              "    <div>\n",
              "<style scoped>\n",
              "    .dataframe tbody tr th:only-of-type {\n",
              "        vertical-align: middle;\n",
              "    }\n",
              "\n",
              "    .dataframe tbody tr th {\n",
              "        vertical-align: top;\n",
              "    }\n",
              "\n",
              "    .dataframe thead th {\n",
              "        text-align: right;\n",
              "    }\n",
              "</style>\n",
              "<table border=\"1\" class=\"dataframe\">\n",
              "  <thead>\n",
              "    <tr style=\"text-align: right;\">\n",
              "      <th></th>\n",
              "      <th>name</th>\n",
              "      <th>indices</th>\n",
              "      <th>distances^2</th>\n",
              "    </tr>\n",
              "  </thead>\n",
              "  <tbody>\n",
              "    <tr>\n",
              "      <th>0</th>\n",
              "      <td>Mary Goldring</td>\n",
              "      <td>0</td>\n",
              "      <td>0.000000</td>\n",
              "    </tr>\n",
              "    <tr>\n",
              "      <th>1</th>\n",
              "      <td>Ceri Thomas</td>\n",
              "      <td>2</td>\n",
              "      <td>1.601097</td>\n",
              "    </tr>\n",
              "    <tr>\n",
              "      <th>2</th>\n",
              "      <td>Bill Hagerty</td>\n",
              "      <td>4</td>\n",
              "      <td>1.678838</td>\n",
              "    </tr>\n",
              "    <tr>\n",
              "      <th>3</th>\n",
              "      <td>Terri Thompson</td>\n",
              "      <td>6</td>\n",
              "      <td>1.679295</td>\n",
              "    </tr>\n",
              "    <tr>\n",
              "      <th>4</th>\n",
              "      <td>Andreas Whittam Smith</td>\n",
              "      <td>1</td>\n",
              "      <td>1.799112</td>\n",
              "    </tr>\n",
              "    <tr>\n",
              "      <th>5</th>\n",
              "      <td>Mike Embley</td>\n",
              "      <td>5</td>\n",
              "      <td>1.812441</td>\n",
              "    </tr>\n",
              "    <tr>\n",
              "      <th>6</th>\n",
              "      <td>Brian Walpole</td>\n",
              "      <td>10</td>\n",
              "      <td>1.828387</td>\n",
              "    </tr>\n",
              "    <tr>\n",
              "      <th>7</th>\n",
              "      <td>Russell Davies</td>\n",
              "      <td>7</td>\n",
              "      <td>1.828695</td>\n",
              "    </tr>\n",
              "    <tr>\n",
              "      <th>8</th>\n",
              "      <td>David Stafford</td>\n",
              "      <td>9</td>\n",
              "      <td>1.851212</td>\n",
              "    </tr>\n",
              "    <tr>\n",
              "      <th>9</th>\n",
              "      <td>Bruce Reynolds (TV personality)</td>\n",
              "      <td>3</td>\n",
              "      <td>1.960121</td>\n",
              "    </tr>\n",
              "    <tr>\n",
              "      <th>10</th>\n",
              "      <td>Brian MacArthur</td>\n",
              "      <td>8</td>\n",
              "      <td>1.980711</td>\n",
              "    </tr>\n",
              "  </tbody>\n",
              "</table>\n",
              "</div>\n",
              "    <div class=\"colab-df-buttons\">\n",
              "\n",
              "  <div class=\"colab-df-container\">\n",
              "    <button class=\"colab-df-convert\" onclick=\"convertToInteractive('df-ac6df542-e69b-4350-909f-fd64ef4fd52c')\"\n",
              "            title=\"Convert this dataframe to an interactive table.\"\n",
              "            style=\"display:none;\">\n",
              "\n",
              "  <svg xmlns=\"http://www.w3.org/2000/svg\" height=\"24px\" viewBox=\"0 -960 960 960\">\n",
              "    <path d=\"M120-120v-720h720v720H120Zm60-500h600v-160H180v160Zm220 220h160v-160H400v160Zm0 220h160v-160H400v160ZM180-400h160v-160H180v160Zm440 0h160v-160H620v160ZM180-180h160v-160H180v160Zm440 0h160v-160H620v160Z\"/>\n",
              "  </svg>\n",
              "    </button>\n",
              "\n",
              "  <style>\n",
              "    .colab-df-container {\n",
              "      display:flex;\n",
              "      gap: 12px;\n",
              "    }\n",
              "\n",
              "    .colab-df-convert {\n",
              "      background-color: #E8F0FE;\n",
              "      border: none;\n",
              "      border-radius: 50%;\n",
              "      cursor: pointer;\n",
              "      display: none;\n",
              "      fill: #1967D2;\n",
              "      height: 32px;\n",
              "      padding: 0 0 0 0;\n",
              "      width: 32px;\n",
              "    }\n",
              "\n",
              "    .colab-df-convert:hover {\n",
              "      background-color: #E2EBFA;\n",
              "      box-shadow: 0px 1px 2px rgba(60, 64, 67, 0.3), 0px 1px 3px 1px rgba(60, 64, 67, 0.15);\n",
              "      fill: #174EA6;\n",
              "    }\n",
              "\n",
              "    .colab-df-buttons div {\n",
              "      margin-bottom: 4px;\n",
              "    }\n",
              "\n",
              "    [theme=dark] .colab-df-convert {\n",
              "      background-color: #3B4455;\n",
              "      fill: #D2E3FC;\n",
              "    }\n",
              "\n",
              "    [theme=dark] .colab-df-convert:hover {\n",
              "      background-color: #434B5C;\n",
              "      box-shadow: 0px 1px 3px 1px rgba(0, 0, 0, 0.15);\n",
              "      filter: drop-shadow(0px 1px 2px rgba(0, 0, 0, 0.3));\n",
              "      fill: #FFFFFF;\n",
              "    }\n",
              "  </style>\n",
              "\n",
              "    <script>\n",
              "      const buttonEl =\n",
              "        document.querySelector('#df-ac6df542-e69b-4350-909f-fd64ef4fd52c button.colab-df-convert');\n",
              "      buttonEl.style.display =\n",
              "        google.colab.kernel.accessAllowed ? 'block' : 'none';\n",
              "\n",
              "      async function convertToInteractive(key) {\n",
              "        const element = document.querySelector('#df-ac6df542-e69b-4350-909f-fd64ef4fd52c');\n",
              "        const dataTable =\n",
              "          await google.colab.kernel.invokeFunction('convertToInteractive',\n",
              "                                                    [key], {});\n",
              "        if (!dataTable) return;\n",
              "\n",
              "        const docLinkHtml = 'Like what you see? Visit the ' +\n",
              "          '<a target=\"_blank\" href=https://colab.research.google.com/notebooks/data_table.ipynb>data table notebook</a>'\n",
              "          + ' to learn more about interactive tables.';\n",
              "        element.innerHTML = '';\n",
              "        dataTable['output_type'] = 'display_data';\n",
              "        await google.colab.output.renderOutput(dataTable, element);\n",
              "        const docLink = document.createElement('div');\n",
              "        docLink.innerHTML = docLinkHtml;\n",
              "        element.appendChild(docLink);\n",
              "      }\n",
              "    </script>\n",
              "  </div>\n",
              "\n",
              "\n",
              "<div id=\"df-064c9899-cea2-45be-8a17-97ab6eb265f3\">\n",
              "  <button class=\"colab-df-quickchart\" onclick=\"quickchart('df-064c9899-cea2-45be-8a17-97ab6eb265f3')\"\n",
              "            title=\"Suggest charts\"\n",
              "            style=\"display:none;\">\n",
              "\n",
              "<svg xmlns=\"http://www.w3.org/2000/svg\" height=\"24px\"viewBox=\"0 0 24 24\"\n",
              "     width=\"24px\">\n",
              "    <g>\n",
              "        <path d=\"M19 3H5c-1.1 0-2 .9-2 2v14c0 1.1.9 2 2 2h14c1.1 0 2-.9 2-2V5c0-1.1-.9-2-2-2zM9 17H7v-7h2v7zm4 0h-2V7h2v10zm4 0h-2v-4h2v4z\"/>\n",
              "    </g>\n",
              "</svg>\n",
              "  </button>\n",
              "\n",
              "<style>\n",
              "  .colab-df-quickchart {\n",
              "      --bg-color: #E8F0FE;\n",
              "      --fill-color: #1967D2;\n",
              "      --hover-bg-color: #E2EBFA;\n",
              "      --hover-fill-color: #174EA6;\n",
              "      --disabled-fill-color: #AAA;\n",
              "      --disabled-bg-color: #DDD;\n",
              "  }\n",
              "\n",
              "  [theme=dark] .colab-df-quickchart {\n",
              "      --bg-color: #3B4455;\n",
              "      --fill-color: #D2E3FC;\n",
              "      --hover-bg-color: #434B5C;\n",
              "      --hover-fill-color: #FFFFFF;\n",
              "      --disabled-bg-color: #3B4455;\n",
              "      --disabled-fill-color: #666;\n",
              "  }\n",
              "\n",
              "  .colab-df-quickchart {\n",
              "    background-color: var(--bg-color);\n",
              "    border: none;\n",
              "    border-radius: 50%;\n",
              "    cursor: pointer;\n",
              "    display: none;\n",
              "    fill: var(--fill-color);\n",
              "    height: 32px;\n",
              "    padding: 0;\n",
              "    width: 32px;\n",
              "  }\n",
              "\n",
              "  .colab-df-quickchart:hover {\n",
              "    background-color: var(--hover-bg-color);\n",
              "    box-shadow: 0 1px 2px rgba(60, 64, 67, 0.3), 0 1px 3px 1px rgba(60, 64, 67, 0.15);\n",
              "    fill: var(--button-hover-fill-color);\n",
              "  }\n",
              "\n",
              "  .colab-df-quickchart-complete:disabled,\n",
              "  .colab-df-quickchart-complete:disabled:hover {\n",
              "    background-color: var(--disabled-bg-color);\n",
              "    fill: var(--disabled-fill-color);\n",
              "    box-shadow: none;\n",
              "  }\n",
              "\n",
              "  .colab-df-spinner {\n",
              "    border: 2px solid var(--fill-color);\n",
              "    border-color: transparent;\n",
              "    border-bottom-color: var(--fill-color);\n",
              "    animation:\n",
              "      spin 1s steps(1) infinite;\n",
              "  }\n",
              "\n",
              "  @keyframes spin {\n",
              "    0% {\n",
              "      border-color: transparent;\n",
              "      border-bottom-color: var(--fill-color);\n",
              "      border-left-color: var(--fill-color);\n",
              "    }\n",
              "    20% {\n",
              "      border-color: transparent;\n",
              "      border-left-color: var(--fill-color);\n",
              "      border-top-color: var(--fill-color);\n",
              "    }\n",
              "    30% {\n",
              "      border-color: transparent;\n",
              "      border-left-color: var(--fill-color);\n",
              "      border-top-color: var(--fill-color);\n",
              "      border-right-color: var(--fill-color);\n",
              "    }\n",
              "    40% {\n",
              "      border-color: transparent;\n",
              "      border-right-color: var(--fill-color);\n",
              "      border-top-color: var(--fill-color);\n",
              "    }\n",
              "    60% {\n",
              "      border-color: transparent;\n",
              "      border-right-color: var(--fill-color);\n",
              "    }\n",
              "    80% {\n",
              "      border-color: transparent;\n",
              "      border-right-color: var(--fill-color);\n",
              "      border-bottom-color: var(--fill-color);\n",
              "    }\n",
              "    90% {\n",
              "      border-color: transparent;\n",
              "      border-bottom-color: var(--fill-color);\n",
              "    }\n",
              "  }\n",
              "</style>\n",
              "\n",
              "  <script>\n",
              "    async function quickchart(key) {\n",
              "      const quickchartButtonEl =\n",
              "        document.querySelector('#' + key + ' button');\n",
              "      quickchartButtonEl.disabled = true;  // To prevent multiple clicks.\n",
              "      quickchartButtonEl.classList.add('colab-df-spinner');\n",
              "      try {\n",
              "        const charts = await google.colab.kernel.invokeFunction(\n",
              "            'suggestCharts', [key], {});\n",
              "      } catch (error) {\n",
              "        console.error('Error during call to suggestCharts:', error);\n",
              "      }\n",
              "      quickchartButtonEl.classList.remove('colab-df-spinner');\n",
              "      quickchartButtonEl.classList.add('colab-df-quickchart-complete');\n",
              "    }\n",
              "    (() => {\n",
              "      let quickchartButtonEl =\n",
              "        document.querySelector('#df-064c9899-cea2-45be-8a17-97ab6eb265f3 button');\n",
              "      quickchartButtonEl.style.display =\n",
              "        google.colab.kernel.accessAllowed ? 'block' : 'none';\n",
              "    })();\n",
              "  </script>\n",
              "</div>\n",
              "\n",
              "  <div id=\"id_32360695-b4a9-49d2-a7d3-3bd19dd0f65d\">\n",
              "    <style>\n",
              "      .colab-df-generate {\n",
              "        background-color: #E8F0FE;\n",
              "        border: none;\n",
              "        border-radius: 50%;\n",
              "        cursor: pointer;\n",
              "        display: none;\n",
              "        fill: #1967D2;\n",
              "        height: 32px;\n",
              "        padding: 0 0 0 0;\n",
              "        width: 32px;\n",
              "      }\n",
              "\n",
              "      .colab-df-generate:hover {\n",
              "        background-color: #E2EBFA;\n",
              "        box-shadow: 0px 1px 2px rgba(60, 64, 67, 0.3), 0px 1px 3px 1px rgba(60, 64, 67, 0.15);\n",
              "        fill: #174EA6;\n",
              "      }\n",
              "\n",
              "      [theme=dark] .colab-df-generate {\n",
              "        background-color: #3B4455;\n",
              "        fill: #D2E3FC;\n",
              "      }\n",
              "\n",
              "      [theme=dark] .colab-df-generate:hover {\n",
              "        background-color: #434B5C;\n",
              "        box-shadow: 0px 1px 3px 1px rgba(0, 0, 0, 0.15);\n",
              "        filter: drop-shadow(0px 1px 2px rgba(0, 0, 0, 0.3));\n",
              "        fill: #FFFFFF;\n",
              "      }\n",
              "    </style>\n",
              "    <button class=\"colab-df-generate\" onclick=\"generateWithVariable('final_df')\"\n",
              "            title=\"Generate code using this dataframe.\"\n",
              "            style=\"display:none;\">\n",
              "\n",
              "  <svg xmlns=\"http://www.w3.org/2000/svg\" height=\"24px\"viewBox=\"0 0 24 24\"\n",
              "       width=\"24px\">\n",
              "    <path d=\"M7,19H8.4L18.45,9,17,7.55,7,17.6ZM5,21V16.75L18.45,3.32a2,2,0,0,1,2.83,0l1.4,1.43a1.91,1.91,0,0,1,.58,1.4,1.91,1.91,0,0,1-.58,1.4L9.25,21ZM18.45,9,17,7.55Zm-12,3A5.31,5.31,0,0,0,4.9,8.1,5.31,5.31,0,0,0,1,6.5,5.31,5.31,0,0,0,4.9,4.9,5.31,5.31,0,0,0,6.5,1,5.31,5.31,0,0,0,8.1,4.9,5.31,5.31,0,0,0,12,6.5,5.46,5.46,0,0,0,6.5,12Z\"/>\n",
              "  </svg>\n",
              "    </button>\n",
              "    <script>\n",
              "      (() => {\n",
              "      const buttonEl =\n",
              "        document.querySelector('#id_32360695-b4a9-49d2-a7d3-3bd19dd0f65d button.colab-df-generate');\n",
              "      buttonEl.style.display =\n",
              "        google.colab.kernel.accessAllowed ? 'block' : 'none';\n",
              "\n",
              "      buttonEl.onclick = () => {\n",
              "        google.colab.notebook.generateWithVariable('final_df');\n",
              "      }\n",
              "      })();\n",
              "    </script>\n",
              "  </div>\n",
              "\n",
              "    </div>\n",
              "  </div>\n"
            ],
            "application/vnd.google.colaboratory.intrinsic+json": {
              "type": "dataframe",
              "variable_name": "final_df",
              "summary": "{\n  \"name\": \"final_df\",\n  \"rows\": 11,\n  \"fields\": [\n    {\n      \"column\": \"name\",\n      \"properties\": {\n        \"dtype\": \"string\",\n        \"num_unique_values\": 11,\n        \"samples\": [\n          \"Mike Embley\",\n          \"Mary Goldring\",\n          \"Bruce Reynolds (TV personality)\"\n        ],\n        \"semantic_type\": \"\",\n        \"description\": \"\"\n      }\n    },\n    {\n      \"column\": \"indices\",\n      \"properties\": {\n        \"dtype\": \"number\",\n        \"std\": 3,\n        \"min\": 0,\n        \"max\": 10,\n        \"num_unique_values\": 11,\n        \"samples\": [\n          5,\n          0,\n          3\n        ],\n        \"semantic_type\": \"\",\n        \"description\": \"\"\n      }\n    },\n    {\n      \"column\": \"distances^2\",\n      \"properties\": {\n        \"dtype\": \"number\",\n        \"std\": 0.5552881685213226,\n        \"min\": 0.0,\n        \"max\": 1.9807113452662108,\n        \"num_unique_values\": 11,\n        \"samples\": [\n          1.812440859027988,\n          0.0,\n          1.9601206182439634\n        ],\n        \"semantic_type\": \"\",\n        \"description\": \"\"\n      }\n    }\n  ]\n}"
            }
          },
          "metadata": {},
          "execution_count": 74
        }
      ]
    },
    {
      "cell_type": "markdown",
      "source": [
        "Old data frame to compare it to."
      ],
      "metadata": {
        "id": "tOhVUaLYy17g"
      }
    },
    {
      "cell_type": "code",
      "source": [
        "top_ten_nn = top_ten_nn.drop(['URI'], axis = 1)"
      ],
      "metadata": {
        "id": "rHAGz6TQY8hb"
      },
      "execution_count": null,
      "outputs": []
    },
    {
      "cell_type": "code",
      "source": [
        "top_ten_nn"
      ],
      "metadata": {
        "id": "qvsaT0RezAzQ",
        "colab": {
          "base_uri": "https://localhost:8080/",
          "height": 425
        },
        "outputId": "4b8f53e1-4ddd-4796-c73c-a5fca62b95d0"
      },
      "execution_count": null,
      "outputs": [
        {
          "output_type": "execute_result",
          "data": {
            "text/plain": [
              "      index                             name  distances^2\n",
              "0      55.0                    Mary Goldring     0.000000\n",
              "1   16046.0            Andreas Whittam Smith     1.725543\n",
              "2   28857.0                      Ceri Thomas     1.771551\n",
              "3     816.0  Bruce Reynolds (TV personality)     1.774463\n",
              "4   31856.0                     Bill Hagerty     1.778200\n",
              "5   25199.0                      Mike Embley     1.782457\n",
              "6   10957.0                   Terri Thompson     1.787302\n",
              "7   27272.0                   Russell Davies     1.791944\n",
              "8   15701.0                  Brian MacArthur     1.794833\n",
              "9   32763.0                   David Stafford     1.797418\n",
              "10  42651.0                    Brian Walpole     1.799730\n",
              "11  40267.0               Rajesh Mirchandani     1.805255"
            ],
            "text/html": [
              "\n",
              "  <div id=\"df-d51145d3-0fcc-46af-8654-6811520f8f8f\" class=\"colab-df-container\">\n",
              "    <div>\n",
              "<style scoped>\n",
              "    .dataframe tbody tr th:only-of-type {\n",
              "        vertical-align: middle;\n",
              "    }\n",
              "\n",
              "    .dataframe tbody tr th {\n",
              "        vertical-align: top;\n",
              "    }\n",
              "\n",
              "    .dataframe thead th {\n",
              "        text-align: right;\n",
              "    }\n",
              "</style>\n",
              "<table border=\"1\" class=\"dataframe\">\n",
              "  <thead>\n",
              "    <tr style=\"text-align: right;\">\n",
              "      <th></th>\n",
              "      <th>index</th>\n",
              "      <th>name</th>\n",
              "      <th>distances^2</th>\n",
              "    </tr>\n",
              "  </thead>\n",
              "  <tbody>\n",
              "    <tr>\n",
              "      <th>0</th>\n",
              "      <td>55.0</td>\n",
              "      <td>Mary Goldring</td>\n",
              "      <td>0.000000</td>\n",
              "    </tr>\n",
              "    <tr>\n",
              "      <th>1</th>\n",
              "      <td>16046.0</td>\n",
              "      <td>Andreas Whittam Smith</td>\n",
              "      <td>1.725543</td>\n",
              "    </tr>\n",
              "    <tr>\n",
              "      <th>2</th>\n",
              "      <td>28857.0</td>\n",
              "      <td>Ceri Thomas</td>\n",
              "      <td>1.771551</td>\n",
              "    </tr>\n",
              "    <tr>\n",
              "      <th>3</th>\n",
              "      <td>816.0</td>\n",
              "      <td>Bruce Reynolds (TV personality)</td>\n",
              "      <td>1.774463</td>\n",
              "    </tr>\n",
              "    <tr>\n",
              "      <th>4</th>\n",
              "      <td>31856.0</td>\n",
              "      <td>Bill Hagerty</td>\n",
              "      <td>1.778200</td>\n",
              "    </tr>\n",
              "    <tr>\n",
              "      <th>5</th>\n",
              "      <td>25199.0</td>\n",
              "      <td>Mike Embley</td>\n",
              "      <td>1.782457</td>\n",
              "    </tr>\n",
              "    <tr>\n",
              "      <th>6</th>\n",
              "      <td>10957.0</td>\n",
              "      <td>Terri Thompson</td>\n",
              "      <td>1.787302</td>\n",
              "    </tr>\n",
              "    <tr>\n",
              "      <th>7</th>\n",
              "      <td>27272.0</td>\n",
              "      <td>Russell Davies</td>\n",
              "      <td>1.791944</td>\n",
              "    </tr>\n",
              "    <tr>\n",
              "      <th>8</th>\n",
              "      <td>15701.0</td>\n",
              "      <td>Brian MacArthur</td>\n",
              "      <td>1.794833</td>\n",
              "    </tr>\n",
              "    <tr>\n",
              "      <th>9</th>\n",
              "      <td>32763.0</td>\n",
              "      <td>David Stafford</td>\n",
              "      <td>1.797418</td>\n",
              "    </tr>\n",
              "    <tr>\n",
              "      <th>10</th>\n",
              "      <td>42651.0</td>\n",
              "      <td>Brian Walpole</td>\n",
              "      <td>1.799730</td>\n",
              "    </tr>\n",
              "    <tr>\n",
              "      <th>11</th>\n",
              "      <td>40267.0</td>\n",
              "      <td>Rajesh Mirchandani</td>\n",
              "      <td>1.805255</td>\n",
              "    </tr>\n",
              "  </tbody>\n",
              "</table>\n",
              "</div>\n",
              "    <div class=\"colab-df-buttons\">\n",
              "\n",
              "  <div class=\"colab-df-container\">\n",
              "    <button class=\"colab-df-convert\" onclick=\"convertToInteractive('df-d51145d3-0fcc-46af-8654-6811520f8f8f')\"\n",
              "            title=\"Convert this dataframe to an interactive table.\"\n",
              "            style=\"display:none;\">\n",
              "\n",
              "  <svg xmlns=\"http://www.w3.org/2000/svg\" height=\"24px\" viewBox=\"0 -960 960 960\">\n",
              "    <path d=\"M120-120v-720h720v720H120Zm60-500h600v-160H180v160Zm220 220h160v-160H400v160Zm0 220h160v-160H400v160ZM180-400h160v-160H180v160Zm440 0h160v-160H620v160ZM180-180h160v-160H180v160Zm440 0h160v-160H620v160Z\"/>\n",
              "  </svg>\n",
              "    </button>\n",
              "\n",
              "  <style>\n",
              "    .colab-df-container {\n",
              "      display:flex;\n",
              "      gap: 12px;\n",
              "    }\n",
              "\n",
              "    .colab-df-convert {\n",
              "      background-color: #E8F0FE;\n",
              "      border: none;\n",
              "      border-radius: 50%;\n",
              "      cursor: pointer;\n",
              "      display: none;\n",
              "      fill: #1967D2;\n",
              "      height: 32px;\n",
              "      padding: 0 0 0 0;\n",
              "      width: 32px;\n",
              "    }\n",
              "\n",
              "    .colab-df-convert:hover {\n",
              "      background-color: #E2EBFA;\n",
              "      box-shadow: 0px 1px 2px rgba(60, 64, 67, 0.3), 0px 1px 3px 1px rgba(60, 64, 67, 0.15);\n",
              "      fill: #174EA6;\n",
              "    }\n",
              "\n",
              "    .colab-df-buttons div {\n",
              "      margin-bottom: 4px;\n",
              "    }\n",
              "\n",
              "    [theme=dark] .colab-df-convert {\n",
              "      background-color: #3B4455;\n",
              "      fill: #D2E3FC;\n",
              "    }\n",
              "\n",
              "    [theme=dark] .colab-df-convert:hover {\n",
              "      background-color: #434B5C;\n",
              "      box-shadow: 0px 1px 3px 1px rgba(0, 0, 0, 0.15);\n",
              "      filter: drop-shadow(0px 1px 2px rgba(0, 0, 0, 0.3));\n",
              "      fill: #FFFFFF;\n",
              "    }\n",
              "  </style>\n",
              "\n",
              "    <script>\n",
              "      const buttonEl =\n",
              "        document.querySelector('#df-d51145d3-0fcc-46af-8654-6811520f8f8f button.colab-df-convert');\n",
              "      buttonEl.style.display =\n",
              "        google.colab.kernel.accessAllowed ? 'block' : 'none';\n",
              "\n",
              "      async function convertToInteractive(key) {\n",
              "        const element = document.querySelector('#df-d51145d3-0fcc-46af-8654-6811520f8f8f');\n",
              "        const dataTable =\n",
              "          await google.colab.kernel.invokeFunction('convertToInteractive',\n",
              "                                                    [key], {});\n",
              "        if (!dataTable) return;\n",
              "\n",
              "        const docLinkHtml = 'Like what you see? Visit the ' +\n",
              "          '<a target=\"_blank\" href=https://colab.research.google.com/notebooks/data_table.ipynb>data table notebook</a>'\n",
              "          + ' to learn more about interactive tables.';\n",
              "        element.innerHTML = '';\n",
              "        dataTable['output_type'] = 'display_data';\n",
              "        await google.colab.output.renderOutput(dataTable, element);\n",
              "        const docLink = document.createElement('div');\n",
              "        docLink.innerHTML = docLinkHtml;\n",
              "        element.appendChild(docLink);\n",
              "      }\n",
              "    </script>\n",
              "  </div>\n",
              "\n",
              "\n",
              "<div id=\"df-6a4e9b3d-4da3-4050-a80c-533eca710b6b\">\n",
              "  <button class=\"colab-df-quickchart\" onclick=\"quickchart('df-6a4e9b3d-4da3-4050-a80c-533eca710b6b')\"\n",
              "            title=\"Suggest charts\"\n",
              "            style=\"display:none;\">\n",
              "\n",
              "<svg xmlns=\"http://www.w3.org/2000/svg\" height=\"24px\"viewBox=\"0 0 24 24\"\n",
              "     width=\"24px\">\n",
              "    <g>\n",
              "        <path d=\"M19 3H5c-1.1 0-2 .9-2 2v14c0 1.1.9 2 2 2h14c1.1 0 2-.9 2-2V5c0-1.1-.9-2-2-2zM9 17H7v-7h2v7zm4 0h-2V7h2v10zm4 0h-2v-4h2v4z\"/>\n",
              "    </g>\n",
              "</svg>\n",
              "  </button>\n",
              "\n",
              "<style>\n",
              "  .colab-df-quickchart {\n",
              "      --bg-color: #E8F0FE;\n",
              "      --fill-color: #1967D2;\n",
              "      --hover-bg-color: #E2EBFA;\n",
              "      --hover-fill-color: #174EA6;\n",
              "      --disabled-fill-color: #AAA;\n",
              "      --disabled-bg-color: #DDD;\n",
              "  }\n",
              "\n",
              "  [theme=dark] .colab-df-quickchart {\n",
              "      --bg-color: #3B4455;\n",
              "      --fill-color: #D2E3FC;\n",
              "      --hover-bg-color: #434B5C;\n",
              "      --hover-fill-color: #FFFFFF;\n",
              "      --disabled-bg-color: #3B4455;\n",
              "      --disabled-fill-color: #666;\n",
              "  }\n",
              "\n",
              "  .colab-df-quickchart {\n",
              "    background-color: var(--bg-color);\n",
              "    border: none;\n",
              "    border-radius: 50%;\n",
              "    cursor: pointer;\n",
              "    display: none;\n",
              "    fill: var(--fill-color);\n",
              "    height: 32px;\n",
              "    padding: 0;\n",
              "    width: 32px;\n",
              "  }\n",
              "\n",
              "  .colab-df-quickchart:hover {\n",
              "    background-color: var(--hover-bg-color);\n",
              "    box-shadow: 0 1px 2px rgba(60, 64, 67, 0.3), 0 1px 3px 1px rgba(60, 64, 67, 0.15);\n",
              "    fill: var(--button-hover-fill-color);\n",
              "  }\n",
              "\n",
              "  .colab-df-quickchart-complete:disabled,\n",
              "  .colab-df-quickchart-complete:disabled:hover {\n",
              "    background-color: var(--disabled-bg-color);\n",
              "    fill: var(--disabled-fill-color);\n",
              "    box-shadow: none;\n",
              "  }\n",
              "\n",
              "  .colab-df-spinner {\n",
              "    border: 2px solid var(--fill-color);\n",
              "    border-color: transparent;\n",
              "    border-bottom-color: var(--fill-color);\n",
              "    animation:\n",
              "      spin 1s steps(1) infinite;\n",
              "  }\n",
              "\n",
              "  @keyframes spin {\n",
              "    0% {\n",
              "      border-color: transparent;\n",
              "      border-bottom-color: var(--fill-color);\n",
              "      border-left-color: var(--fill-color);\n",
              "    }\n",
              "    20% {\n",
              "      border-color: transparent;\n",
              "      border-left-color: var(--fill-color);\n",
              "      border-top-color: var(--fill-color);\n",
              "    }\n",
              "    30% {\n",
              "      border-color: transparent;\n",
              "      border-left-color: var(--fill-color);\n",
              "      border-top-color: var(--fill-color);\n",
              "      border-right-color: var(--fill-color);\n",
              "    }\n",
              "    40% {\n",
              "      border-color: transparent;\n",
              "      border-right-color: var(--fill-color);\n",
              "      border-top-color: var(--fill-color);\n",
              "    }\n",
              "    60% {\n",
              "      border-color: transparent;\n",
              "      border-right-color: var(--fill-color);\n",
              "    }\n",
              "    80% {\n",
              "      border-color: transparent;\n",
              "      border-right-color: var(--fill-color);\n",
              "      border-bottom-color: var(--fill-color);\n",
              "    }\n",
              "    90% {\n",
              "      border-color: transparent;\n",
              "      border-bottom-color: var(--fill-color);\n",
              "    }\n",
              "  }\n",
              "</style>\n",
              "\n",
              "  <script>\n",
              "    async function quickchart(key) {\n",
              "      const quickchartButtonEl =\n",
              "        document.querySelector('#' + key + ' button');\n",
              "      quickchartButtonEl.disabled = true;  // To prevent multiple clicks.\n",
              "      quickchartButtonEl.classList.add('colab-df-spinner');\n",
              "      try {\n",
              "        const charts = await google.colab.kernel.invokeFunction(\n",
              "            'suggestCharts', [key], {});\n",
              "      } catch (error) {\n",
              "        console.error('Error during call to suggestCharts:', error);\n",
              "      }\n",
              "      quickchartButtonEl.classList.remove('colab-df-spinner');\n",
              "      quickchartButtonEl.classList.add('colab-df-quickchart-complete');\n",
              "    }\n",
              "    (() => {\n",
              "      let quickchartButtonEl =\n",
              "        document.querySelector('#df-6a4e9b3d-4da3-4050-a80c-533eca710b6b button');\n",
              "      quickchartButtonEl.style.display =\n",
              "        google.colab.kernel.accessAllowed ? 'block' : 'none';\n",
              "    })();\n",
              "  </script>\n",
              "</div>\n",
              "\n",
              "  <div id=\"id_d508453e-88ba-4d06-a048-9286387b01f4\">\n",
              "    <style>\n",
              "      .colab-df-generate {\n",
              "        background-color: #E8F0FE;\n",
              "        border: none;\n",
              "        border-radius: 50%;\n",
              "        cursor: pointer;\n",
              "        display: none;\n",
              "        fill: #1967D2;\n",
              "        height: 32px;\n",
              "        padding: 0 0 0 0;\n",
              "        width: 32px;\n",
              "      }\n",
              "\n",
              "      .colab-df-generate:hover {\n",
              "        background-color: #E2EBFA;\n",
              "        box-shadow: 0px 1px 2px rgba(60, 64, 67, 0.3), 0px 1px 3px 1px rgba(60, 64, 67, 0.15);\n",
              "        fill: #174EA6;\n",
              "      }\n",
              "\n",
              "      [theme=dark] .colab-df-generate {\n",
              "        background-color: #3B4455;\n",
              "        fill: #D2E3FC;\n",
              "      }\n",
              "\n",
              "      [theme=dark] .colab-df-generate:hover {\n",
              "        background-color: #434B5C;\n",
              "        box-shadow: 0px 1px 3px 1px rgba(0, 0, 0, 0.15);\n",
              "        filter: drop-shadow(0px 1px 2px rgba(0, 0, 0, 0.3));\n",
              "        fill: #FFFFFF;\n",
              "      }\n",
              "    </style>\n",
              "    <button class=\"colab-df-generate\" onclick=\"generateWithVariable('top_ten_nn')\"\n",
              "            title=\"Generate code using this dataframe.\"\n",
              "            style=\"display:none;\">\n",
              "\n",
              "  <svg xmlns=\"http://www.w3.org/2000/svg\" height=\"24px\"viewBox=\"0 0 24 24\"\n",
              "       width=\"24px\">\n",
              "    <path d=\"M7,19H8.4L18.45,9,17,7.55,7,17.6ZM5,21V16.75L18.45,3.32a2,2,0,0,1,2.83,0l1.4,1.43a1.91,1.91,0,0,1,.58,1.4,1.91,1.91,0,0,1-.58,1.4L9.25,21ZM18.45,9,17,7.55Zm-12,3A5.31,5.31,0,0,0,4.9,8.1,5.31,5.31,0,0,0,1,6.5,5.31,5.31,0,0,0,4.9,4.9,5.31,5.31,0,0,0,6.5,1,5.31,5.31,0,0,0,8.1,4.9,5.31,5.31,0,0,0,12,6.5,5.46,5.46,0,0,0,6.5,12Z\"/>\n",
              "  </svg>\n",
              "    </button>\n",
              "    <script>\n",
              "      (() => {\n",
              "      const buttonEl =\n",
              "        document.querySelector('#id_d508453e-88ba-4d06-a048-9286387b01f4 button.colab-df-generate');\n",
              "      buttonEl.style.display =\n",
              "        google.colab.kernel.accessAllowed ? 'block' : 'none';\n",
              "\n",
              "      buttonEl.onclick = () => {\n",
              "        google.colab.notebook.generateWithVariable('top_ten_nn');\n",
              "      }\n",
              "      })();\n",
              "    </script>\n",
              "  </div>\n",
              "\n",
              "    </div>\n",
              "  </div>\n"
            ],
            "application/vnd.google.colaboratory.intrinsic+json": {
              "type": "dataframe",
              "variable_name": "top_ten_nn",
              "summary": "{\n  \"name\": \"top_ten_nn\",\n  \"rows\": 12,\n  \"fields\": [\n    {\n      \"column\": \"index\",\n      \"properties\": {\n        \"dtype\": \"number\",\n        \"std\": 14076.60903984358,\n        \"min\": 55.0,\n        \"max\": 42651.0,\n        \"num_unique_values\": 12,\n        \"samples\": [\n          42651.0,\n          32763.0,\n          55.0\n        ],\n        \"semantic_type\": \"\",\n        \"description\": \"\"\n      }\n    },\n    {\n      \"column\": \"name\",\n      \"properties\": {\n        \"dtype\": \"string\",\n        \"num_unique_values\": 12,\n        \"samples\": [\n          \"Brian Walpole\",\n          \"David Stafford\",\n          \"Mary Goldring\"\n        ],\n        \"semantic_type\": \"\",\n        \"description\": \"\"\n      }\n    },\n    {\n      \"column\": \"distances^2\",\n      \"properties\": {\n        \"dtype\": \"number\",\n        \"std\": 0.5150140543104313,\n        \"min\": 0.0,\n        \"max\": 1.8052545843428585,\n        \"num_unique_values\": 12,\n        \"samples\": [\n          1.7997295768630408,\n          1.7974181277550763,\n          0.0\n        ],\n        \"semantic_type\": \"\",\n        \"description\": \"\"\n      }\n    }\n  ]\n}"
            }
          },
          "metadata": {},
          "execution_count": 76
        }
      ]
    },
    {
      "cell_type": "markdown",
      "source": [
        "## Conclusion"
      ],
      "metadata": {
        "id": "UDJawWD23vzl"
      }
    },
    {
      "cell_type": "markdown",
      "source": [
        "**People closest to 55 based on part 1**:\n",
        "\n",
        "1\tAndreas Whittam Smith\n",
        "2\tCeri Thomas\n",
        "3\tBruce Reynolds (TV personality)\n",
        "4\tBill Hagerty\n",
        "5\tMike Embley\n",
        "6\tTerri Thompson\n",
        "7\tRussell Davies\n",
        "8\tBrian MacArthur\n",
        "9\tDavid Stafford\n",
        "10 Brian Walpole\n",
        "\n",
        "**Sentiment Analysis of Mary Goldring(person 55) part 1:**\n",
        "\n",
        "Sentiment(polarity=-0.10098039215686273, subjectivity=0.2966817496229261)\n",
        "\n"
      ],
      "metadata": {
        "id": "701dxk47bavW"
      }
    },
    {
      "cell_type": "markdown",
      "source": [
        "**People closest to 55 based on part 2**:\n",
        "\n",
        "1\tCeri Thomas\n",
        "2\tBill Hagerty\n",
        "3\tTerri Thompson\n",
        "4\tAndreas Whittam Smith\n",
        "5\tMike Embley\n",
        "6\tBrian Walpole\n",
        "7\tRussell Davies\n",
        "8\tDavid Stafford\n",
        "9\tBruce Reynolds (TV personality)\n",
        "10\tBrian MacArthur\n",
        "\n",
        "**Sentiment Analysis of Mary Goldring(person 55) part 2:**\n",
        "\n",
        "Sentiment(polarity=-0.07990476190476191, subjectivity=0.3018388278388278)"
      ],
      "metadata": {
        "id": "XbgYM55L3-6B"
      }
    },
    {
      "cell_type": "markdown",
      "source": [
        "In conclusion doing the BoW and TD-IDF for the summary of the text in part 1, and the entire wiki article in part 2 yielded different results as to which people were \"closer\" neighbors to our reference. This makes sense because there is far more material to be scanned, and more words to be considered meaningful in the analysis. In addition to this the sentiment analysis showed differed results. The polarity decreased slightly when I analyzed the entire text and the subjectivity increased ever so slightly. The differences in the sentiment analysis were small which indicates the summary was a good synopsis for the entire wiki text."
      ],
      "metadata": {
        "id": "wRZYNjYZ4STj"
      }
    }
  ]
}
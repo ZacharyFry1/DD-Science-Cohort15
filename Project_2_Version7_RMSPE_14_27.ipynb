{
  "nbformat": 4,
  "nbformat_minor": 0,
  "metadata": {
    "colab": {
      "provenance": [],
      "toc_visible": true,
      "include_colab_link": true
    },
    "kernelspec": {
      "name": "python3",
      "display_name": "Python 3"
    },
    "language_info": {
      "name": "python"
    }
  },
  "cells": [
    {
      "cell_type": "markdown",
      "metadata": {
        "id": "view-in-github",
        "colab_type": "text"
      },
      "source": [
        "<a href=\"https://colab.research.google.com/github/ZacharyFry1/DD-Science-Cohort15/blob/main/Project_2_Version7_RMSPE_14_27.ipynb\" target=\"_parent\"><img src=\"https://colab.research.google.com/assets/colab-badge.svg\" alt=\"Open In Colab\"/></a>"
      ]
    },
    {
      "cell_type": "markdown",
      "source": [
        "# Project 2 - Housing Prices"
      ],
      "metadata": {
        "id": "cJG_e1vK2NMI"
      }
    },
    {
      "cell_type": "markdown",
      "source": [
        "## Problem Definition\n"
      ],
      "metadata": {
        "id": "Ugnt7mjT2Pyt"
      }
    },
    {
      "cell_type": "markdown",
      "source": [
        "The goal of this project is to design a linear regression model with the smallest amount of RMS percentage error that accurately predicts the sale price of the house. The sale price is the target, making this is a supervised problem. The regression model will be unidimensional because we only care about how different features affect the home's sale price."
      ],
      "metadata": {
        "id": "DJB41zc-2q-w"
      }
    },
    {
      "cell_type": "markdown",
      "source": [
        "## Data Collection/Sources\n"
      ],
      "metadata": {
        "id": "jaq46wHS2Uh1"
      }
    },
    {
      "cell_type": "markdown",
      "source": [
        "### Imports"
      ],
      "metadata": {
        "id": "z7cqITCOmPjC"
      }
    },
    {
      "cell_type": "code",
      "source": [
        "import statsmodels.api as sm\n",
        "import matplotlib.pyplot as plt\n",
        "import pandas as pd\n",
        "import numpy as np\n",
        "import seaborn as sns\n",
        "from sklearn import datasets\n",
        "from sklearn.linear_model import LinearRegression\n",
        "from sklearn.model_selection import train_test_split\n",
        "from sklearn.model_selection import cross_val_score\n",
        "from sklearn.metrics import mean_squared_error\n",
        "from sklearn.preprocessing import LabelEncoder"
      ],
      "metadata": {
        "id": "mNOARr9i2qW8"
      },
      "execution_count": null,
      "outputs": []
    },
    {
      "cell_type": "markdown",
      "source": [
        "### Reading In Data"
      ],
      "metadata": {
        "id": "XX9p1W3VmUZa"
      }
    },
    {
      "cell_type": "code",
      "source": [
        "url = 'https://ddc-datascience.s3.amazonaws.com/Projects/Project.2-Housing/Data/Housing.Data.csv'"
      ],
      "metadata": {
        "id": "ELxQjqGrmWdM"
      },
      "execution_count": null,
      "outputs": []
    },
    {
      "cell_type": "code",
      "source": [
        "housing_df = pd.read_csv(url)\n",
        "housing_df"
      ],
      "metadata": {
        "id": "N1Jo4EOYma6t"
      },
      "execution_count": null,
      "outputs": []
    },
    {
      "cell_type": "markdown",
      "source": [
        "## Data Cleaning\n"
      ],
      "metadata": {
        "id": "kvTak8Ka2db2"
      }
    },
    {
      "cell_type": "markdown",
      "source": [
        "### Dropping Null Values"
      ],
      "metadata": {
        "id": "D6wbTe9GmkY1"
      }
    },
    {
      "cell_type": "code",
      "source": [
        "housing_df.isnull().sum().sum()"
      ],
      "metadata": {
        "id": "k4Q6cbo42paj"
      },
      "execution_count": null,
      "outputs": []
    },
    {
      "cell_type": "code",
      "source": [
        "null_sums = housing_df.isna().sum()\n",
        "null_sums[null_sums > 0]"
      ],
      "metadata": {
        "collapsed": true,
        "id": "e7RU0ifmm1xK"
      },
      "execution_count": null,
      "outputs": []
    },
    {
      "cell_type": "markdown",
      "source": [
        "Creating a Threshold For Null Values. All columns above this about will be dropped."
      ],
      "metadata": {
        "id": "SojEJcGynNWf"
      }
    },
    {
      "cell_type": "code",
      "source": [
        "housing_df_clean = housing_df.copy()"
      ],
      "metadata": {
        "id": "CkyL9gBonY28"
      },
      "execution_count": null,
      "outputs": []
    },
    {
      "cell_type": "code",
      "source": [
        "# Threshold for non-nulls.\n",
        "threshold = 10  # Set your threshold\n",
        "null_percentages = housing_df_clean.isnull().sum() / len(housing_df_clean) * 100\n",
        "columns_to_keep = null_percentages[null_percentages <= threshold].index\n",
        "housing_df_clean = housing_df_clean[columns_to_keep]"
      ],
      "metadata": {
        "id": "yOhkU8dDnUiL"
      },
      "execution_count": null,
      "outputs": []
    },
    {
      "cell_type": "code",
      "source": [
        "housing_df_clean = housing_df_clean.dropna()"
      ],
      "metadata": {
        "id": "_GlUgXfxoA-P"
      },
      "execution_count": null,
      "outputs": []
    },
    {
      "cell_type": "code",
      "source": [
        "housing_df_clean = housing_df_clean.drop('PID', axis = 1)"
      ],
      "metadata": {
        "id": "1D4l5WttrgQZ"
      },
      "execution_count": null,
      "outputs": []
    },
    {
      "cell_type": "code",
      "source": [
        "housing_df_clean.isna().sum().sum()"
      ],
      "metadata": {
        "id": "QbdCVvakvc5R"
      },
      "execution_count": null,
      "outputs": []
    },
    {
      "cell_type": "markdown",
      "source": [
        "### Creating a DataFrame For the Categorical Columns"
      ],
      "metadata": {
        "id": "tcVJcd7voYKi"
      }
    },
    {
      "cell_type": "code",
      "source": [
        "housing_df_categorical_cols = housing_df_clean.select_dtypes(include=['object']).columns\n",
        "housing_df_categorical_cols"
      ],
      "metadata": {
        "collapsed": true,
        "id": "5A-S0LYIoeZA"
      },
      "execution_count": null,
      "outputs": []
    },
    {
      "cell_type": "markdown",
      "source": [
        "### Creating Numerical DataFrame"
      ],
      "metadata": {
        "id": "ywxa8ITtseJ3"
      }
    },
    {
      "cell_type": "code",
      "source": [
        "housing_df_numerical = housing_df_clean.select_dtypes(exclude=['object'])"
      ],
      "metadata": {
        "id": "PtmcXKFmskV9"
      },
      "execution_count": null,
      "outputs": []
    },
    {
      "cell_type": "code",
      "source": [
        "housing_df_numerical"
      ],
      "metadata": {
        "collapsed": true,
        "id": "spkN1VKTsqlN"
      },
      "execution_count": null,
      "outputs": []
    },
    {
      "cell_type": "markdown",
      "source": [
        "### Checking The Target Column"
      ],
      "metadata": {
        "id": "QmV_MAIIop1Y"
      }
    },
    {
      "cell_type": "code",
      "source": [
        "housing_df_clean['SalePrice'].value_counts()\n",
        "housing_df_clean['SalePrice']"
      ],
      "metadata": {
        "collapsed": true,
        "id": "Tzvh2UU3ovp0"
      },
      "execution_count": null,
      "outputs": []
    },
    {
      "cell_type": "markdown",
      "source": [
        "## Exploratory Data Analysis\n"
      ],
      "metadata": {
        "id": "Gvh5r9Zs2fkc"
      }
    },
    {
      "cell_type": "code",
      "source": [
        "# Let's take a look at a correlation plot\n",
        "plt.figure(figsize=(30,30))\n",
        "correlation_matrix = housing_df_numerical.corr().round(2)\n",
        "sns.heatmap(data=correlation_matrix, annot=True) ;"
      ],
      "metadata": {
        "id": "giXg9naf2NVn"
      },
      "execution_count": null,
      "outputs": []
    },
    {
      "cell_type": "code",
      "source": [
        "corrs = housing_df_numerical.corr().round(2).unstack().abs()\n",
        "corrs = corrs[corrs < 1]\n",
        "corrs.sort_values(ascending = False)[::2]"
      ],
      "metadata": {
        "id": "QL_L4EUp2VYK"
      },
      "execution_count": null,
      "outputs": []
    },
    {
      "cell_type": "markdown",
      "source": [
        "## Processing\n"
      ],
      "metadata": {
        "id": "Ij_fgEbh2hVk"
      }
    },
    {
      "cell_type": "markdown",
      "source": [
        "### One Hot Encoding"
      ],
      "metadata": {
        "id": "NynNd1QIqUsj"
      }
    },
    {
      "cell_type": "code",
      "source": [
        "housing_df_categorical_cols = housing_df_clean.select_dtypes(include=['object']).columns"
      ],
      "metadata": {
        "id": "RvcvpJpiPJOF"
      },
      "execution_count": null,
      "outputs": []
    },
    {
      "cell_type": "code",
      "source": [
        "housing_df_encoded = pd.get_dummies(housing_df_categorical_cols)"
      ],
      "metadata": {
        "id": "vp-fQR5156xC"
      },
      "execution_count": null,
      "outputs": []
    },
    {
      "cell_type": "code",
      "source": [
        "housing_df_encoded.isna().sum().sum()"
      ],
      "metadata": {
        "id": "skJkl8Yq8R9t"
      },
      "execution_count": null,
      "outputs": []
    },
    {
      "cell_type": "markdown",
      "source": [
        "### Combining the Numerical and Encoded DataFrames"
      ],
      "metadata": {
        "id": "SWz5VNrvtqBE"
      }
    },
    {
      "cell_type": "code",
      "source": [
        "combined_housing_df =  pd.concat([housing_df_numerical, housing_df_encoded], axis = 1)"
      ],
      "metadata": {
        "collapsed": true,
        "id": "JIJSrj9dtubX"
      },
      "execution_count": null,
      "outputs": []
    },
    {
      "cell_type": "markdown",
      "source": [
        "Fill the NA's with the means of each column."
      ],
      "metadata": {
        "id": "dYGyE9YRw9c-"
      }
    },
    {
      "cell_type": "code",
      "source": [
        "column_means = combined_housing_df.mean()\n",
        "combined_housing_df = combined_housing_df.fillna(column_means)"
      ],
      "metadata": {
        "id": "OwZOiZ39w-_s"
      },
      "execution_count": null,
      "outputs": []
    },
    {
      "cell_type": "code",
      "execution_count": null,
      "metadata": {
        "id": "z-Tk-zDLLGDg"
      },
      "outputs": [],
      "source": [
        "# First we will break up our data into training and testing sets\n",
        "X = combined_housing_df.drop('SalePrice', axis = 1)\n",
        "y = combined_housing_df['SalePrice']\n",
        "\n",
        "X_train, X_test, y_train, y_test = train_test_split(X, y, test_size = 0.2, random_state=4)"
      ]
    },
    {
      "cell_type": "code",
      "execution_count": null,
      "metadata": {
        "id": "xB_Eq-LtIXQZ",
        "collapsed": true
      },
      "outputs": [],
      "source": [
        "# Fit a linear model using Sklearn\n",
        "model = LinearRegression()\n",
        "combined_housing_df_fit_SK = model.fit(X_train, y_train)\n",
        "\n",
        "(combined_housing_df_fit_SK.intercept_, combined_housing_df_fit_SK.coef_ )\n"
      ]
    },
    {
      "cell_type": "code",
      "source": [
        "y_pred = combined_housing_df_fit_SK.predict(X_test)\n",
        "list(zip(y_test, y_pred))[:5]"
      ],
      "metadata": {
        "id": "2daruc1osmTY"
      },
      "execution_count": null,
      "outputs": []
    },
    {
      "cell_type": "markdown",
      "source": [
        "### RMSPE: 14.27"
      ],
      "metadata": {
        "id": "0vPgM_airLw1"
      }
    },
    {
      "cell_type": "code",
      "source": [
        " rmspe = (np. sqrt(np. mean(np. square((y_test - y_pred) / y_test)))) * 100\n",
        " rmspe"
      ],
      "metadata": {
        "id": "ySvhF7A3rA9v",
        "colab": {
          "base_uri": "https://localhost:8080/"
        },
        "outputId": "4609fdfe-5190-4489-9f23-c8ed71f74fc6"
      },
      "execution_count": 140,
      "outputs": [
        {
          "output_type": "execute_result",
          "data": {
            "text/plain": [
              "14.278548833445894"
            ]
          },
          "metadata": {},
          "execution_count": 140
        }
      ]
    },
    {
      "cell_type": "markdown",
      "source": [
        "### Filtering Data/ Feature Selection\n"
      ],
      "metadata": {
        "id": "I_ogCC-dr4CW"
      }
    },
    {
      "cell_type": "code",
      "source": [
        "housing_df_numerical.corr()['SalePrice'].abs().sort_values(ascending = False)"
      ],
      "metadata": {
        "collapsed": true,
        "id": "7IK3olPwr678"
      },
      "execution_count": null,
      "outputs": []
    },
    {
      "cell_type": "code",
      "source": [
        "housing_df_numerical.info()"
      ],
      "metadata": {
        "id": "dCMM6utp08sF"
      },
      "execution_count": null,
      "outputs": []
    },
    {
      "cell_type": "code",
      "source": [
        "housing_df_numerical.corr()['SalePrice'].abs().sort_values(ascending = False).plot(kind = 'bar', figsize = (10,5)) ;"
      ],
      "metadata": {
        "collapsed": true,
        "id": "2QF6bY3ZsFWy"
      },
      "execution_count": null,
      "outputs": []
    },
    {
      "cell_type": "code",
      "source": [
        "corrs = housing_df_numerical.corr()['SalePrice'].abs().sort_values(ascending = False)\n",
        "keep = corrs[(corrs>.2) & (corrs <1)]\n",
        "keep"
      ],
      "metadata": {
        "collapsed": true,
        "id": "lonRyn91yEpZ"
      },
      "execution_count": null,
      "outputs": []
    },
    {
      "cell_type": "code",
      "source": [
        "X_corr = X[keep.index]\n",
        "X_corr.info()"
      ],
      "metadata": {
        "collapsed": true,
        "id": "EEhwUx_iyVp0"
      },
      "execution_count": null,
      "outputs": []
    },
    {
      "cell_type": "code",
      "source": [
        "X = pd.concat([X_corr, housing_df_encoded], axis = 1)\n",
        "X.info()"
      ],
      "metadata": {
        "id": "2Z2PXfdaycb2"
      },
      "execution_count": null,
      "outputs": []
    },
    {
      "cell_type": "code",
      "source": [
        "X = combined_housing_df.drop('SalePrice', axis = 1)\n",
        "y = combined_housing_df['SalePrice']\n",
        "\n",
        "X_train, X_test, y_train, y_test = train_test_split(X, y, test_size = 0.2, random_state=4)\n",
        "\n",
        "\n",
        "model = LinearRegression()\n",
        "combined_housing_df_fit_SK = model.fit(X_train, y_train)\n",
        "\n",
        "(combined_housing_df_fit_SK.intercept_, combined_housing_df_fit_SK.coef_ )\n"
      ],
      "metadata": {
        "id": "CPAO15nXy3si"
      },
      "execution_count": null,
      "outputs": []
    },
    {
      "cell_type": "code",
      "source": [
        "y_pred = combined_housing_df_fit_SK.predict(X_test)\n",
        "list(zip(y_test, y_pred))[:5]"
      ],
      "metadata": {
        "id": "Yrts1xf3zW7W"
      },
      "execution_count": null,
      "outputs": []
    },
    {
      "cell_type": "code",
      "source": [
        " rmspe = (np. sqrt(np. mean(np. square((y_test - y_pred) / y_test)))) * 100\n",
        " rmspe"
      ],
      "metadata": {
        "id": "KK87hh_mzan9"
      },
      "execution_count": null,
      "outputs": []
    },
    {
      "cell_type": "markdown",
      "source": [
        "## Data Visualization/Communication of Results\n"
      ],
      "metadata": {
        "id": "gjDTKyc12jR7"
      }
    },
    {
      "cell_type": "code",
      "source": [
        "y_pred = combined_housing_df_fit_SK.predict(X_test)\n",
        "plt.scatter(y_test, y_pred)\n",
        "plt.plot([min(y_pred), max(y_pred)],[min(y_pred), max(y_pred)], c='red')\n",
        "plt.xlabel('Actual Sales Price')\n",
        "plt.ylabel('Predicted Sales Price') ;"
      ],
      "metadata": {
        "id": "wfxYBRQg1w1X"
      },
      "execution_count": null,
      "outputs": []
    },
    {
      "cell_type": "markdown",
      "source": [
        "**QQ PLOT**"
      ],
      "metadata": {
        "id": "PRagHVjbucMV"
      }
    },
    {
      "cell_type": "code",
      "source": [
        "res = y_test - y_pred\n",
        "sm.qqplot(res, fit=True, line=\"45\") ;"
      ],
      "metadata": {
        "id": "A9F8LQxluamH"
      },
      "execution_count": null,
      "outputs": []
    },
    {
      "cell_type": "code",
      "execution_count": null,
      "metadata": {
        "id": "VJ0Rgvgeso3P"
      },
      "outputs": [],
      "source": [
        "# Residuals vs Fitted (Predicted) Values - Constant variance\n",
        "plt.figure(figsize = (10,6))\n",
        "plt.scatter(y_pred, res)\n",
        "plt.xlabel(\"Fitted\")\n",
        "plt.ylabel(\"Residuals\")\n",
        "plt.hlines(0, min(y_pred), max(y_pred), colors = 'red', linestyles = 'dashed') ;"
      ]
    },
    {
      "cell_type": "code",
      "execution_count": null,
      "metadata": {
        "id": "IMgbzFp0s6WO"
      },
      "outputs": [],
      "source": [
        "# Residuals vs Time - indepedence\n",
        "plt.figure(figsize = (10,6))\n",
        "plt.scatter(range(len(res)), res)\n",
        "plt.plot(range(len(res)), res, 'b')\n",
        "plt.xlabel(\"Time\")\n",
        "plt.ylabel(\"Residuals\")\n",
        "plt.hlines(0, min(range(len(res))), max(range(len(res))), colors = 'red', linestyles = 'dashed') ;"
      ]
    },
    {
      "cell_type": "markdown",
      "source": [
        "### SUMMARY\n"
      ],
      "metadata": {
        "id": "22HAmSSNuJpA"
      }
    },
    {
      "cell_type": "markdown",
      "source": [
        "Dropped all null values. One hot encoded the categorical columns. Dropped columns where the non-null values where above 15% of the data. Replaced all 0 values with the mean of each column. RSMPE value of 14.24."
      ],
      "metadata": {
        "id": "hvjn5kUxuMZu"
      }
    }
  ]
}
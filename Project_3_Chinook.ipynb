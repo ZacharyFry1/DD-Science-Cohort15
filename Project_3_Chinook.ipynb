{
  "nbformat": 4,
  "nbformat_minor": 0,
  "metadata": {
    "colab": {
      "provenance": [],
      "toc_visible": true,
      "authorship_tag": "ABX9TyNX4ld3SrXZH+3rvJoZN+3H",
      "include_colab_link": true
    },
    "kernelspec": {
      "name": "python3",
      "display_name": "Python 3"
    },
    "language_info": {
      "name": "python"
    }
  },
  "cells": [
    {
      "cell_type": "markdown",
      "metadata": {
        "id": "view-in-github",
        "colab_type": "text"
      },
      "source": [
        "<a href=\"https://colab.research.google.com/github/ZacharyFry1/DD-Science-Cohort15/blob/main/Project_3_Chinook.ipynb\" target=\"_parent\"><img src=\"https://colab.research.google.com/assets/colab-badge.svg\" alt=\"Open In Colab\"/></a>"
      ]
    },
    {
      "cell_type": "markdown",
      "source": [
        "Installing sql lite."
      ],
      "metadata": {
        "id": "9JL26pS6qUY7"
      }
    },
    {
      "cell_type": "code",
      "execution_count": null,
      "metadata": {
        "id": "ZJc4T_cyqLa0"
      },
      "outputs": [],
      "source": [
        "%%capture\n",
        "%%bash\n",
        "apt-get update\n",
        "apt-get install -y sqlite3\n"
      ]
    },
    {
      "cell_type": "markdown",
      "source": [
        "Checking the version."
      ],
      "metadata": {
        "id": "bVAgtu0Sr3dW"
      }
    },
    {
      "cell_type": "code",
      "source": [
        "!sqlite3 --version"
      ],
      "metadata": {
        "id": "zzuW4Dpeqa6k",
        "colab": {
          "base_uri": "https://localhost:8080/"
        },
        "outputId": "93d875c4-1efe-44ed-8766-b0529487929d"
      },
      "execution_count": null,
      "outputs": [
        {
          "output_type": "stream",
          "name": "stdout",
          "text": [
            "3.37.2 2022-01-06 13:25:41 872ba256cbf61d9290b571c0e6d82a20c224ca3ad82971edc46b29818d5dalt1\n"
          ]
        }
      ]
    },
    {
      "cell_type": "markdown",
      "source": [
        "Unzipping the File."
      ],
      "metadata": {
        "id": "3OVkyEflsLxj"
      }
    },
    {
      "cell_type": "code",
      "source": [
        "%%bash\n",
        "[ -f chinook.zip ] ||\n",
        "  curl -s -O https://www.sqlitetutorial.net/wp-content/uploads/2018/03/chinook.zip\n",
        "unzip -l chinook.zip\n"
      ],
      "metadata": {
        "id": "7z25X49yqfY1",
        "colab": {
          "base_uri": "https://localhost:8080/"
        },
        "outputId": "db73854a-086f-48b3-a25d-a93dc71b44f7"
      },
      "execution_count": null,
      "outputs": [
        {
          "output_type": "stream",
          "name": "stdout",
          "text": [
            "Archive:  chinook.zip\n",
            "  Length      Date    Time    Name\n",
            "---------  ---------- -----   ----\n",
            "   884736  2015-11-29 10:53   chinook.db\n",
            "---------                     -------\n",
            "   884736                     1 file\n"
          ]
        }
      ]
    },
    {
      "cell_type": "code",
      "source": [
        "!unzip -u chinook.zip\n"
      ],
      "metadata": {
        "id": "bwN4uBCUqi1x",
        "colab": {
          "base_uri": "https://localhost:8080/"
        },
        "outputId": "5063f948-ecf5-41b3-d374-3dad063e709c"
      },
      "execution_count": null,
      "outputs": [
        {
          "output_type": "stream",
          "name": "stdout",
          "text": [
            "Archive:  chinook.zip\n"
          ]
        }
      ]
    },
    {
      "cell_type": "code",
      "source": [
        "%%bash\n",
        "[ -f chinook.zip ] ||\n",
        "  curl -s -O https://www.sqlitetutorial.net/wp-content/uploads/2018/03/chinook.zip\n",
        "unzip -l chinook.zip"
      ],
      "metadata": {
        "id": "6BHSfAMbqlwJ",
        "colab": {
          "base_uri": "https://localhost:8080/"
        },
        "outputId": "038a7258-ae3c-43a9-a4af-abb5d37019a3"
      },
      "execution_count": null,
      "outputs": [
        {
          "output_type": "stream",
          "name": "stdout",
          "text": [
            "Archive:  chinook.zip\n",
            "  Length      Date    Time    Name\n",
            "---------  ---------- -----   ----\n",
            "   884736  2015-11-29 10:53   chinook.db\n",
            "---------                     -------\n",
            "   884736                     1 file\n"
          ]
        }
      ]
    },
    {
      "cell_type": "code",
      "source": [
        "!ls -la"
      ],
      "metadata": {
        "id": "tPCGpbGAqo5T",
        "colab": {
          "base_uri": "https://localhost:8080/"
        },
        "outputId": "2aee4e26-ff77-429b-fe35-9a6cb1e022c5"
      },
      "execution_count": null,
      "outputs": [
        {
          "output_type": "stream",
          "name": "stdout",
          "text": [
            "total 1180\n",
            "drwxr-xr-x 1 root root   4096 Oct 29 00:15 .\n",
            "drwxr-xr-x 1 root root   4096 Oct 29 00:14 ..\n",
            "-rw-r--r-- 1 root root 884736 Nov 29  2015 chinook.db\n",
            "-rw-r--r-- 1 root root 305596 Oct 29 00:15 chinook.zip\n",
            "drwxr-xr-x 4 root root   4096 Oct 25 13:20 .config\n",
            "drwxr-xr-x 1 root root   4096 Oct 25 13:20 sample_data\n"
          ]
        }
      ]
    },
    {
      "cell_type": "code",
      "source": [
        "%%script sqlite3 --column --header chinook.db\n",
        ".tables\n"
      ],
      "metadata": {
        "id": "376dBTJCqsy5",
        "colab": {
          "base_uri": "https://localhost:8080/"
        },
        "outputId": "00a56e3c-b78c-4daa-d097-1e86a0686297"
      },
      "execution_count": null,
      "outputs": [
        {
          "output_type": "stream",
          "name": "stdout",
          "text": [
            "albums          employees       invoices        playlists     \n",
            "artists         genres          media_types     tracks        \n",
            "customers       invoice_items   playlist_track\n"
          ]
        }
      ]
    },
    {
      "cell_type": "code",
      "source": [
        "%%script sqlite3 --column --header chinook.db\n",
        ".schema\n"
      ],
      "metadata": {
        "id": "Y_PZHMgWqxeX",
        "colab": {
          "base_uri": "https://localhost:8080/"
        },
        "outputId": "df28c2e5-ff5b-49bb-9985-8d5b91d0bebf"
      },
      "execution_count": null,
      "outputs": [
        {
          "output_type": "stream",
          "name": "stdout",
          "text": [
            "CREATE TABLE IF NOT EXISTS \"albums\"\r\n",
            "(\r\n",
            "    [AlbumId] INTEGER PRIMARY KEY AUTOINCREMENT NOT NULL,\r\n",
            "    [Title] NVARCHAR(160)  NOT NULL,\r\n",
            "    [ArtistId] INTEGER  NOT NULL,\r\n",
            "    FOREIGN KEY ([ArtistId]) REFERENCES \"artists\" ([ArtistId]) \r\n",
            "\t\tON DELETE NO ACTION ON UPDATE NO ACTION\r\n",
            ");\n",
            "CREATE TABLE sqlite_sequence(name,seq);\n",
            "CREATE TABLE IF NOT EXISTS \"artists\"\r\n",
            "(\r\n",
            "    [ArtistId] INTEGER PRIMARY KEY AUTOINCREMENT NOT NULL,\r\n",
            "    [Name] NVARCHAR(120)\r\n",
            ");\n",
            "CREATE TABLE IF NOT EXISTS \"customers\"\r\n",
            "(\r\n",
            "    [CustomerId] INTEGER PRIMARY KEY AUTOINCREMENT NOT NULL,\r\n",
            "    [FirstName] NVARCHAR(40)  NOT NULL,\r\n",
            "    [LastName] NVARCHAR(20)  NOT NULL,\r\n",
            "    [Company] NVARCHAR(80),\r\n",
            "    [Address] NVARCHAR(70),\r\n",
            "    [City] NVARCHAR(40),\r\n",
            "    [State] NVARCHAR(40),\r\n",
            "    [Country] NVARCHAR(40),\r\n",
            "    [PostalCode] NVARCHAR(10),\r\n",
            "    [Phone] NVARCHAR(24),\r\n",
            "    [Fax] NVARCHAR(24),\r\n",
            "    [Email] NVARCHAR(60)  NOT NULL,\r\n",
            "    [SupportRepId] INTEGER,\r\n",
            "    FOREIGN KEY ([SupportRepId]) REFERENCES \"employees\" ([EmployeeId]) \r\n",
            "\t\tON DELETE NO ACTION ON UPDATE NO ACTION\r\n",
            ");\n",
            "CREATE TABLE IF NOT EXISTS \"employees\"\r\n",
            "(\r\n",
            "    [EmployeeId] INTEGER PRIMARY KEY AUTOINCREMENT NOT NULL,\r\n",
            "    [LastName] NVARCHAR(20)  NOT NULL,\r\n",
            "    [FirstName] NVARCHAR(20)  NOT NULL,\r\n",
            "    [Title] NVARCHAR(30),\r\n",
            "    [ReportsTo] INTEGER,\r\n",
            "    [BirthDate] DATETIME,\r\n",
            "    [HireDate] DATETIME,\r\n",
            "    [Address] NVARCHAR(70),\r\n",
            "    [City] NVARCHAR(40),\r\n",
            "    [State] NVARCHAR(40),\r\n",
            "    [Country] NVARCHAR(40),\r\n",
            "    [PostalCode] NVARCHAR(10),\r\n",
            "    [Phone] NVARCHAR(24),\r\n",
            "    [Fax] NVARCHAR(24),\r\n",
            "    [Email] NVARCHAR(60),\r\n",
            "    FOREIGN KEY ([ReportsTo]) REFERENCES \"employees\" ([EmployeeId]) \r\n",
            "\t\tON DELETE NO ACTION ON UPDATE NO ACTION\r\n",
            ");\n",
            "CREATE TABLE IF NOT EXISTS \"genres\"\r\n",
            "(\r\n",
            "    [GenreId] INTEGER PRIMARY KEY AUTOINCREMENT NOT NULL,\r\n",
            "    [Name] NVARCHAR(120)\r\n",
            ");\n",
            "CREATE TABLE IF NOT EXISTS \"invoices\"\r\n",
            "(\r\n",
            "    [InvoiceId] INTEGER PRIMARY KEY AUTOINCREMENT NOT NULL,\r\n",
            "    [CustomerId] INTEGER  NOT NULL,\r\n",
            "    [InvoiceDate] DATETIME  NOT NULL,\r\n",
            "    [BillingAddress] NVARCHAR(70),\r\n",
            "    [BillingCity] NVARCHAR(40),\r\n",
            "    [BillingState] NVARCHAR(40),\r\n",
            "    [BillingCountry] NVARCHAR(40),\r\n",
            "    [BillingPostalCode] NVARCHAR(10),\r\n",
            "    [Total] NUMERIC(10,2)  NOT NULL,\r\n",
            "    FOREIGN KEY ([CustomerId]) REFERENCES \"customers\" ([CustomerId]) \r\n",
            "\t\tON DELETE NO ACTION ON UPDATE NO ACTION\r\n",
            ");\n",
            "CREATE TABLE IF NOT EXISTS \"invoice_items\"\r\n",
            "(\r\n",
            "    [InvoiceLineId] INTEGER PRIMARY KEY AUTOINCREMENT NOT NULL,\r\n",
            "    [InvoiceId] INTEGER  NOT NULL,\r\n",
            "    [TrackId] INTEGER  NOT NULL,\r\n",
            "    [UnitPrice] NUMERIC(10,2)  NOT NULL,\r\n",
            "    [Quantity] INTEGER  NOT NULL,\r\n",
            "    FOREIGN KEY ([InvoiceId]) REFERENCES \"invoices\" ([InvoiceId]) \r\n",
            "\t\tON DELETE NO ACTION ON UPDATE NO ACTION,\r\n",
            "    FOREIGN KEY ([TrackId]) REFERENCES \"tracks\" ([TrackId]) \r\n",
            "\t\tON DELETE NO ACTION ON UPDATE NO ACTION\r\n",
            ");\n",
            "CREATE TABLE IF NOT EXISTS \"media_types\"\r\n",
            "(\r\n",
            "    [MediaTypeId] INTEGER PRIMARY KEY AUTOINCREMENT NOT NULL,\r\n",
            "    [Name] NVARCHAR(120)\r\n",
            ");\n",
            "CREATE TABLE IF NOT EXISTS \"playlists\"\r\n",
            "(\r\n",
            "    [PlaylistId] INTEGER PRIMARY KEY AUTOINCREMENT NOT NULL,\r\n",
            "    [Name] NVARCHAR(120)\r\n",
            ");\n",
            "CREATE TABLE IF NOT EXISTS \"playlist_track\"\r\n",
            "(\r\n",
            "    [PlaylistId] INTEGER  NOT NULL,\r\n",
            "    [TrackId] INTEGER  NOT NULL,\r\n",
            "    CONSTRAINT [PK_PlaylistTrack] PRIMARY KEY  ([PlaylistId], [TrackId]),\r\n",
            "    FOREIGN KEY ([PlaylistId]) REFERENCES \"playlists\" ([PlaylistId]) \r\n",
            "\t\tON DELETE NO ACTION ON UPDATE NO ACTION,\r\n",
            "    FOREIGN KEY ([TrackId]) REFERENCES \"tracks\" ([TrackId]) \r\n",
            "\t\tON DELETE NO ACTION ON UPDATE NO ACTION\r\n",
            ");\n",
            "CREATE TABLE IF NOT EXISTS \"tracks\"\r\n",
            "(\r\n",
            "    [TrackId] INTEGER PRIMARY KEY AUTOINCREMENT NOT NULL,\r\n",
            "    [Name] NVARCHAR(200)  NOT NULL,\r\n",
            "    [AlbumId] INTEGER,\r\n",
            "    [MediaTypeId] INTEGER  NOT NULL,\r\n",
            "    [GenreId] INTEGER,\r\n",
            "    [Composer] NVARCHAR(220),\r\n",
            "    [Milliseconds] INTEGER  NOT NULL,\r\n",
            "    [Bytes] INTEGER,\r\n",
            "    [UnitPrice] NUMERIC(10,2)  NOT NULL,\r\n",
            "    FOREIGN KEY ([AlbumId]) REFERENCES \"albums\" ([AlbumId]) \r\n",
            "\t\tON DELETE NO ACTION ON UPDATE NO ACTION,\r\n",
            "    FOREIGN KEY ([GenreId]) REFERENCES \"genres\" ([GenreId]) \r\n",
            "\t\tON DELETE NO ACTION ON UPDATE NO ACTION,\r\n",
            "    FOREIGN KEY ([MediaTypeId]) REFERENCES \"media_types\" ([MediaTypeId]) \r\n",
            "\t\tON DELETE NO ACTION ON UPDATE NO ACTION\r\n",
            ");\n",
            "CREATE INDEX [IFK_AlbumArtistId] ON \"albums\" ([ArtistId]);\n",
            "CREATE INDEX [IFK_CustomerSupportRepId] ON \"customers\" ([SupportRepId]);\n",
            "CREATE INDEX [IFK_EmployeeReportsTo] ON \"employees\" ([ReportsTo]);\n",
            "CREATE INDEX [IFK_InvoiceCustomerId] ON \"invoices\" ([CustomerId]);\n",
            "CREATE INDEX [IFK_InvoiceLineInvoiceId] ON \"invoice_items\" ([InvoiceId]);\n",
            "CREATE INDEX [IFK_InvoiceLineTrackId] ON \"invoice_items\" ([TrackId]);\n",
            "CREATE INDEX [IFK_PlaylistTrackTrackId] ON \"playlist_track\" ([TrackId]);\n",
            "CREATE INDEX [IFK_TrackAlbumId] ON \"tracks\" ([AlbumId]);\n",
            "CREATE INDEX [IFK_TrackGenreId] ON \"tracks\" ([GenreId]);\n",
            "CREATE INDEX [IFK_TrackMediaTypeId] ON \"tracks\" ([MediaTypeId]);\n",
            "CREATE TABLE sqlite_stat1(tbl,idx,stat);\n"
          ]
        }
      ]
    },
    {
      "cell_type": "markdown",
      "source": [
        "### Basic Queries\n"
      ],
      "metadata": {
        "id": "1ct7M0ESs-or"
      }
    },
    {
      "cell_type": "markdown",
      "source": [
        "#### SELECT (with * and with column names)\n"
      ],
      "metadata": {
        "id": "2cRvVeGbtCLo"
      }
    },
    {
      "cell_type": "markdown",
      "source": [
        "What was the track count for each artist?\n",
        "\n",
        "> Add blockquote\n",
        "\n"
      ],
      "metadata": {
        "id": "blzO9eFCn88w"
      }
    },
    {
      "cell_type": "code",
      "source": [
        "# Select the first 10 entries from the employees table\n",
        "%%script sqlite3 --column --header chinook.db\n",
        "SELECT artists.Name, artists.ArtistId, albums.ArtistId, albums.Title, albums.AlbumId, tracks.AlbumId, COUNT(tracks.TrackId) AS `Track Count`, tracks.Name\n",
        "FROM artists\n",
        "JOIN albums\n",
        "  ON artists.ArtistId = albums.ArtistId\n",
        "JOIN tracks\n",
        "  ON albums.AlbumId = tracks.AlbumID\n",
        "GROUP BY artists.ArtistId\n",
        "ORDER BY artists.ArtistId\n",
        "LIMIT 20;\n"
      ],
      "metadata": {
        "colab": {
          "base_uri": "https://localhost:8080/"
        },
        "id": "7pjwG6TcqRRN",
        "outputId": "0fbad312-1ba7-45f2-ba2a-d85b91350904"
      },
      "execution_count": null,
      "outputs": [
        {
          "output_type": "stream",
          "name": "stdout",
          "text": [
            "Name                         ArtistId  ArtistId  Title                                             AlbumId  AlbumId  Track Count  Name                                   \n",
            "---------------------------  --------  --------  ------------------------------------------------  -------  -------  -----------  ---------------------------------------\n",
            "AC/DC                        1         1         For Those About To Rock We Salute You             1        1        18           For Those About To Rock (We Salute You)\n",
            "Accept                       2         2         Balls to the Wall                                 2        2        4            Balls to the Wall                      \n",
            "Aerosmith                    3         3         Big Ones                                          5        5        15           Walk On Water                          \n",
            "Alanis Morissette            4         4         Jagged Little Pill                                6        6        13           All I Really Want                      \n",
            "Alice In Chains              5         5         Facelift                                          7        7        12           We Die Young                           \n",
            "Antônio Carlos Jobim         6         6         Warner 25 Anos                                    8        8        31           Desafinado                             \n",
            "Apocalyptica                 7         7         Plays Metallica By Four Cellos                    9        9        8            Enter Sandman                          \n",
            "Audioslave                   8         8         Audioslave                                        10       10       40           Cochise                                \n",
            "BackBeat                     9         9         BackBeat Soundtrack                               12       12       12           Money                                  \n",
            "Billy Cobham                 10        10        The Best Of Billy Cobham                          13       13       8            Quadrant                               \n",
            "Black Label Society          11        11        Alcohol Fueled Brewtality Live! [Disc 1]          14       14       18           Intro/ Low Down                        \n",
            "Black Sabbath                12        12        Black Sabbath                                     16       16       17           Black Sabbath                          \n",
            "Body Count                   13        13        Body Count                                        18       18       17           Smoked Pork                            \n",
            "Bruce Dickinson              14        14        Chemical Wedding                                  19       19       11           King In Crimson                        \n",
            "Buddy Guy                    15        15        The Best Of Buddy Guy - The Millenium Collection  20       20       11           First Time I Met The Blues             \n",
            "Caetano Veloso               16        16        Prenda Minha                                      21       21       21           Jorge Da Capadócia                     \n",
            "Chico Buarque                17        17        Minha Historia                                    23       23       34           Carolina                               \n",
            "Chico Science & Nação Zumbi  18        18        Afrociberdelia                                    24       24       36           Mateus Enter                           \n",
            "Cidade Negra                 19        19        Acústico MTV [Live]                               26       26       31           Girassol                               \n",
            "Cláudio Zoli                 20        20        Na Pista                                          28       28       10           Noite Do Prazer                        \n"
          ]
        }
      ]
    },
    {
      "cell_type": "code",
      "source": [
        "# Select the first 10 entries from the employees table\n",
        "%%script sqlite3 --column --header chinook.db\n",
        "SELECT COUNT(1)\n",
        "FROM albums\n",
        "LIMIT 10"
      ],
      "metadata": {
        "colab": {
          "base_uri": "https://localhost:8080/"
        },
        "id": "Js0AaEpmqEEd",
        "outputId": "d825eee4-e777-47e4-d16f-1a57e03411fd"
      },
      "execution_count": null,
      "outputs": [
        {
          "output_type": "stream",
          "name": "stdout",
          "text": [
            "COUNT(1)\n",
            "--------\n",
            "347     \n"
          ]
        }
      ]
    },
    {
      "cell_type": "code",
      "source": [
        "# Select the first 10 entries from the employees table\n",
        "%%script sqlite3 --column --header chinook.db\n",
        "SELECT *\n",
        "FROM playlist_track\n",
        "LIMIT 10"
      ],
      "metadata": {
        "colab": {
          "base_uri": "https://localhost:8080/"
        },
        "id": "CWrvWuVOmItx",
        "outputId": "f7126eb7-9139-484d-8a1d-d1f862a2ee73"
      },
      "execution_count": null,
      "outputs": [
        {
          "output_type": "stream",
          "name": "stdout",
          "text": [
            "PlaylistId  TrackId\n",
            "----------  -------\n",
            "1           3402   \n",
            "1           3389   \n",
            "1           3390   \n",
            "1           3391   \n",
            "1           3392   \n",
            "1           3393   \n",
            "1           3394   \n",
            "1           3395   \n",
            "1           3396   \n",
            "1           3397   \n"
          ]
        }
      ]
    },
    {
      "cell_type": "code",
      "source": [
        "# Select the first 10 entries from the employees table\n",
        "%%script sqlite3 --column --header chinook.db\n",
        "SELECT COUNT(1)\n",
        "FROM playlist_track\n",
        "LIMIT 10"
      ],
      "metadata": {
        "colab": {
          "base_uri": "https://localhost:8080/"
        },
        "id": "_EHGLEH0l5Mu",
        "outputId": "3cff2366-dc79-49a5-8b8a-a8f2970c74fb"
      },
      "execution_count": null,
      "outputs": [
        {
          "output_type": "stream",
          "name": "stdout",
          "text": [
            "COUNT(1)\n",
            "--------\n",
            "8715    \n"
          ]
        }
      ]
    },
    {
      "cell_type": "markdown",
      "source": [
        "Getting an idea about what's in each table. Question: What rows and columns are contained in each table?"
      ],
      "metadata": {
        "id": "r-AreT4YvZMr"
      }
    },
    {
      "cell_type": "code",
      "source": [
        "# Select the first 10 entries from the employees table\n",
        "%%script sqlite3 --column --header chinook.db\n",
        "SELECT *\n",
        "FROM albums\n",
        "LIMIT 10\n"
      ],
      "metadata": {
        "id": "YLbFOLCgtGRB",
        "colab": {
          "base_uri": "https://localhost:8080/"
        },
        "outputId": "15681347-6907-4449-ef71-eab6d5c31b4e"
      },
      "execution_count": null,
      "outputs": [
        {
          "output_type": "stream",
          "name": "stdout",
          "text": [
            "AlbumId  Title                                  ArtistId\n",
            "-------  -------------------------------------  --------\n",
            "1        For Those About To Rock We Salute You  1       \n",
            "2        Balls to the Wall                      2       \n",
            "3        Restless and Wild                      2       \n",
            "4        Let There Be Rock                      1       \n",
            "5        Big Ones                               3       \n",
            "6        Jagged Little Pill                     4       \n",
            "7        Facelift                               5       \n",
            "8        Warner 25 Anos                         6       \n",
            "9        Plays Metallica By Four Cellos         7       \n",
            "10       Audioslave                             8       \n"
          ]
        }
      ]
    },
    {
      "cell_type": "code",
      "source": [
        "%%script sqlite3 --column --header chinook.db\n",
        "SELECT *\n",
        "FROM artists\n",
        "LIMIT 10"
      ],
      "metadata": {
        "id": "1lXGw1OAwMyH",
        "colab": {
          "base_uri": "https://localhost:8080/"
        },
        "outputId": "12e550c2-dcec-4255-ab2a-c331e618c392"
      },
      "execution_count": null,
      "outputs": [
        {
          "output_type": "stream",
          "name": "stdout",
          "text": [
            "ArtistId  Name                \n",
            "--------  --------------------\n",
            "1         AC/DC               \n",
            "2         Accept              \n",
            "3         Aerosmith           \n",
            "4         Alanis Morissette   \n",
            "5         Alice In Chains     \n",
            "6         Antônio Carlos Jobim\n",
            "7         Apocalyptica        \n",
            "8         Audioslave          \n",
            "9         BackBeat            \n",
            "10        Billy Cobham        \n"
          ]
        }
      ]
    },
    {
      "cell_type": "code",
      "source": [
        "%%script sqlite3 --column --header chinook.db\n",
        "SELECT *\n",
        "FROM media_types\n",
        "LIMIT 10"
      ],
      "metadata": {
        "id": "_5qMwhQpwyo8",
        "colab": {
          "base_uri": "https://localhost:8080/"
        },
        "outputId": "15212465-d54e-49c3-be9e-9af576490a47"
      },
      "execution_count": null,
      "outputs": [
        {
          "output_type": "stream",
          "name": "stdout",
          "text": [
            "MediaTypeId  Name                       \n",
            "-----------  ---------------------------\n",
            "1            MPEG audio file            \n",
            "2            Protected AAC audio file   \n",
            "3            Protected MPEG-4 video file\n",
            "4            Purchased AAC audio file   \n",
            "5            AAC audio file             \n"
          ]
        }
      ]
    },
    {
      "cell_type": "code",
      "source": [
        "%%script sqlite3 --column --header chinook.db\n",
        "SELECT *\n",
        "FROM genres\n",
        "LIMIT 10"
      ],
      "metadata": {
        "id": "OR0Wve8LyIfG",
        "colab": {
          "base_uri": "https://localhost:8080/"
        },
        "outputId": "e1f9935f-e979-46a1-9415-817f9cbb6aca"
      },
      "execution_count": null,
      "outputs": [
        {
          "output_type": "stream",
          "name": "stdout",
          "text": [
            "GenreId  Name              \n",
            "-------  ------------------\n",
            "1        Rock              \n",
            "2        Jazz              \n",
            "3        Metal             \n",
            "4        Alternative & Punk\n",
            "5        Rock And Roll     \n",
            "6        Blues             \n",
            "7        Latin             \n",
            "8        Reggae            \n",
            "9        Pop               \n",
            "10       Soundtrack        \n"
          ]
        }
      ]
    },
    {
      "cell_type": "code",
      "source": [
        "%%script sqlite3 --column --header chinook.db\n",
        "SELECT *\n",
        "FROM playlists\n",
        "LIMIT 10"
      ],
      "metadata": {
        "id": "wvemIICZyIWz",
        "colab": {
          "base_uri": "https://localhost:8080/"
        },
        "outputId": "d0932460-9e95-4dde-ad6d-2768c05fb5ac"
      },
      "execution_count": null,
      "outputs": [
        {
          "output_type": "stream",
          "name": "stdout",
          "text": [
            "PlaylistId  Name        \n",
            "----------  ------------\n",
            "1           Music       \n",
            "2           Movies      \n",
            "3           TV Shows    \n",
            "4           Audiobooks  \n",
            "5           90’s Music  \n",
            "6           Audiobooks  \n",
            "7           Movies      \n",
            "8           Music       \n",
            "9           Music Videos\n",
            "10          TV Shows    \n"
          ]
        }
      ]
    },
    {
      "cell_type": "code",
      "source": [
        "%%script sqlite3 --column --header chinook.db\n",
        "SELECT *\n",
        "FROM tracks\n",
        "LIMIT 10"
      ],
      "metadata": {
        "id": "Y49xRD0NyIUk",
        "colab": {
          "base_uri": "https://localhost:8080/"
        },
        "outputId": "ffed38f2-b401-498d-cb38-4474c4018020"
      },
      "execution_count": null,
      "outputs": [
        {
          "output_type": "stream",
          "name": "stdout",
          "text": [
            "TrackId  Name                                     AlbumId  MediaTypeId  GenreId  Composer                                                                Milliseconds  Bytes     UnitPrice\n",
            "-------  ---------------------------------------  -------  -----------  -------  ----------------------------------------------------------------------  ------------  --------  ---------\n",
            "1        For Those About To Rock (We Salute You)  1        1            1        Angus Young, Malcolm Young, Brian Johnson                               343719        11170334  0.99     \n",
            "2        Balls to the Wall                        2        2            1                                                                                342562        5510424   0.99     \n",
            "3        Fast As a Shark                          3        2            1        F. Baltes, S. Kaufman, U. Dirkscneider & W. Hoffman                     230619        3990994   0.99     \n",
            "4        Restless and Wild                        3        2            1        F. Baltes, R.A. Smith-Diesel, S. Kaufman, U. Dirkscneider & W. Hoffman  252051        4331779   0.99     \n",
            "5        Princess of the Dawn                     3        2            1        Deaffy & R.A. Smith-Diesel                                              375418        6290521   0.99     \n",
            "6        Put The Finger On You                    1        1            1        Angus Young, Malcolm Young, Brian Johnson                               205662        6713451   0.99     \n",
            "7        Let's Get It Up                          1        1            1        Angus Young, Malcolm Young, Brian Johnson                               233926        7636561   0.99     \n",
            "8        Inject The Venom                         1        1            1        Angus Young, Malcolm Young, Brian Johnson                               210834        6852860   0.99     \n",
            "9        Snowballed                               1        1            1        Angus Young, Malcolm Young, Brian Johnson                               203102        6599424   0.99     \n",
            "10       Evil Walks                               1        1            1        Angus Young, Malcolm Young, Brian Johnson                               263497        8611245   0.99     \n"
          ]
        }
      ]
    },
    {
      "cell_type": "code",
      "source": [
        "%%script sqlite3 --column --header chinook.db\n",
        "SELECT *\n",
        "FROM artists\n",
        "LIMIT 10"
      ],
      "metadata": {
        "id": "g2aHoegmyIRQ",
        "colab": {
          "base_uri": "https://localhost:8080/"
        },
        "outputId": "220c4f3c-0d61-4706-9c34-2692407f278b"
      },
      "execution_count": null,
      "outputs": [
        {
          "output_type": "stream",
          "name": "stdout",
          "text": [
            "ArtistId  Name                \n",
            "--------  --------------------\n",
            "1         AC/DC               \n",
            "2         Accept              \n",
            "3         Aerosmith           \n",
            "4         Alanis Morissette   \n",
            "5         Alice In Chains     \n",
            "6         Antônio Carlos Jobim\n",
            "7         Apocalyptica        \n",
            "8         Audioslave          \n",
            "9         BackBeat            \n",
            "10        Billy Cobham        \n"
          ]
        }
      ]
    },
    {
      "cell_type": "code",
      "source": [
        "%%script sqlite3 --column --header chinook.db\n",
        "SELECT *\n",
        "FROM artists\n",
        "LIMIT 10"
      ],
      "metadata": {
        "id": "DiqJ_-ZfyIO1",
        "colab": {
          "base_uri": "https://localhost:8080/"
        },
        "outputId": "e24c4da8-53be-496d-bf98-335c8a8aff4c"
      },
      "execution_count": null,
      "outputs": [
        {
          "output_type": "stream",
          "name": "stdout",
          "text": [
            "ArtistId  Name                \n",
            "--------  --------------------\n",
            "1         AC/DC               \n",
            "2         Accept              \n",
            "3         Aerosmith           \n",
            "4         Alanis Morissette   \n",
            "5         Alice In Chains     \n",
            "6         Antônio Carlos Jobim\n",
            "7         Apocalyptica        \n",
            "8         Audioslave          \n",
            "9         BackBeat            \n",
            "10        Billy Cobham        \n"
          ]
        }
      ]
    },
    {
      "cell_type": "code",
      "source": [
        "%%script sqlite3 --column --header chinook.db\n",
        "SELECT *\n",
        "FROM invoices\n"
      ],
      "metadata": {
        "id": "WsQuqiY7yIMK",
        "colab": {
          "base_uri": "https://localhost:8080/"
        },
        "outputId": "190c477b-bc7f-4046-c381-6c5812a862f1"
      },
      "execution_count": null,
      "outputs": [
        {
          "output_type": "stream",
          "name": "stdout",
          "text": [
            "InvoiceId  CustomerId  InvoiceDate          BillingAddress                            BillingCity          BillingState  BillingCountry  BillingPostalCode  Total\n",
            "---------  ----------  -------------------  ----------------------------------------  -------------------  ------------  --------------  -----------------  -----\n",
            "1          2           2009-01-01 00:00:00  Theodor-Heuss-Straße 34                   Stuttgart                          Germany         70174              1.98 \n",
            "2          4           2009-01-02 00:00:00  Ullevålsveien 14                          Oslo                               Norway          0171               3.96 \n",
            "3          8           2009-01-03 00:00:00  Grétrystraat 63                           Brussels                           Belgium         1000               5.94 \n",
            "4          14          2009-01-06 00:00:00  8210 111 ST NW                            Edmonton             AB            Canada          T6G 2C7            8.91 \n",
            "5          23          2009-01-11 00:00:00  69 Salem Street                           Boston               MA            USA             2113               13.86\n",
            "6          37          2009-01-19 00:00:00  Berger Straße 10                          Frankfurt                          Germany         60316              0.99 \n",
            "7          38          2009-02-01 00:00:00  Barbarossastraße 19                       Berlin                             Germany         10779              1.98 \n",
            "8          40          2009-02-01 00:00:00  8, Rue Hanovre                            Paris                              France          75002              1.98 \n",
            "9          42          2009-02-02 00:00:00  9, Place Louis Barthou                    Bordeaux                           France          33000              3.96 \n",
            "10         46          2009-02-03 00:00:00  3 Chatham Street                          Dublin               Dublin        Ireland                            5.94 \n",
            "11         52          2009-02-06 00:00:00  202 Hoxton Street                         London                             United Kingdom  N1 5LH             8.91 \n",
            "12         2           2009-02-11 00:00:00  Theodor-Heuss-Straße 34                   Stuttgart                          Germany         70174              13.86\n",
            "13         16          2009-02-19 00:00:00  1600 Amphitheatre Parkway                 Mountain View        CA            USA             94043-1351         0.99 \n",
            "14         17          2009-03-04 00:00:00  1 Microsoft Way                           Redmond              WA            USA             98052-8300         1.98 \n",
            "15         19          2009-03-04 00:00:00  1 Infinite Loop                           Cupertino            CA            USA             95014              1.98 \n",
            "16         21          2009-03-05 00:00:00  801 W 4th Street                          Reno                 NV            USA             89503              3.96 \n",
            "17         25          2009-03-06 00:00:00  319 N. Frances Street                     Madison              WI            USA             53703              5.94 \n",
            "18         31          2009-03-09 00:00:00  194A Chain Lake Drive                     Halifax              NS            Canada          B3S 1C5            8.91 \n",
            "19         40          2009-03-14 00:00:00  8, Rue Hanovre                            Paris                              France          75002              13.86\n",
            "20         54          2009-03-22 00:00:00  110 Raeburn Pl                            Edinburgh                          United Kingdom  EH4 1HH            0.99 \n",
            "21         55          2009-04-04 00:00:00  421 Bourke Street                         Sidney               NSW           Australia       2010               1.98 \n",
            "22         57          2009-04-04 00:00:00  Calle Lira, 198                           Santiago                           Chile                              1.98 \n",
            "23         59          2009-04-05 00:00:00  3,Raj Bhavan Road                         Bangalore                          India           560001             3.96 \n",
            "24         4           2009-04-06 00:00:00  Ullevålsveien 14                          Oslo                               Norway          0171               5.94 \n",
            "25         10          2009-04-09 00:00:00  Rua Dr. Falcão Filho, 155                 São Paulo            SP            Brazil          01007-010          8.91 \n",
            "26         19          2009-04-14 00:00:00  1 Infinite Loop                           Cupertino            CA            USA             95014              13.86\n",
            "27         33          2009-04-22 00:00:00  5112 48 Street                            Yellowknife          NT            Canada          X1A 1N6            0.99 \n",
            "28         34          2009-05-05 00:00:00  Rua da Assunção 53                        Lisbon                             Portugal                           1.98 \n",
            "29         36          2009-05-05 00:00:00  Tauentzienstraße 8                        Berlin                             Germany         10789              1.98 \n",
            "30         38          2009-05-06 00:00:00  Barbarossastraße 19                       Berlin                             Germany         10779              3.96 \n",
            "31         42          2009-05-07 00:00:00  9, Place Louis Barthou                    Bordeaux                           France          33000              5.94 \n",
            "32         48          2009-05-10 00:00:00  Lijnbaansgracht 120bg                     Amsterdam            VV            Netherlands     1016               8.91 \n",
            "33         57          2009-05-15 00:00:00  Calle Lira, 198                           Santiago                           Chile                              13.86\n",
            "34         12          2009-05-23 00:00:00  Praça Pio X, 119                          Rio de Janeiro       RJ            Brazil          20040-020          0.99 \n",
            "35         13          2009-06-05 00:00:00  Qe 7 Bloco G                              Brasília             DF            Brazil          71020-677          1.98 \n",
            "36         15          2009-06-05 00:00:00  700 W Pender Street                       Vancouver            BC            Canada          V6C 1G8            1.98 \n",
            "37         17          2009-06-06 00:00:00  1 Microsoft Way                           Redmond              WA            USA             98052-8300         3.96 \n",
            "38         21          2009-06-07 00:00:00  801 W 4th Street                          Reno                 NV            USA             89503              5.94 \n",
            "39         27          2009-06-10 00:00:00  1033 N Park Ave                           Tucson               AZ            USA             85719              8.91 \n",
            "40         36          2009-06-15 00:00:00  Tauentzienstraße 8                        Berlin                             Germany         10789              13.86\n",
            "41         50          2009-06-23 00:00:00  C/ San Bernardo 85                        Madrid                             Spain           28015              0.99 \n",
            "42         51          2009-07-06 00:00:00  Celsiusg. 9                               Stockholm                          Sweden          11230              1.98 \n",
            "43         53          2009-07-06 00:00:00  113 Lupus St                              London                             United Kingdom  SW1V 3EN           1.98 \n",
            "44         55          2009-07-07 00:00:00  421 Bourke Street                         Sidney               NSW           Australia       2010               3.96 \n",
            "45         59          2009-07-08 00:00:00  3,Raj Bhavan Road                         Bangalore                          India           560001             5.94 \n",
            "46         6           2009-07-11 00:00:00  Rilská 3174/6                             Prague                             Czech Republic  14300              8.91 \n",
            "47         15          2009-07-16 00:00:00  700 W Pender Street                       Vancouver            BC            Canada          V6C 1G8            13.86\n",
            "48         29          2009-07-24 00:00:00  796 Dundas Street West                    Toronto              ON            Canada          M6J 1V1            0.99 \n",
            "49         30          2009-08-06 00:00:00  230 Elgin Street                          Ottawa               ON            Canada          K2P 1L7            1.98 \n",
            "50         32          2009-08-06 00:00:00  696 Osborne Street                        Winnipeg             MB            Canada          R3L 2B9            1.98 \n",
            "51         34          2009-08-07 00:00:00  Rua da Assunção 53                        Lisbon                             Portugal                           3.96 \n",
            "52         38          2009-08-08 00:00:00  Barbarossastraße 19                       Berlin                             Germany         10779              5.94 \n",
            "53         44          2009-08-11 00:00:00  Porthaninkatu 9                           Helsinki                           Finland         00530              8.91 \n",
            "54         53          2009-08-16 00:00:00  113 Lupus St                              London                             United Kingdom  SW1V 3EN           13.86\n",
            "55         8           2009-08-24 00:00:00  Grétrystraat 63                           Brussels                           Belgium         1000               0.99 \n",
            "56         9           2009-09-06 00:00:00  Sønder Boulevard 51                       Copenhagen                         Denmark         1720               1.98 \n",
            "57         11          2009-09-06 00:00:00  Av. Paulista, 2022                        São Paulo            SP            Brazil          01310-200          1.98 \n",
            "58         13          2009-09-07 00:00:00  Qe 7 Bloco G                              Brasília             DF            Brazil          71020-677          3.96 \n",
            "59         17          2009-09-08 00:00:00  1 Microsoft Way                           Redmond              WA            USA             98052-8300         5.94 \n",
            "60         23          2009-09-11 00:00:00  69 Salem Street                           Boston               MA            USA             2113               8.91 \n",
            "61         32          2009-09-16 00:00:00  696 Osborne Street                        Winnipeg             MB            Canada          R3L 2B9            13.86\n",
            "62         46          2009-09-24 00:00:00  3 Chatham Street                          Dublin               Dublin        Ireland                            0.99 \n",
            "63         47          2009-10-07 00:00:00  Via Degli Scipioni, 43                    Rome                 RM            Italy           00192              1.98 \n",
            "64         49          2009-10-07 00:00:00  Ordynacka 10                              Warsaw                             Poland          00-358             1.98 \n",
            "65         51          2009-10-08 00:00:00  Celsiusg. 9                               Stockholm                          Sweden          11230              3.96 \n",
            "66         55          2009-10-09 00:00:00  421 Bourke Street                         Sidney               NSW           Australia       2010               5.94 \n",
            "67         2           2009-10-12 00:00:00  Theodor-Heuss-Straße 34                   Stuttgart                          Germany         70174              8.91 \n",
            "68         11          2009-10-17 00:00:00  Av. Paulista, 2022                        São Paulo            SP            Brazil          01310-200          13.86\n",
            "69         25          2009-10-25 00:00:00  319 N. Frances Street                     Madison              WI            USA             53703              0.99 \n",
            "70         26          2009-11-07 00:00:00  2211 W Berry Street                       Fort Worth           TX            USA             76110              1.98 \n",
            "71         28          2009-11-07 00:00:00  302 S 700 E                               Salt Lake City       UT            USA             84102              1.98 \n",
            "72         30          2009-11-08 00:00:00  230 Elgin Street                          Ottawa               ON            Canada          K2P 1L7            3.96 \n",
            "73         34          2009-11-09 00:00:00  Rua da Assunção 53                        Lisbon                             Portugal                           5.94 \n",
            "74         40          2009-11-12 00:00:00  8, Rue Hanovre                            Paris                              France          75002              8.91 \n",
            "75         49          2009-11-17 00:00:00  Ordynacka 10                              Warsaw                             Poland          00-358             13.86\n",
            "76         4           2009-11-25 00:00:00  Ullevålsveien 14                          Oslo                               Norway          0171               0.99 \n",
            "77         5           2009-12-08 00:00:00  Klanova 9/506                             Prague                             Czech Republic  14700              1.98 \n",
            "78         7           2009-12-08 00:00:00  Rotenturmstraße 4, 1010 Innere Stadt      Vienne                             Austria         1010               1.98 \n",
            "79         9           2009-12-09 00:00:00  Sønder Boulevard 51                       Copenhagen                         Denmark         1720               3.96 \n",
            "80         13          2009-12-10 00:00:00  Qe 7 Bloco G                              Brasília             DF            Brazil          71020-677          5.94 \n",
            "81         19          2009-12-13 00:00:00  1 Infinite Loop                           Cupertino            CA            USA             95014              8.91 \n",
            "82         28          2009-12-18 00:00:00  302 S 700 E                               Salt Lake City       UT            USA             84102              13.86\n",
            "83         42          2009-12-26 00:00:00  9, Place Louis Barthou                    Bordeaux                           France          33000              0.99 \n",
            "84         43          2010-01-08 00:00:00  68, Rue Jouvence                          Dijon                              France          21000              1.98 \n",
            "85         45          2010-01-08 00:00:00  Erzsébet krt. 58.                         Budapest                           Hungary         H-1073             1.98 \n",
            "86         47          2010-01-09 00:00:00  Via Degli Scipioni, 43                    Rome                 RM            Italy           00192              3.96 \n",
            "87         51          2010-01-10 00:00:00  Celsiusg. 9                               Stockholm                          Sweden          11230              6.94 \n",
            "88         57          2010-01-13 00:00:00  Calle Lira, 198                           Santiago                           Chile                              17.91\n",
            "89         7           2010-01-18 00:00:00  Rotenturmstraße 4, 1010 Innere Stadt      Vienne                             Austria         1010               18.86\n",
            "90         21          2010-01-26 00:00:00  801 W 4th Street                          Reno                 NV            USA             89503              0.99 \n",
            "91         22          2010-02-08 00:00:00  120 S Orange Ave                          Orlando              FL            USA             32801              1.98 \n",
            "92         24          2010-02-08 00:00:00  162 E Superior Street                     Chicago              IL            USA             60611              1.98 \n",
            "93         26          2010-02-09 00:00:00  2211 W Berry Street                       Fort Worth           TX            USA             76110              3.96 \n",
            "94         30          2010-02-10 00:00:00  230 Elgin Street                          Ottawa               ON            Canada          K2P 1L7            5.94 \n",
            "95         36          2010-02-13 00:00:00  Tauentzienstraße 8                        Berlin                             Germany         10789              8.91 \n",
            "96         45          2010-02-18 00:00:00  Erzsébet krt. 58.                         Budapest                           Hungary         H-1073             21.86\n",
            "97         59          2010-02-26 00:00:00  3,Raj Bhavan Road                         Bangalore                          India           560001             1.99 \n",
            "98         1           2010-03-11 00:00:00  Av. Brigadeiro Faria Lima, 2170           São José dos Campos  SP            Brazil          12227-000          3.98 \n",
            "99         3           2010-03-11 00:00:00  1498 rue Bélanger                         Montréal             QC            Canada          H2G 1A7            3.98 \n",
            "100        5           2010-03-12 00:00:00  Klanova 9/506                             Prague                             Czech Republic  14700              3.96 \n",
            "101        9           2010-03-13 00:00:00  Sønder Boulevard 51                       Copenhagen                         Denmark         1720               5.94 \n",
            "102        15          2010-03-16 00:00:00  700 W Pender Street                       Vancouver            BC            Canada          V6C 1G8            9.91 \n",
            "103        24          2010-03-21 00:00:00  162 E Superior Street                     Chicago              IL            USA             60611              15.86\n",
            "104        38          2010-03-29 00:00:00  Barbarossastraße 19                       Berlin                             Germany         10779              0.99 \n",
            "105        39          2010-04-11 00:00:00  4, Rue Milton                             Paris                              France          75009              1.98 \n",
            "106        41          2010-04-11 00:00:00  11, Place Bellecour                       Lyon                               France          69002              1.98 \n",
            "107        43          2010-04-12 00:00:00  68, Rue Jouvence                          Dijon                              France          21000              3.96 \n",
            "108        47          2010-04-13 00:00:00  Via Degli Scipioni, 43                    Rome                 RM            Italy           00192              5.94 \n",
            "109        53          2010-04-16 00:00:00  113 Lupus St                              London                             United Kingdom  SW1V 3EN           8.91 \n",
            "110        3           2010-04-21 00:00:00  1498 rue Bélanger                         Montréal             QC            Canada          H2G 1A7            13.86\n",
            "111        17          2010-04-29 00:00:00  1 Microsoft Way                           Redmond              WA            USA             98052-8300         0.99 \n",
            "112        18          2010-05-12 00:00:00  627 Broadway                              New York             NY            USA             10012-2612         1.98 \n",
            "113        20          2010-05-12 00:00:00  541 Del Medio Avenue                      Mountain View        CA            USA             94040-111          1.98 \n",
            "114        22          2010-05-13 00:00:00  120 S Orange Ave                          Orlando              FL            USA             32801              3.96 \n",
            "115        26          2010-05-14 00:00:00  2211 W Berry Street                       Fort Worth           TX            USA             76110              5.94 \n",
            "116        32          2010-05-17 00:00:00  696 Osborne Street                        Winnipeg             MB            Canada          R3L 2B9            8.91 \n",
            "117        41          2010-05-22 00:00:00  11, Place Bellecour                       Lyon                               France          69002              13.86\n",
            "118        55          2010-05-30 00:00:00  421 Bourke Street                         Sidney               NSW           Australia       2010               0.99 \n",
            "119        56          2010-06-12 00:00:00  307 Macacha Güemes                        Buenos Aires                       Argentina       1106               1.98 \n",
            "120        58          2010-06-12 00:00:00  12,Community Centre                       Delhi                              India           110017             1.98 \n",
            "121        1           2010-06-13 00:00:00  Av. Brigadeiro Faria Lima, 2170           São José dos Campos  SP            Brazil          12227-000          3.96 \n",
            "122        5           2010-06-14 00:00:00  Klanova 9/506                             Prague                             Czech Republic  14700              5.94 \n",
            "123        11          2010-06-17 00:00:00  Av. Paulista, 2022                        São Paulo            SP            Brazil          01310-200          8.91 \n",
            "124        20          2010-06-22 00:00:00  541 Del Medio Avenue                      Mountain View        CA            USA             94040-111          13.86\n",
            "125        34          2010-06-30 00:00:00  Rua da Assunção 53                        Lisbon                             Portugal                           0.99 \n",
            "126        35          2010-07-13 00:00:00  Rua dos Campeões Europeus de Viena, 4350  Porto                              Portugal                           1.98 \n",
            "127        37          2010-07-13 00:00:00  Berger Straße 10                          Frankfurt                          Germany         60316              1.98 \n",
            "128        39          2010-07-14 00:00:00  4, Rue Milton                             Paris                              France          75009              3.96 \n",
            "129        43          2010-07-15 00:00:00  68, Rue Jouvence                          Dijon                              France          21000              5.94 \n",
            "130        49          2010-07-18 00:00:00  Ordynacka 10                              Warsaw                             Poland          00-358             8.91 \n",
            "131        58          2010-07-23 00:00:00  12,Community Centre                       Delhi                              India           110017             13.86\n",
            "132        13          2010-07-31 00:00:00  Qe 7 Bloco G                              Brasília             DF            Brazil          71020-677          0.99 \n",
            "133        14          2010-08-13 00:00:00  8210 111 ST NW                            Edmonton             AB            Canada          T6G 2C7            1.98 \n",
            "134        16          2010-08-13 00:00:00  1600 Amphitheatre Parkway                 Mountain View        CA            USA             94043-1351         1.98 \n",
            "135        18          2010-08-14 00:00:00  627 Broadway                              New York             NY            USA             10012-2612         3.96 \n",
            "136        22          2010-08-15 00:00:00  120 S Orange Ave                          Orlando              FL            USA             32801              5.94 \n",
            "137        28          2010-08-18 00:00:00  302 S 700 E                               Salt Lake City       UT            USA             84102              8.91 \n",
            "138        37          2010-08-23 00:00:00  Berger Straße 10                          Frankfurt                          Germany         60316              13.86\n",
            "139        51          2010-08-31 00:00:00  Celsiusg. 9                               Stockholm                          Sweden          11230              0.99 \n",
            "140        52          2010-09-13 00:00:00  202 Hoxton Street                         London                             United Kingdom  N1 5LH             1.98 \n",
            "141        54          2010-09-13 00:00:00  110 Raeburn Pl                            Edinburgh                          United Kingdom  EH4 1HH            1.98 \n",
            "142        56          2010-09-14 00:00:00  307 Macacha Güemes                        Buenos Aires                       Argentina       1106               3.96 \n",
            "143        1           2010-09-15 00:00:00  Av. Brigadeiro Faria Lima, 2170           São José dos Campos  SP            Brazil          12227-000          5.94 \n",
            "144        7           2010-09-18 00:00:00  Rotenturmstraße 4, 1010 Innere Stadt      Vienne                             Austria         1010               8.91 \n",
            "145        16          2010-09-23 00:00:00  1600 Amphitheatre Parkway                 Mountain View        CA            USA             94043-1351         13.86\n",
            "146        30          2010-10-01 00:00:00  230 Elgin Street                          Ottawa               ON            Canada          K2P 1L7            0.99 \n",
            "147        31          2010-10-14 00:00:00  194A Chain Lake Drive                     Halifax              NS            Canada          B3S 1C5            1.98 \n",
            "148        33          2010-10-14 00:00:00  5112 48 Street                            Yellowknife          NT            Canada          X1A 1N6            1.98 \n",
            "149        35          2010-10-15 00:00:00  Rua dos Campeões Europeus de Viena, 4350  Porto                              Portugal                           3.96 \n",
            "150        39          2010-10-16 00:00:00  4, Rue Milton                             Paris                              France          75009              5.94 \n",
            "151        45          2010-10-19 00:00:00  Erzsébet krt. 58.                         Budapest                           Hungary         H-1073             8.91 \n",
            "152        54          2010-10-24 00:00:00  110 Raeburn Pl                            Edinburgh                          United Kingdom  EH4 1HH            13.86\n",
            "153        9           2010-11-01 00:00:00  Sønder Boulevard 51                       Copenhagen                         Denmark         1720               0.99 \n",
            "154        10          2010-11-14 00:00:00  Rua Dr. Falcão Filho, 155                 São Paulo            SP            Brazil          01007-010          1.98 \n",
            "155        12          2010-11-14 00:00:00  Praça Pio X, 119                          Rio de Janeiro       RJ            Brazil          20040-020          1.98 \n",
            "156        14          2010-11-15 00:00:00  8210 111 ST NW                            Edmonton             AB            Canada          T6G 2C7            3.96 \n",
            "157        18          2010-11-16 00:00:00  627 Broadway                              New York             NY            USA             10012-2612         5.94 \n",
            "158        24          2010-11-19 00:00:00  162 E Superior Street                     Chicago              IL            USA             60611              8.91 \n",
            "159        33          2010-11-24 00:00:00  5112 48 Street                            Yellowknife          NT            Canada          X1A 1N6            13.86\n",
            "160        47          2010-12-02 00:00:00  Via Degli Scipioni, 43                    Rome                 RM            Italy           00192              0.99 \n",
            "161        48          2010-12-15 00:00:00  Lijnbaansgracht 120bg                     Amsterdam            VV            Netherlands     1016               1.98 \n",
            "162        50          2010-12-15 00:00:00  C/ San Bernardo 85                        Madrid                             Spain           28015              1.98 \n",
            "163        52          2010-12-16 00:00:00  202 Hoxton Street                         London                             United Kingdom  N1 5LH             3.96 \n",
            "164        56          2010-12-17 00:00:00  307 Macacha Güemes                        Buenos Aires                       Argentina       1106               5.94 \n",
            "165        3           2010-12-20 00:00:00  1498 rue Bélanger                         Montréal             QC            Canada          H2G 1A7            8.91 \n",
            "166        12          2010-12-25 00:00:00  Praça Pio X, 119                          Rio de Janeiro       RJ            Brazil          20040-020          13.86\n",
            "167        26          2011-01-02 00:00:00  2211 W Berry Street                       Fort Worth           TX            USA             76110              0.99 \n",
            "168        27          2011-01-15 00:00:00  1033 N Park Ave                           Tucson               AZ            USA             85719              1.98 \n",
            "169        29          2011-01-15 00:00:00  796 Dundas Street West                    Toronto              ON            Canada          M6J 1V1            1.98 \n",
            "170        31          2011-01-16 00:00:00  194A Chain Lake Drive                     Halifax              NS            Canada          B3S 1C5            3.96 \n",
            "171        35          2011-01-17 00:00:00  Rua dos Campeões Europeus de Viena, 4350  Porto                              Portugal                           5.94 \n",
            "172        41          2011-01-20 00:00:00  11, Place Bellecour                       Lyon                               France          69002              8.91 \n",
            "173        50          2011-01-25 00:00:00  C/ San Bernardo 85                        Madrid                             Spain           28015              13.86\n",
            "174        5           2011-02-02 00:00:00  Klanova 9/506                             Prague                             Czech Republic  14700              0.99 \n",
            "175        6           2011-02-15 00:00:00  Rilská 3174/6                             Prague                             Czech Republic  14300              1.98 \n",
            "176        8           2011-02-15 00:00:00  Grétrystraat 63                           Brussels                           Belgium         1000               1.98 \n",
            "177        10          2011-02-16 00:00:00  Rua Dr. Falcão Filho, 155                 São Paulo            SP            Brazil          01007-010          3.96 \n",
            "178        14          2011-02-17 00:00:00  8210 111 ST NW                            Edmonton             AB            Canada          T6G 2C7            5.94 \n",
            "179        20          2011-02-20 00:00:00  541 Del Medio Avenue                      Mountain View        CA            USA             94040-111          8.91 \n",
            "180        29          2011-02-25 00:00:00  796 Dundas Street West                    Toronto              ON            Canada          M6J 1V1            13.86\n",
            "181        43          2011-03-05 00:00:00  68, Rue Jouvence                          Dijon                              France          21000              0.99 \n",
            "182        44          2011-03-18 00:00:00  Porthaninkatu 9                           Helsinki                           Finland         00530              1.98 \n",
            "183        46          2011-03-18 00:00:00  3 Chatham Street                          Dublin               Dublin        Ireland                            1.98 \n",
            "184        48          2011-03-19 00:00:00  Lijnbaansgracht 120bg                     Amsterdam            VV            Netherlands     1016               3.96 \n",
            "185        52          2011-03-20 00:00:00  202 Hoxton Street                         London                             United Kingdom  N1 5LH             5.94 \n",
            "186        58          2011-03-23 00:00:00  12,Community Centre                       Delhi                              India           110017             8.91 \n",
            "187        8           2011-03-28 00:00:00  Grétrystraat 63                           Brussels                           Belgium         1000               13.86\n",
            "188        22          2011-04-05 00:00:00  120 S Orange Ave                          Orlando              FL            USA             32801              0.99 \n",
            "189        23          2011-04-18 00:00:00  69 Salem Street                           Boston               MA            USA             2113               1.98 \n",
            "190        25          2011-04-18 00:00:00  319 N. Frances Street                     Madison              WI            USA             53703              1.98 \n",
            "191        27          2011-04-19 00:00:00  1033 N Park Ave                           Tucson               AZ            USA             85719              3.96 \n",
            "192        31          2011-04-20 00:00:00  194A Chain Lake Drive                     Halifax              NS            Canada          B3S 1C5            5.94 \n",
            "193        37          2011-04-23 00:00:00  Berger Straße 10                          Frankfurt                          Germany         60316              14.91\n",
            "194        46          2011-04-28 00:00:00  3 Chatham Street                          Dublin               Dublin        Ireland                            21.86\n",
            "195        1           2011-05-06 00:00:00  Av. Brigadeiro Faria Lima, 2170           São José dos Campos  SP            Brazil          12227-000          0.99 \n",
            "196        2           2011-05-19 00:00:00  Theodor-Heuss-Straße 34                   Stuttgart                          Germany         70174              1.98 \n",
            "197        4           2011-05-19 00:00:00  Ullevålsveien 14                          Oslo                               Norway          0171               1.98 \n",
            "198        6           2011-05-20 00:00:00  Rilská 3174/6                             Prague                             Czech Republic  14300              3.96 \n",
            "199        10          2011-05-21 00:00:00  Rua Dr. Falcão Filho, 155                 São Paulo            SP            Brazil          01007-010          5.94 \n",
            "200        16          2011-05-24 00:00:00  1600 Amphitheatre Parkway                 Mountain View        CA            USA             94043-1351         8.91 \n",
            "201        25          2011-05-29 00:00:00  319 N. Frances Street                     Madison              WI            USA             53703              18.86\n",
            "202        39          2011-06-06 00:00:00  4, Rue Milton                             Paris                              France          75009              1.99 \n",
            "203        40          2011-06-19 00:00:00  8, Rue Hanovre                            Paris                              France          75002              2.98 \n",
            "204        42          2011-06-19 00:00:00  9, Place Louis Barthou                    Bordeaux                           France          33000              3.98 \n",
            "205        44          2011-06-20 00:00:00  Porthaninkatu 9                           Helsinki                           Finland         00530              7.96 \n",
            "206        48          2011-06-21 00:00:00  Lijnbaansgracht 120bg                     Amsterdam            VV            Netherlands     1016               8.94 \n",
            "207        54          2011-06-24 00:00:00  110 Raeburn Pl                            Edinburgh                          United Kingdom  EH4 1HH            8.91 \n",
            "208        4           2011-06-29 00:00:00  Ullevålsveien 14                          Oslo                               Norway          0171               15.86\n",
            "209        18          2011-07-07 00:00:00  627 Broadway                              New York             NY            USA             10012-2612         0.99 \n",
            "210        19          2011-07-20 00:00:00  1 Infinite Loop                           Cupertino            CA            USA             95014              1.98 \n",
            "211        21          2011-07-20 00:00:00  801 W 4th Street                          Reno                 NV            USA             89503              1.98 \n",
            "212        23          2011-07-21 00:00:00  69 Salem Street                           Boston               MA            USA             2113               3.96 \n",
            "213        27          2011-07-22 00:00:00  1033 N Park Ave                           Tucson               AZ            USA             85719              5.94 \n",
            "214        33          2011-07-25 00:00:00  5112 48 Street                            Yellowknife          NT            Canada          X1A 1N6            8.91 \n",
            "215        42          2011-07-30 00:00:00  9, Place Louis Barthou                    Bordeaux                           France          33000              13.86\n",
            "216        56          2011-08-07 00:00:00  307 Macacha Güemes                        Buenos Aires                       Argentina       1106               0.99 \n",
            "217        57          2011-08-20 00:00:00  Calle Lira, 198                           Santiago                           Chile                              1.98 \n",
            "218        59          2011-08-20 00:00:00  3,Raj Bhavan Road                         Bangalore                          India           560001             1.98 \n",
            "219        2           2011-08-21 00:00:00  Theodor-Heuss-Straße 34                   Stuttgart                          Germany         70174              3.96 \n",
            "220        6           2011-08-22 00:00:00  Rilská 3174/6                             Prague                             Czech Republic  14300              5.94 \n",
            "221        12          2011-08-25 00:00:00  Praça Pio X, 119                          Rio de Janeiro       RJ            Brazil          20040-020          8.91 \n",
            "222        21          2011-08-30 00:00:00  801 W 4th Street                          Reno                 NV            USA             89503              13.86\n",
            "223        35          2011-09-07 00:00:00  Rua dos Campeões Europeus de Viena, 4350  Porto                              Portugal                           0.99 \n",
            "224        36          2011-09-20 00:00:00  Tauentzienstraße 8                        Berlin                             Germany         10789              1.98 \n",
            "225        38          2011-09-20 00:00:00  Barbarossastraße 19                       Berlin                             Germany         10779              1.98 \n",
            "226        40          2011-09-21 00:00:00  8, Rue Hanovre                            Paris                              France          75002              3.96 \n",
            "227        44          2011-09-22 00:00:00  Porthaninkatu 9                           Helsinki                           Finland         00530              5.94 \n",
            "228        50          2011-09-25 00:00:00  C/ San Bernardo 85                        Madrid                             Spain           28015              8.91 \n",
            "229        59          2011-09-30 00:00:00  3,Raj Bhavan Road                         Bangalore                          India           560001             13.86\n",
            "230        14          2011-10-08 00:00:00  8210 111 ST NW                            Edmonton             AB            Canada          T6G 2C7            0.99 \n",
            "231        15          2011-10-21 00:00:00  700 W Pender Street                       Vancouver            BC            Canada          V6C 1G8            1.98 \n",
            "232        17          2011-10-21 00:00:00  1 Microsoft Way                           Redmond              WA            USA             98052-8300         1.98 \n",
            "233        19          2011-10-22 00:00:00  1 Infinite Loop                           Cupertino            CA            USA             95014              3.96 \n",
            "234        23          2011-10-23 00:00:00  69 Salem Street                           Boston               MA            USA             2113               5.94 \n",
            "235        29          2011-10-26 00:00:00  796 Dundas Street West                    Toronto              ON            Canada          M6J 1V1            8.91 \n",
            "236        38          2011-10-31 00:00:00  Barbarossastraße 19                       Berlin                             Germany         10779              13.86\n",
            "237        52          2011-11-08 00:00:00  202 Hoxton Street                         London                             United Kingdom  N1 5LH             0.99 \n",
            "238        53          2011-11-21 00:00:00  113 Lupus St                              London                             United Kingdom  SW1V 3EN           1.98 \n",
            "239        55          2011-11-21 00:00:00  421 Bourke Street                         Sidney               NSW           Australia       2010               1.98 \n",
            "240        57          2011-11-22 00:00:00  Calle Lira, 198                           Santiago                           Chile                              3.96 \n",
            "241        2           2011-11-23 00:00:00  Theodor-Heuss-Straße 34                   Stuttgart                          Germany         70174              5.94 \n",
            "242        8           2011-11-26 00:00:00  Grétrystraat 63                           Brussels                           Belgium         1000               8.91 \n",
            "243        17          2011-12-01 00:00:00  1 Microsoft Way                           Redmond              WA            USA             98052-8300         13.86\n",
            "244        31          2011-12-09 00:00:00  194A Chain Lake Drive                     Halifax              NS            Canada          B3S 1C5            0.99 \n",
            "245        32          2011-12-22 00:00:00  696 Osborne Street                        Winnipeg             MB            Canada          R3L 2B9            1.98 \n",
            "246        34          2011-12-22 00:00:00  Rua da Assunção 53                        Lisbon                             Portugal                           1.98 \n",
            "247        36          2011-12-23 00:00:00  Tauentzienstraße 8                        Berlin                             Germany         10789              3.96 \n",
            "248        40          2011-12-24 00:00:00  8, Rue Hanovre                            Paris                              France          75002              5.94 \n",
            "249        46          2011-12-27 00:00:00  3 Chatham Street                          Dublin               Dublin        Ireland                            8.91 \n",
            "250        55          2012-01-01 00:00:00  421 Bourke Street                         Sidney               NSW           Australia       2010               13.86\n",
            "251        10          2012-01-09 00:00:00  Rua Dr. Falcão Filho, 155                 São Paulo            SP            Brazil          01007-010          0.99 \n",
            "252        11          2012-01-22 00:00:00  Av. Paulista, 2022                        São Paulo            SP            Brazil          01310-200          1.98 \n",
            "253        13          2012-01-22 00:00:00  Qe 7 Bloco G                              Brasília             DF            Brazil          71020-677          1.98 \n",
            "254        15          2012-01-23 00:00:00  700 W Pender Street                       Vancouver            BC            Canada          V6C 1G8            3.96 \n",
            "255        19          2012-01-24 00:00:00  1 Infinite Loop                           Cupertino            CA            USA             95014              5.94 \n",
            "256        25          2012-01-27 00:00:00  319 N. Frances Street                     Madison              WI            USA             53703              8.91 \n",
            "257        34          2012-02-01 00:00:00  Rua da Assunção 53                        Lisbon                             Portugal                           13.86\n",
            "258        48          2012-02-09 00:00:00  Lijnbaansgracht 120bg                     Amsterdam            VV            Netherlands     1016               0.99 \n",
            "259        49          2012-02-22 00:00:00  Ordynacka 10                              Warsaw                             Poland          00-358             1.98 \n",
            "260        51          2012-02-22 00:00:00  Celsiusg. 9                               Stockholm                          Sweden          11230              1.98 \n",
            "261        53          2012-02-23 00:00:00  113 Lupus St                              London                             United Kingdom  SW1V 3EN           3.96 \n",
            "262        57          2012-02-24 00:00:00  Calle Lira, 198                           Santiago                           Chile                              5.94 \n",
            "263        4           2012-02-27 00:00:00  Ullevålsveien 14                          Oslo                               Norway          0171               8.91 \n",
            "264        13          2012-03-03 00:00:00  Qe 7 Bloco G                              Brasília             DF            Brazil          71020-677          13.86\n",
            "265        27          2012-03-11 00:00:00  1033 N Park Ave                           Tucson               AZ            USA             85719              0.99 \n",
            "266        28          2012-03-24 00:00:00  302 S 700 E                               Salt Lake City       UT            USA             84102              1.98 \n",
            "267        30          2012-03-24 00:00:00  230 Elgin Street                          Ottawa               ON            Canada          K2P 1L7            1.98 \n",
            "268        32          2012-03-25 00:00:00  696 Osborne Street                        Winnipeg             MB            Canada          R3L 2B9            3.96 \n",
            "269        36          2012-03-26 00:00:00  Tauentzienstraße 8                        Berlin                             Germany         10789              5.94 \n",
            "270        42          2012-03-29 00:00:00  9, Place Louis Barthou                    Bordeaux                           France          33000              8.91 \n",
            "271        51          2012-04-03 00:00:00  Celsiusg. 9                               Stockholm                          Sweden          11230              13.86\n",
            "272        6           2012-04-11 00:00:00  Rilská 3174/6                             Prague                             Czech Republic  14300              0.99 \n",
            "273        7           2012-04-24 00:00:00  Rotenturmstraße 4, 1010 Innere Stadt      Vienne                             Austria         1010               1.98 \n",
            "274        9           2012-04-24 00:00:00  Sønder Boulevard 51                       Copenhagen                         Denmark         1720               1.98 \n",
            "275        11          2012-04-25 00:00:00  Av. Paulista, 2022                        São Paulo            SP            Brazil          01310-200          3.96 \n",
            "276        15          2012-04-26 00:00:00  700 W Pender Street                       Vancouver            BC            Canada          V6C 1G8            5.94 \n",
            "277        21          2012-04-29 00:00:00  801 W 4th Street                          Reno                 NV            USA             89503              8.91 \n",
            "278        30          2012-05-04 00:00:00  230 Elgin Street                          Ottawa               ON            Canada          K2P 1L7            13.86\n",
            "279        44          2012-05-12 00:00:00  Porthaninkatu 9                           Helsinki                           Finland         00530              0.99 \n",
            "280        45          2012-05-25 00:00:00  Erzsébet krt. 58.                         Budapest                           Hungary         H-1073             1.98 \n",
            "281        47          2012-05-25 00:00:00  Via Degli Scipioni, 43                    Rome                 RM            Italy           00192              1.98 \n",
            "282        49          2012-05-26 00:00:00  Ordynacka 10                              Warsaw                             Poland          00-358             3.96 \n",
            "283        53          2012-05-27 00:00:00  113 Lupus St                              London                             United Kingdom  SW1V 3EN           5.94 \n",
            "284        59          2012-05-30 00:00:00  3,Raj Bhavan Road                         Bangalore                          India           560001             8.91 \n",
            "285        9           2012-06-04 00:00:00  Sønder Boulevard 51                       Copenhagen                         Denmark         1720               13.86\n",
            "286        23          2012-06-12 00:00:00  69 Salem Street                           Boston               MA            USA             2113               0.99 \n",
            "287        24          2012-06-25 00:00:00  162 E Superior Street                     Chicago              IL            USA             60611              1.98 \n",
            "288        26          2012-06-25 00:00:00  2211 W Berry Street                       Fort Worth           TX            USA             76110              1.98 \n",
            "289        28          2012-06-26 00:00:00  302 S 700 E                               Salt Lake City       UT            USA             84102              3.96 \n",
            "290        32          2012-06-27 00:00:00  696 Osborne Street                        Winnipeg             MB            Canada          R3L 2B9            5.94 \n",
            "291        38          2012-06-30 00:00:00  Barbarossastraße 19                       Berlin                             Germany         10779              8.91 \n",
            "292        47          2012-07-05 00:00:00  Via Degli Scipioni, 43                    Rome                 RM            Italy           00192              13.86\n",
            "293        2           2012-07-13 00:00:00  Theodor-Heuss-Straße 34                   Stuttgart                          Germany         70174              0.99 \n",
            "294        3           2012-07-26 00:00:00  1498 rue Bélanger                         Montréal             QC            Canada          H2G 1A7            1.98 \n",
            "295        5           2012-07-26 00:00:00  Klanova 9/506                             Prague                             Czech Republic  14700              1.98 \n",
            "296        7           2012-07-27 00:00:00  Rotenturmstraße 4, 1010 Innere Stadt      Vienne                             Austria         1010               3.96 \n",
            "297        11          2012-07-28 00:00:00  Av. Paulista, 2022                        São Paulo            SP            Brazil          01310-200          5.94 \n",
            "298        17          2012-07-31 00:00:00  1 Microsoft Way                           Redmond              WA            USA             98052-8300         10.91\n",
            "299        26          2012-08-05 00:00:00  2211 W Berry Street                       Fort Worth           TX            USA             76110              23.86\n",
            "300        40          2012-08-13 00:00:00  8, Rue Hanovre                            Paris                              France          75002              0.99 \n",
            "301        41          2012-08-26 00:00:00  11, Place Bellecour                       Lyon                               France          69002              1.98 \n",
            "302        43          2012-08-26 00:00:00  68, Rue Jouvence                          Dijon                              France          21000              1.98 \n",
            "303        45          2012-08-27 00:00:00  Erzsébet krt. 58.                         Budapest                           Hungary         H-1073             3.96 \n",
            "304        49          2012-08-28 00:00:00  Ordynacka 10                              Warsaw                             Poland          00-358             5.94 \n",
            "305        55          2012-08-31 00:00:00  421 Bourke Street                         Sidney               NSW           Australia       2010               8.91 \n",
            "306        5           2012-09-05 00:00:00  Klanova 9/506                             Prague                             Czech Republic  14700              16.86\n",
            "307        19          2012-09-13 00:00:00  1 Infinite Loop                           Cupertino            CA            USA             95014              1.99 \n",
            "308        20          2012-09-26 00:00:00  541 Del Medio Avenue                      Mountain View        CA            USA             94040-111          3.98 \n",
            "309        22          2012-09-26 00:00:00  120 S Orange Ave                          Orlando              FL            USA             32801              3.98 \n",
            "310        24          2012-09-27 00:00:00  162 E Superior Street                     Chicago              IL            USA             60611              7.96 \n",
            "311        28          2012-09-28 00:00:00  302 S 700 E                               Salt Lake City       UT            USA             84102              11.94\n",
            "312        34          2012-10-01 00:00:00  Rua da Assunção 53                        Lisbon                             Portugal                           10.91\n",
            "313        43          2012-10-06 00:00:00  68, Rue Jouvence                          Dijon                              France          21000              16.86\n",
            "314        57          2012-10-14 00:00:00  Calle Lira, 198                           Santiago                           Chile                              0.99 \n",
            "315        58          2012-10-27 00:00:00  12,Community Centre                       Delhi                              India           110017             1.98 \n",
            "316        1           2012-10-27 00:00:00  Av. Brigadeiro Faria Lima, 2170           São José dos Campos  SP            Brazil          12227-000          1.98 \n",
            "317        3           2012-10-28 00:00:00  1498 rue Bélanger                         Montréal             QC            Canada          H2G 1A7            3.96 \n",
            "318        7           2012-10-29 00:00:00  Rotenturmstraße 4, 1010 Innere Stadt      Vienne                             Austria         1010               5.94 \n",
            "319        13          2012-11-01 00:00:00  Qe 7 Bloco G                              Brasília             DF            Brazil          71020-677          8.91 \n",
            "320        22          2012-11-06 00:00:00  120 S Orange Ave                          Orlando              FL            USA             32801              13.86\n",
            "321        36          2012-11-14 00:00:00  Tauentzienstraße 8                        Berlin                             Germany         10789              0.99 \n",
            "322        37          2012-11-27 00:00:00  Berger Straße 10                          Frankfurt                          Germany         60316              1.98 \n",
            "323        39          2012-11-27 00:00:00  4, Rue Milton                             Paris                              France          75009              1.98 \n",
            "324        41          2012-11-28 00:00:00  11, Place Bellecour                       Lyon                               France          69002              3.96 \n",
            "325        45          2012-11-29 00:00:00  Erzsébet krt. 58.                         Budapest                           Hungary         H-1073             5.94 \n",
            "326        51          2012-12-02 00:00:00  Celsiusg. 9                               Stockholm                          Sweden          11230              8.91 \n",
            "327        1           2012-12-07 00:00:00  Av. Brigadeiro Faria Lima, 2170           São José dos Campos  SP            Brazil          12227-000          13.86\n",
            "328        15          2012-12-15 00:00:00  700 W Pender Street                       Vancouver            BC            Canada          V6C 1G8            0.99 \n",
            "329        16          2012-12-28 00:00:00  1600 Amphitheatre Parkway                 Mountain View        CA            USA             94043-1351         1.98 \n",
            "330        18          2012-12-28 00:00:00  627 Broadway                              New York             NY            USA             10012-2612         1.98 \n",
            "331        20          2012-12-29 00:00:00  541 Del Medio Avenue                      Mountain View        CA            USA             94040-111          3.96 \n",
            "332        24          2012-12-30 00:00:00  162 E Superior Street                     Chicago              IL            USA             60611              5.94 \n",
            "333        30          2013-01-02 00:00:00  230 Elgin Street                          Ottawa               ON            Canada          K2P 1L7            8.91 \n",
            "334        39          2013-01-07 00:00:00  4, Rue Milton                             Paris                              France          75009              13.86\n",
            "335        53          2013-01-15 00:00:00  113 Lupus St                              London                             United Kingdom  SW1V 3EN           0.99 \n",
            "336        54          2013-01-28 00:00:00  110 Raeburn Pl                            Edinburgh                          United Kingdom  EH4 1HH            1.98 \n",
            "337        56          2013-01-28 00:00:00  307 Macacha Güemes                        Buenos Aires                       Argentina       1106               1.98 \n",
            "338        58          2013-01-29 00:00:00  12,Community Centre                       Delhi                              India           110017             3.96 \n",
            "339        3           2013-01-30 00:00:00  1498 rue Bélanger                         Montréal             QC            Canada          H2G 1A7            5.94 \n",
            "340        9           2013-02-02 00:00:00  Sønder Boulevard 51                       Copenhagen                         Denmark         1720               8.91 \n",
            "341        18          2013-02-07 00:00:00  627 Broadway                              New York             NY            USA             10012-2612         13.86\n",
            "342        32          2013-02-15 00:00:00  696 Osborne Street                        Winnipeg             MB            Canada          R3L 2B9            0.99 \n",
            "343        33          2013-02-28 00:00:00  5112 48 Street                            Yellowknife          NT            Canada          X1A 1N6            1.98 \n",
            "344        35          2013-02-28 00:00:00  Rua dos Campeões Europeus de Viena, 4350  Porto                              Portugal                           1.98 \n",
            "345        37          2013-03-01 00:00:00  Berger Straße 10                          Frankfurt                          Germany         60316              3.96 \n",
            "346        41          2013-03-02 00:00:00  11, Place Bellecour                       Lyon                               France          69002              5.94 \n",
            "347        47          2013-03-05 00:00:00  Via Degli Scipioni, 43                    Rome                 RM            Italy           00192              8.91 \n",
            "348        56          2013-03-10 00:00:00  307 Macacha Güemes                        Buenos Aires                       Argentina       1106               13.86\n",
            "349        11          2013-03-18 00:00:00  Av. Paulista, 2022                        São Paulo            SP            Brazil          01310-200          0.99 \n",
            "350        12          2013-03-31 00:00:00  Praça Pio X, 119                          Rio de Janeiro       RJ            Brazil          20040-020          1.98 \n",
            "351        14          2013-03-31 00:00:00  8210 111 ST NW                            Edmonton             AB            Canada          T6G 2C7            1.98 \n",
            "352        16          2013-04-01 00:00:00  1600 Amphitheatre Parkway                 Mountain View        CA            USA             94043-1351         3.96 \n",
            "353        20          2013-04-02 00:00:00  541 Del Medio Avenue                      Mountain View        CA            USA             94040-111          5.94 \n",
            "354        26          2013-04-05 00:00:00  2211 W Berry Street                       Fort Worth           TX            USA             76110              8.91 \n",
            "355        35          2013-04-10 00:00:00  Rua dos Campeões Europeus de Viena, 4350  Porto                              Portugal                           13.86\n",
            "356        49          2013-04-18 00:00:00  Ordynacka 10                              Warsaw                             Poland          00-358             0.99 \n",
            "357        50          2013-05-01 00:00:00  C/ San Bernardo 85                        Madrid                             Spain           28015              1.98 \n",
            "358        52          2013-05-01 00:00:00  202 Hoxton Street                         London                             United Kingdom  N1 5LH             1.98 \n",
            "359        54          2013-05-02 00:00:00  110 Raeburn Pl                            Edinburgh                          United Kingdom  EH4 1HH            3.96 \n",
            "360        58          2013-05-03 00:00:00  12,Community Centre                       Delhi                              India           110017             5.94 \n",
            "361        5           2013-05-06 00:00:00  Klanova 9/506                             Prague                             Czech Republic  14700              8.91 \n",
            "362        14          2013-05-11 00:00:00  8210 111 ST NW                            Edmonton             AB            Canada          T6G 2C7            13.86\n",
            "363        28          2013-05-19 00:00:00  302 S 700 E                               Salt Lake City       UT            USA             84102              0.99 \n",
            "364        29          2013-06-01 00:00:00  796 Dundas Street West                    Toronto              ON            Canada          M6J 1V1            1.98 \n",
            "365        31          2013-06-01 00:00:00  194A Chain Lake Drive                     Halifax              NS            Canada          B3S 1C5            1.98 \n",
            "366        33          2013-06-02 00:00:00  5112 48 Street                            Yellowknife          NT            Canada          X1A 1N6            3.96 \n",
            "367        37          2013-06-03 00:00:00  Berger Straße 10                          Frankfurt                          Germany         60316              5.94 \n",
            "368        43          2013-06-06 00:00:00  68, Rue Jouvence                          Dijon                              France          21000              8.91 \n",
            "369        52          2013-06-11 00:00:00  202 Hoxton Street                         London                             United Kingdom  N1 5LH             13.86\n",
            "370        7           2013-06-19 00:00:00  Rotenturmstraße 4, 1010 Innere Stadt      Vienne                             Austria         1010               0.99 \n",
            "371        8           2013-07-02 00:00:00  Grétrystraat 63                           Brussels                           Belgium         1000               1.98 \n",
            "372        10          2013-07-02 00:00:00  Rua Dr. Falcão Filho, 155                 São Paulo            SP            Brazil          01007-010          1.98 \n",
            "373        12          2013-07-03 00:00:00  Praça Pio X, 119                          Rio de Janeiro       RJ            Brazil          20040-020          3.96 \n",
            "374        16          2013-07-04 00:00:00  1600 Amphitheatre Parkway                 Mountain View        CA            USA             94043-1351         5.94 \n",
            "375        22          2013-07-07 00:00:00  120 S Orange Ave                          Orlando              FL            USA             32801              8.91 \n",
            "376        31          2013-07-12 00:00:00  194A Chain Lake Drive                     Halifax              NS            Canada          B3S 1C5            13.86\n",
            "377        45          2013-07-20 00:00:00  Erzsébet krt. 58.                         Budapest                           Hungary         H-1073             0.99 \n",
            "378        46          2013-08-02 00:00:00  3 Chatham Street                          Dublin               Dublin        Ireland                            1.98 \n",
            "379        48          2013-08-02 00:00:00  Lijnbaansgracht 120bg                     Amsterdam            VV            Netherlands     1016               1.98 \n",
            "380        50          2013-08-03 00:00:00  C/ San Bernardo 85                        Madrid                             Spain           28015              3.96 \n",
            "381        54          2013-08-04 00:00:00  110 Raeburn Pl                            Edinburgh                          United Kingdom  EH4 1HH            5.94 \n",
            "382        1           2013-08-07 00:00:00  Av. Brigadeiro Faria Lima, 2170           São José dos Campos  SP            Brazil          12227-000          8.91 \n",
            "383        10          2013-08-12 00:00:00  Rua Dr. Falcão Filho, 155                 São Paulo            SP            Brazil          01007-010          13.86\n",
            "384        24          2013-08-20 00:00:00  162 E Superior Street                     Chicago              IL            USA             60611              0.99 \n",
            "385        25          2013-09-02 00:00:00  319 N. Frances Street                     Madison              WI            USA             53703              1.98 \n",
            "386        27          2013-09-02 00:00:00  1033 N Park Ave                           Tucson               AZ            USA             85719              1.98 \n",
            "387        29          2013-09-03 00:00:00  796 Dundas Street West                    Toronto              ON            Canada          M6J 1V1            3.96 \n",
            "388        33          2013-09-04 00:00:00  5112 48 Street                            Yellowknife          NT            Canada          X1A 1N6            5.94 \n",
            "389        39          2013-09-07 00:00:00  4, Rue Milton                             Paris                              France          75009              8.91 \n",
            "390        48          2013-09-12 00:00:00  Lijnbaansgracht 120bg                     Amsterdam            VV            Netherlands     1016               13.86\n",
            "391        3           2013-09-20 00:00:00  1498 rue Bélanger                         Montréal             QC            Canada          H2G 1A7            0.99 \n",
            "392        4           2013-10-03 00:00:00  Ullevålsveien 14                          Oslo                               Norway          0171               1.98 \n",
            "393        6           2013-10-03 00:00:00  Rilská 3174/6                             Prague                             Czech Republic  14300              1.98 \n",
            "394        8           2013-10-04 00:00:00  Grétrystraat 63                           Brussels                           Belgium         1000               3.96 \n",
            "395        12          2013-10-05 00:00:00  Praça Pio X, 119                          Rio de Janeiro       RJ            Brazil          20040-020          5.94 \n",
            "396        18          2013-10-08 00:00:00  627 Broadway                              New York             NY            USA             10012-2612         8.91 \n",
            "397        27          2013-10-13 00:00:00  1033 N Park Ave                           Tucson               AZ            USA             85719              13.86\n",
            "398        41          2013-10-21 00:00:00  11, Place Bellecour                       Lyon                               France          69002              0.99 \n",
            "399        42          2013-11-03 00:00:00  9, Place Louis Barthou                    Bordeaux                           France          33000              1.98 \n",
            "400        44          2013-11-03 00:00:00  Porthaninkatu 9                           Helsinki                           Finland         00530              1.98 \n",
            "401        46          2013-11-04 00:00:00  3 Chatham Street                          Dublin               Dublin        Ireland                            3.96 \n",
            "402        50          2013-11-05 00:00:00  C/ San Bernardo 85                        Madrid                             Spain           28015              5.94 \n",
            "403        56          2013-11-08 00:00:00  307 Macacha Güemes                        Buenos Aires                       Argentina       1106               8.91 \n",
            "404        6           2013-11-13 00:00:00  Rilská 3174/6                             Prague                             Czech Republic  14300              25.86\n",
            "405        20          2013-11-21 00:00:00  541 Del Medio Avenue                      Mountain View        CA            USA             94040-111          0.99 \n",
            "406        21          2013-12-04 00:00:00  801 W 4th Street                          Reno                 NV            USA             89503              1.98 \n",
            "407        23          2013-12-04 00:00:00  69 Salem Street                           Boston               MA            USA             2113               1.98 \n",
            "408        25          2013-12-05 00:00:00  319 N. Frances Street                     Madison              WI            USA             53703              3.96 \n",
            "409        29          2013-12-06 00:00:00  796 Dundas Street West                    Toronto              ON            Canada          M6J 1V1            5.94 \n",
            "410        35          2013-12-09 00:00:00  Rua dos Campeões Europeus de Viena, 4350  Porto                              Portugal                           8.91 \n",
            "411        44          2013-12-14 00:00:00  Porthaninkatu 9                           Helsinki                           Finland         00530              13.86\n",
            "412        58          2013-12-22 00:00:00  12,Community Centre                       Delhi                              India           110017             1.99 \n"
          ]
        }
      ]
    },
    {
      "cell_type": "code",
      "source": [
        "%%script sqlite3 --column --header chinook.db\n",
        "SELECT *\n",
        "FROM invoice_items\n",
        "LIMIT 10"
      ],
      "metadata": {
        "id": "7vI5HMekyIHf",
        "colab": {
          "base_uri": "https://localhost:8080/"
        },
        "outputId": "bb54cc33-9a69-4999-dd9a-90fbeca040d0"
      },
      "execution_count": null,
      "outputs": [
        {
          "output_type": "stream",
          "name": "stdout",
          "text": [
            "InvoiceLineId  InvoiceId  TrackId  UnitPrice  Quantity\n",
            "-------------  ---------  -------  ---------  --------\n",
            "1              1          2        0.99       1       \n",
            "2              1          4        0.99       1       \n",
            "3              2          6        0.99       1       \n",
            "4              2          8        0.99       1       \n",
            "5              2          10       0.99       1       \n",
            "6              2          12       0.99       1       \n",
            "7              3          16       0.99       1       \n",
            "8              3          20       0.99       1       \n",
            "9              3          24       0.99       1       \n",
            "10             3          28       0.99       1       \n"
          ]
        }
      ]
    },
    {
      "cell_type": "code",
      "source": [
        "%%script sqlite3 --column --header chinook.db\n",
        "SELECT *\n",
        "FROM customers\n",
        "LIMIT 10"
      ],
      "metadata": {
        "id": "hOzJWK1JyohZ",
        "colab": {
          "base_uri": "https://localhost:8080/"
        },
        "outputId": "414df3f1-fd57-4294-b93d-beca84a9522c"
      },
      "execution_count": null,
      "outputs": [
        {
          "output_type": "stream",
          "name": "stdout",
          "text": [
            "CustomerId  FirstName  LastName     Company                                           Address                               City                 State  Country         PostalCode  Phone               Fax                 Email                     SupportRepId\n",
            "----------  ---------  -----------  ------------------------------------------------  ------------------------------------  -------------------  -----  --------------  ----------  ------------------  ------------------  ------------------------  ------------\n",
            "1           Luís       Gonçalves    Embraer - Empresa Brasileira de Aeronáutica S.A.  Av. Brigadeiro Faria Lima, 2170       São José dos Campos  SP     Brazil          12227-000   +55 (12) 3923-5555  +55 (12) 3923-5566  luisg@embraer.com.br      3           \n",
            "2           Leonie     Köhler                                                         Theodor-Heuss-Straße 34               Stuttgart                   Germany         70174       +49 0711 2842222                        leonekohler@surfeu.de     5           \n",
            "3           François   Tremblay                                                       1498 rue Bélanger                     Montréal             QC     Canada          H2G 1A7     +1 (514) 721-4711                       ftremblay@gmail.com       3           \n",
            "4           Bjørn      Hansen                                                         Ullevålsveien 14                      Oslo                        Norway          0171        +47 22 44 22 22                         bjorn.hansen@yahoo.no     4           \n",
            "5           František  Wichterlová  JetBrains s.r.o.                                  Klanova 9/506                         Prague                      Czech Republic  14700       +420 2 4172 5555    +420 2 4172 5555    frantisekw@jetbrains.com  4           \n",
            "6           Helena     Holý                                                           Rilská 3174/6                         Prague                      Czech Republic  14300       +420 2 4177 0449                        hholy@gmail.com           5           \n",
            "7           Astrid     Gruber                                                         Rotenturmstraße 4, 1010 Innere Stadt  Vienne                      Austria         1010        +43 01 5134505                          astrid.gruber@apple.at    5           \n",
            "8           Daan       Peeters                                                        Grétrystraat 63                       Brussels                    Belgium         1000        +32 02 219 03 03                        daan_peeters@apple.be     4           \n",
            "9           Kara       Nielsen                                                        Sønder Boulevard 51                   Copenhagen                  Denmark         1720        +453 3331 9991                          kara.nielsen@jubii.dk     4           \n",
            "10          Eduardo    Martins      Woodstock Discos                                  Rua Dr. Falcão Filho, 155             São Paulo            SP     Brazil          01007-010   +55 (11) 3033-5446  +55 (11) 3033-4564  eduardo@woodstock.com.br  4           \n"
          ]
        }
      ]
    },
    {
      "cell_type": "code",
      "source": [
        "%%script sqlite3 --column --header chinook.db\n",
        "SELECT *\n",
        "FROM employees\n",
        "LIMIT 10"
      ],
      "metadata": {
        "id": "Ekpu376zyofZ",
        "colab": {
          "base_uri": "https://localhost:8080/"
        },
        "outputId": "bc7a23a2-5cac-47e7-cce1-fb50599894a7"
      },
      "execution_count": null,
      "outputs": [
        {
          "output_type": "stream",
          "name": "stdout",
          "text": [
            "EmployeeId  LastName  FirstName  Title                ReportsTo  BirthDate            HireDate             Address                      City        State  Country  PostalCode  Phone              Fax                Email                   \n",
            "----------  --------  ---------  -------------------  ---------  -------------------  -------------------  ---------------------------  ----------  -----  -------  ----------  -----------------  -----------------  ------------------------\n",
            "1           Adams     Andrew     General Manager                 1962-02-18 00:00:00  2002-08-14 00:00:00  11120 Jasper Ave NW          Edmonton    AB     Canada   T5K 2N1     +1 (780) 428-9482  +1 (780) 428-3457  andrew@chinookcorp.com  \n",
            "2           Edwards   Nancy      Sales Manager        1          1958-12-08 00:00:00  2002-05-01 00:00:00  825 8 Ave SW                 Calgary     AB     Canada   T2P 2T3     +1 (403) 262-3443  +1 (403) 262-3322  nancy@chinookcorp.com   \n",
            "3           Peacock   Jane       Sales Support Agent  2          1973-08-29 00:00:00  2002-04-01 00:00:00  1111 6 Ave SW                Calgary     AB     Canada   T2P 5M5     +1 (403) 262-3443  +1 (403) 262-6712  jane@chinookcorp.com    \n",
            "4           Park      Margaret   Sales Support Agent  2          1947-09-19 00:00:00  2003-05-03 00:00:00  683 10 Street SW             Calgary     AB     Canada   T2P 5G3     +1 (403) 263-4423  +1 (403) 263-4289  margaret@chinookcorp.com\n",
            "5           Johnson   Steve      Sales Support Agent  2          1965-03-03 00:00:00  2003-10-17 00:00:00  7727B 41 Ave                 Calgary     AB     Canada   T3B 1Y7     1 (780) 836-9987   1 (780) 836-9543   steve@chinookcorp.com   \n",
            "6           Mitchell  Michael    IT Manager           1          1973-07-01 00:00:00  2003-10-17 00:00:00  5827 Bowness Road NW         Calgary     AB     Canada   T3B 0C5     +1 (403) 246-9887  +1 (403) 246-9899  michael@chinookcorp.com \n",
            "7           King      Robert     IT Staff             6          1970-05-29 00:00:00  2004-01-02 00:00:00  590 Columbia Boulevard West  Lethbridge  AB     Canada   T1K 5N8     +1 (403) 456-9986  +1 (403) 456-8485  robert@chinookcorp.com  \n",
            "8           Callahan  Laura      IT Staff             6          1968-01-09 00:00:00  2004-03-04 00:00:00  923 7 ST NW                  Lethbridge  AB     Canada   T1H 1Y8     +1 (403) 467-3351  +1 (403) 467-8772  laura@chinookcorp.com   \n"
          ]
        }
      ]
    },
    {
      "cell_type": "markdown",
      "source": [
        "#### WHERE\n"
      ],
      "metadata": {
        "id": "hdqdm3GutGnc"
      }
    },
    {
      "cell_type": "markdown",
      "source": [
        "What employees are from New Mexico? 0? What about California? It would appear there are only 8 employees and they all are from Canada...\n",
        "\n"
      ],
      "metadata": {
        "id": "LkWpTher5m-e"
      }
    },
    {
      "cell_type": "code",
      "source": [
        "%%script sqlite3 --column --header chinook.db\n",
        "SELECT *\n",
        "FROM employees\n",
        "WHERE State = 'AB'"
      ],
      "metadata": {
        "id": "sPHSIvSntJ2C",
        "colab": {
          "base_uri": "https://localhost:8080/"
        },
        "outputId": "43601976-10f7-475d-c5e9-634a481f6407"
      },
      "execution_count": null,
      "outputs": [
        {
          "output_type": "stream",
          "name": "stdout",
          "text": [
            "EmployeeId  LastName  FirstName  Title                ReportsTo  BirthDate            HireDate             Address                      City        State  Country  PostalCode  Phone              Fax                Email                   \n",
            "----------  --------  ---------  -------------------  ---------  -------------------  -------------------  ---------------------------  ----------  -----  -------  ----------  -----------------  -----------------  ------------------------\n",
            "1           Adams     Andrew     General Manager                 1962-02-18 00:00:00  2002-08-14 00:00:00  11120 Jasper Ave NW          Edmonton    AB     Canada   T5K 2N1     +1 (780) 428-9482  +1 (780) 428-3457  andrew@chinookcorp.com  \n",
            "2           Edwards   Nancy      Sales Manager        1          1958-12-08 00:00:00  2002-05-01 00:00:00  825 8 Ave SW                 Calgary     AB     Canada   T2P 2T3     +1 (403) 262-3443  +1 (403) 262-3322  nancy@chinookcorp.com   \n",
            "3           Peacock   Jane       Sales Support Agent  2          1973-08-29 00:00:00  2002-04-01 00:00:00  1111 6 Ave SW                Calgary     AB     Canada   T2P 5M5     +1 (403) 262-3443  +1 (403) 262-6712  jane@chinookcorp.com    \n",
            "4           Park      Margaret   Sales Support Agent  2          1947-09-19 00:00:00  2003-05-03 00:00:00  683 10 Street SW             Calgary     AB     Canada   T2P 5G3     +1 (403) 263-4423  +1 (403) 263-4289  margaret@chinookcorp.com\n",
            "5           Johnson   Steve      Sales Support Agent  2          1965-03-03 00:00:00  2003-10-17 00:00:00  7727B 41 Ave                 Calgary     AB     Canada   T3B 1Y7     1 (780) 836-9987   1 (780) 836-9543   steve@chinookcorp.com   \n",
            "6           Mitchell  Michael    IT Manager           1          1973-07-01 00:00:00  2003-10-17 00:00:00  5827 Bowness Road NW         Calgary     AB     Canada   T3B 0C5     +1 (403) 246-9887  +1 (403) 246-9899  michael@chinookcorp.com \n",
            "7           King      Robert     IT Staff             6          1970-05-29 00:00:00  2004-01-02 00:00:00  590 Columbia Boulevard West  Lethbridge  AB     Canada   T1K 5N8     +1 (403) 456-9986  +1 (403) 456-8485  robert@chinookcorp.com  \n",
            "8           Callahan  Laura      IT Staff             6          1968-01-09 00:00:00  2004-03-04 00:00:00  923 7 ST NW                  Lethbridge  AB     Canada   T1H 1Y8     +1 (403) 467-3351  +1 (403) 467-8772  laura@chinookcorp.com   \n"
          ]
        }
      ]
    },
    {
      "cell_type": "code",
      "source": [
        "%%script sqlite3 --column --header chinook.db\n",
        "SELECT *\n",
        "FROM employees\n"
      ],
      "metadata": {
        "id": "Tor1soGc5Blq",
        "colab": {
          "base_uri": "https://localhost:8080/"
        },
        "outputId": "6f3e5487-b727-478f-c9d1-6655e8c49a24"
      },
      "execution_count": null,
      "outputs": [
        {
          "output_type": "stream",
          "name": "stdout",
          "text": [
            "EmployeeId  LastName  FirstName  Title                ReportsTo  BirthDate            HireDate             Address                      City        State  Country  PostalCode  Phone              Fax                Email                   \n",
            "----------  --------  ---------  -------------------  ---------  -------------------  -------------------  ---------------------------  ----------  -----  -------  ----------  -----------------  -----------------  ------------------------\n",
            "1           Adams     Andrew     General Manager                 1962-02-18 00:00:00  2002-08-14 00:00:00  11120 Jasper Ave NW          Edmonton    AB     Canada   T5K 2N1     +1 (780) 428-9482  +1 (780) 428-3457  andrew@chinookcorp.com  \n",
            "2           Edwards   Nancy      Sales Manager        1          1958-12-08 00:00:00  2002-05-01 00:00:00  825 8 Ave SW                 Calgary     AB     Canada   T2P 2T3     +1 (403) 262-3443  +1 (403) 262-3322  nancy@chinookcorp.com   \n",
            "3           Peacock   Jane       Sales Support Agent  2          1973-08-29 00:00:00  2002-04-01 00:00:00  1111 6 Ave SW                Calgary     AB     Canada   T2P 5M5     +1 (403) 262-3443  +1 (403) 262-6712  jane@chinookcorp.com    \n",
            "4           Park      Margaret   Sales Support Agent  2          1947-09-19 00:00:00  2003-05-03 00:00:00  683 10 Street SW             Calgary     AB     Canada   T2P 5G3     +1 (403) 263-4423  +1 (403) 263-4289  margaret@chinookcorp.com\n",
            "5           Johnson   Steve      Sales Support Agent  2          1965-03-03 00:00:00  2003-10-17 00:00:00  7727B 41 Ave                 Calgary     AB     Canada   T3B 1Y7     1 (780) 836-9987   1 (780) 836-9543   steve@chinookcorp.com   \n",
            "6           Mitchell  Michael    IT Manager           1          1973-07-01 00:00:00  2003-10-17 00:00:00  5827 Bowness Road NW         Calgary     AB     Canada   T3B 0C5     +1 (403) 246-9887  +1 (403) 246-9899  michael@chinookcorp.com \n",
            "7           King      Robert     IT Staff             6          1970-05-29 00:00:00  2004-01-02 00:00:00  590 Columbia Boulevard West  Lethbridge  AB     Canada   T1K 5N8     +1 (403) 456-9986  +1 (403) 456-8485  robert@chinookcorp.com  \n",
            "8           Callahan  Laura      IT Staff             6          1968-01-09 00:00:00  2004-03-04 00:00:00  923 7 ST NW                  Lethbridge  AB     Canada   T1H 1Y8     +1 (403) 467-3351  +1 (403) 467-8772  laura@chinookcorp.com   \n"
          ]
        }
      ]
    },
    {
      "cell_type": "markdown",
      "source": [
        "#### AND\n"
      ],
      "metadata": {
        "id": "FS8-t20MtKPw"
      }
    },
    {
      "cell_type": "markdown",
      "source": [
        "How many customers from the USA had bills of more than $5? The answer is 91."
      ],
      "metadata": {
        "id": "SWqn3C87-u_j"
      }
    },
    {
      "cell_type": "code",
      "source": [
        "%%script sqlite3 --column --header chinook.db\n",
        "SELECT COUNT(*)\n",
        "FROM invoices\n",
        "WHERE BillingCountry = 'USA' AND 'total' > 5.00"
      ],
      "metadata": {
        "id": "oQVHCWPUtNLe",
        "colab": {
          "base_uri": "https://localhost:8080/"
        },
        "outputId": "b378c677-7fbd-4703-c040-ae6eee007f2d"
      },
      "execution_count": null,
      "outputs": [
        {
          "output_type": "stream",
          "name": "stdout",
          "text": [
            "COUNT(*)\n",
            "--------\n",
            "91      \n"
          ]
        }
      ]
    },
    {
      "cell_type": "markdown",
      "source": [
        "#### OR"
      ],
      "metadata": {
        "id": "O6GEYVSdtNw2"
      }
    },
    {
      "cell_type": "markdown",
      "source": [
        "How many tracks have either a purchased AAC audio file media type or a protected MPEG-4 audio type? The answer is 221."
      ],
      "metadata": {
        "id": "-Np-KqXoOoyB"
      }
    },
    {
      "cell_type": "code",
      "source": [
        "%%script sqlite3 --column --header chinook.db\n",
        "SELECT COUNT(*)\n",
        "FROM tracks\n",
        "WHERE MediaTypeId = '4' OR MediaTypeId = '3'"
      ],
      "metadata": {
        "id": "KL5LfRM5Ou__",
        "colab": {
          "base_uri": "https://localhost:8080/"
        },
        "outputId": "80a5bd94-f520-4e25-e966-27af4c3424f8"
      },
      "execution_count": null,
      "outputs": [
        {
          "output_type": "stream",
          "name": "stdout",
          "text": [
            "COUNT(*)\n",
            "--------\n",
            "221     \n"
          ]
        }
      ]
    },
    {
      "cell_type": "code",
      "source": [
        "%%script sqlite3 --column --header chinook.db\n",
        "SELECT *\n",
        "FROM media_types"
      ],
      "metadata": {
        "id": "d69jcleVNV0L",
        "colab": {
          "base_uri": "https://localhost:8080/"
        },
        "outputId": "40a398fb-2678-4106-df3e-bbe17298cd30"
      },
      "execution_count": null,
      "outputs": [
        {
          "output_type": "stream",
          "name": "stdout",
          "text": [
            "MediaTypeId  Name                       \n",
            "-----------  ---------------------------\n",
            "1            MPEG audio file            \n",
            "2            Protected AAC audio file   \n",
            "3            Protected MPEG-4 video file\n",
            "4            Purchased AAC audio file   \n",
            "5            AAC audio file             \n"
          ]
        }
      ]
    },
    {
      "cell_type": "markdown",
      "source": [
        "#### LIKE (with % or _ wildcard)\n"
      ],
      "metadata": {
        "id": "NLzNjKRBtRT_"
      }
    },
    {
      "cell_type": "markdown",
      "source": [
        "How many artist names start with a Z? None. What about M? 20. What about A? 26."
      ],
      "metadata": {
        "id": "0nLVQeTQQXtq"
      }
    },
    {
      "cell_type": "code",
      "source": [
        "%%script sqlite3 --column --header chinook.db\n",
        "SELECT Name\n",
        "FROM artists"
      ],
      "metadata": {
        "id": "vEdm1JNBQ4Zp",
        "colab": {
          "base_uri": "https://localhost:8080/"
        },
        "outputId": "07f5963d-4960-4ab4-e1eb-7efb2aee27f7"
      },
      "execution_count": null,
      "outputs": [
        {
          "output_type": "stream",
          "name": "stdout",
          "text": [
            "Name                                                                                 \n",
            "-------------------------------------------------------------------------------------\n",
            "AC/DC                                                                                \n",
            "Accept                                                                               \n",
            "Aerosmith                                                                            \n",
            "Alanis Morissette                                                                    \n",
            "Alice In Chains                                                                      \n",
            "Antônio Carlos Jobim                                                                 \n",
            "Apocalyptica                                                                         \n",
            "Audioslave                                                                           \n",
            "BackBeat                                                                             \n",
            "Billy Cobham                                                                         \n",
            "Black Label Society                                                                  \n",
            "Black Sabbath                                                                        \n",
            "Body Count                                                                           \n",
            "Bruce Dickinson                                                                      \n",
            "Buddy Guy                                                                            \n",
            "Caetano Veloso                                                                       \n",
            "Chico Buarque                                                                        \n",
            "Chico Science & Nação Zumbi                                                          \n",
            "Cidade Negra                                                                         \n",
            "Cláudio Zoli                                                                         \n",
            "Various Artists                                                                      \n",
            "Led Zeppelin                                                                         \n",
            "Frank Zappa & Captain Beefheart                                                      \n",
            "Marcos Valle                                                                         \n",
            "Milton Nascimento & Bebeto                                                           \n",
            "Azymuth                                                                              \n",
            "Gilberto Gil                                                                         \n",
            "João Gilberto                                                                        \n",
            "Bebel Gilberto                                                                       \n",
            "Jorge Vercilo                                                                        \n",
            "Baby Consuelo                                                                        \n",
            "Ney Matogrosso                                                                       \n",
            "Luiz Melodia                                                                         \n",
            "Nando Reis                                                                           \n",
            "Pedro Luís & A Parede                                                                \n",
            "O Rappa                                                                              \n",
            "Ed Motta                                                                             \n",
            "Banda Black Rio                                                                      \n",
            "Fernanda Porto                                                                       \n",
            "Os Cariocas                                                                          \n",
            "Elis Regina                                                                          \n",
            "Milton Nascimento                                                                    \n",
            "A Cor Do Som                                                                         \n",
            "Kid Abelha                                                                           \n",
            "Sandra De Sá                                                                         \n",
            "Jorge Ben                                                                            \n",
            "Hermeto Pascoal                                                                      \n",
            "Barão Vermelho                                                                       \n",
            "Edson, DJ Marky & DJ Patife Featuring Fernanda Porto                                 \n",
            "Metallica                                                                            \n",
            "Queen                                                                                \n",
            "Kiss                                                                                 \n",
            "Spyro Gyra                                                                           \n",
            "Green Day                                                                            \n",
            "David Coverdale                                                                      \n",
            "Gonzaguinha                                                                          \n",
            "Os Mutantes                                                                          \n",
            "Deep Purple                                                                          \n",
            "Santana                                                                              \n",
            "Santana Feat. Dave Matthews                                                          \n",
            "Santana Feat. Everlast                                                               \n",
            "Santana Feat. Rob Thomas                                                             \n",
            "Santana Feat. Lauryn Hill & Cee-Lo                                                   \n",
            "Santana Feat. The Project G&B                                                        \n",
            "Santana Feat. Maná                                                                   \n",
            "Santana Feat. Eagle-Eye Cherry                                                       \n",
            "Santana Feat. Eric Clapton                                                           \n",
            "Miles Davis                                                                          \n",
            "Gene Krupa                                                                           \n",
            "Toquinho & Vinícius                                                                  \n",
            "Vinícius De Moraes & Baden Powell                                                    \n",
            "Vinícius De Moraes                                                                   \n",
            "Vinícius E Qurteto Em Cy                                                             \n",
            "Vinícius E Odette Lara                                                               \n",
            "Vinicius, Toquinho & Quarteto Em Cy                                                  \n",
            "Creedence Clearwater Revival                                                         \n",
            "Cássia Eller                                                                         \n",
            "Def Leppard                                                                          \n",
            "Dennis Chambers                                                                      \n",
            "Djavan                                                                               \n",
            "Eric Clapton                                                                         \n",
            "Faith No More                                                                        \n",
            "Falamansa                                                                            \n",
            "Foo Fighters                                                                         \n",
            "Frank Sinatra                                                                        \n",
            "Funk Como Le Gusta                                                                   \n",
            "Godsmack                                                                             \n",
            "Guns N' Roses                                                                        \n",
            "Incognito                                                                            \n",
            "Iron Maiden                                                                          \n",
            "James Brown                                                                          \n",
            "Jamiroquai                                                                           \n",
            "JET                                                                                  \n",
            "Jimi Hendrix                                                                         \n",
            "Joe Satriani                                                                         \n",
            "Jota Quest                                                                           \n",
            "João Suplicy                                                                         \n",
            "Judas Priest                                                                         \n",
            "Legião Urbana                                                                        \n",
            "Lenny Kravitz                                                                        \n",
            "Lulu Santos                                                                          \n",
            "Marillion                                                                            \n",
            "Marisa Monte                                                                         \n",
            "Marvin Gaye                                                                          \n",
            "Men At Work                                                                          \n",
            "Motörhead                                                                            \n",
            "Motörhead & Girlschool                                                               \n",
            "Mônica Marianno                                                                      \n",
            "Mötley Crüe                                                                          \n",
            "Nirvana                                                                              \n",
            "O Terço                                                                              \n",
            "Olodum                                                                               \n",
            "Os Paralamas Do Sucesso                                                              \n",
            "Ozzy Osbourne                                                                        \n",
            "Page & Plant                                                                         \n",
            "Passengers                                                                           \n",
            "Paul D'Ianno                                                                         \n",
            "Pearl Jam                                                                            \n",
            "Peter Tosh                                                                           \n",
            "Pink Floyd                                                                           \n",
            "Planet Hemp                                                                          \n",
            "R.E.M. Feat. Kate Pearson                                                            \n",
            "R.E.M. Feat. KRS-One                                                                 \n",
            "R.E.M.                                                                               \n",
            "Raimundos                                                                            \n",
            "Raul Seixas                                                                          \n",
            "Red Hot Chili Peppers                                                                \n",
            "Rush                                                                                 \n",
            "Simply Red                                                                           \n",
            "Skank                                                                                \n",
            "Smashing Pumpkins                                                                    \n",
            "Soundgarden                                                                          \n",
            "Stevie Ray Vaughan & Double Trouble                                                  \n",
            "Stone Temple Pilots                                                                  \n",
            "System Of A Down                                                                     \n",
            "Terry Bozzio, Tony Levin & Steve Stevens                                             \n",
            "The Black Crowes                                                                     \n",
            "The Clash                                                                            \n",
            "The Cult                                                                             \n",
            "The Doors                                                                            \n",
            "The Police                                                                           \n",
            "The Rolling Stones                                                                   \n",
            "The Tea Party                                                                        \n",
            "The Who                                                                              \n",
            "Tim Maia                                                                             \n",
            "Titãs                                                                                \n",
            "Battlestar Galactica                                                                 \n",
            "Heroes                                                                               \n",
            "Lost                                                                                 \n",
            "U2                                                                                   \n",
            "UB40                                                                                 \n",
            "Van Halen                                                                            \n",
            "Velvet Revolver                                                                      \n",
            "Whitesnake                                                                           \n",
            "Zeca Pagodinho                                                                       \n",
            "The Office                                                                           \n",
            "Dread Zeppelin                                                                       \n",
            "Battlestar Galactica (Classic)                                                       \n",
            "Aquaman                                                                              \n",
            "Christina Aguilera featuring BigElf                                                  \n",
            "Aerosmith & Sierra Leone's Refugee Allstars                                          \n",
            "Los Lonely Boys                                                                      \n",
            "Corinne Bailey Rae                                                                   \n",
            "Dhani Harrison & Jakob Dylan                                                         \n",
            "Jackson Browne                                                                       \n",
            "Avril Lavigne                                                                        \n",
            "Big & Rich                                                                           \n",
            "Youssou N'Dour                                                                       \n",
            "Black Eyed Peas                                                                      \n",
            "Jack Johnson                                                                         \n",
            "Ben Harper                                                                           \n",
            "Snow Patrol                                                                          \n",
            "Matisyahu                                                                            \n",
            "The Postal Service                                                                   \n",
            "Jaguares                                                                             \n",
            "The Flaming Lips                                                                     \n",
            "Jack's Mannequin & Mick Fleetwood                                                    \n",
            "Regina Spektor                                                                       \n",
            "Scorpions                                                                            \n",
            "House Of Pain                                                                        \n",
            "Xis                                                                                  \n",
            "Nega Gizza                                                                           \n",
            "Gustavo & Andres Veiga & Salazar                                                     \n",
            "Rodox                                                                                \n",
            "Charlie Brown Jr.                                                                    \n",
            "Pedro Luís E A Parede                                                                \n",
            "Los Hermanos                                                                         \n",
            "Mundo Livre S/A                                                                      \n",
            "Otto                                                                                 \n",
            "Instituto                                                                            \n",
            "Nação Zumbi                                                                          \n",
            "DJ Dolores & Orchestra Santa Massa                                                   \n",
            "Seu Jorge                                                                            \n",
            "Sabotage E Instituto                                                                 \n",
            "Stereo Maracana                                                                      \n",
            "Cake                                                                                 \n",
            "Aisha Duo                                                                            \n",
            "Habib Koité and Bamada                                                               \n",
            "Karsh Kale                                                                           \n",
            "The Posies                                                                           \n",
            "Luciana Souza/Romero Lubambo                                                         \n",
            "Aaron Goldberg                                                                       \n",
            "Nicolaus Esterhazy Sinfonia                                                          \n",
            "Temple of the Dog                                                                    \n",
            "Chris Cornell                                                                        \n",
            "Alberto Turco & Nova Schola Gregoriana                                               \n",
            "Richard Marlow & The Choir of Trinity College, Cambridge                             \n",
            "English Concert & Trevor Pinnock                                                     \n",
            "Anne-Sophie Mutter, Herbert Von Karajan & Wiener Philharmoniker                      \n",
            "Hilary Hahn, Jeffrey Kahane, Los Angeles Chamber Orchestra & Margaret Batjer         \n",
            "Wilhelm Kempff                                                                       \n",
            "Yo-Yo Ma                                                                             \n",
            "Scholars Baroque Ensemble                                                            \n",
            "Academy of St. Martin in the Fields & Sir Neville Marriner                           \n",
            "Academy of St. Martin in the Fields Chamber Ensemble & Sir Neville Marriner          \n",
            "Berliner Philharmoniker, Claudio Abbado & Sabine Meyer                               \n",
            "Royal Philharmonic Orchestra & Sir Thomas Beecham                                    \n",
            "Orchestre Révolutionnaire et Romantique & John Eliot Gardiner                        \n",
            "Britten Sinfonia, Ivor Bolton & Lesley Garrett                                       \n",
            "Chicago Symphony Chorus, Chicago Symphony Orchestra & Sir Georg Solti                \n",
            "Sir Georg Solti & Wiener Philharmoniker                                              \n",
            "Academy of St. Martin in the Fields, John Birch, Sir Neville Marriner & Sylvia McNair\n",
            "London Symphony Orchestra & Sir Charles Mackerras                                    \n",
            "Barry Wordsworth & BBC Concert Orchestra                                             \n",
            "Herbert Von Karajan, Mirella Freni & Wiener Philharmoniker                           \n",
            "Eugene Ormandy                                                                       \n",
            "Luciano Pavarotti                                                                    \n",
            "Leonard Bernstein & New York Philharmonic                                            \n",
            "Boston Symphony Orchestra & Seiji Ozawa                                              \n",
            "Aaron Copland & London Symphony Orchestra                                            \n",
            "Ton Koopman                                                                          \n",
            "Sergei Prokofiev & Yuri Temirkanov                                                   \n",
            "Chicago Symphony Orchestra & Fritz Reiner                                            \n",
            "Orchestra of The Age of Enlightenment                                                \n",
            "Emanuel Ax, Eugene Ormandy & Philadelphia Orchestra                                  \n",
            "James Levine                                                                         \n",
            "Berliner Philharmoniker & Hans Rosbaud                                               \n",
            "Maurizio Pollini                                                                     \n",
            "Academy of St. Martin in the Fields, Sir Neville Marriner & William Bennett          \n",
            "Gustav Mahler                                                                        \n",
            "Felix Schmidt, London Symphony Orchestra & Rafael Frühbeck de Burgos                 \n",
            "Edo de Waart & San Francisco Symphony                                                \n",
            "Antal Doráti & London Symphony Orchestra                                             \n",
            "Choir Of Westminster Abbey & Simon Preston                                           \n",
            "Michael Tilson Thomas & San Francisco Symphony                                       \n",
            "Chor der Wiener Staatsoper, Herbert Von Karajan & Wiener Philharmoniker              \n",
            "The King's Singers                                                                   \n",
            "Berliner Philharmoniker & Herbert Von Karajan                                        \n",
            "Sir Georg Solti, Sumi Jo & Wiener Philharmoniker                                     \n",
            "Christopher O'Riley                                                                  \n",
            "Fretwork                                                                             \n",
            "Amy Winehouse                                                                        \n",
            "Calexico                                                                             \n",
            "Otto Klemperer & Philharmonia Orchestra                                              \n",
            "Yehudi Menuhin                                                                       \n",
            "Philharmonia Orchestra & Sir Neville Marriner                                        \n",
            "Academy of St. Martin in the Fields, Sir Neville Marriner & Thurston Dart            \n",
            "Les Arts Florissants & William Christie                                              \n",
            "The 12 Cellists of The Berlin Philharmonic                                           \n",
            "Adrian Leaper & Doreen de Feis                                                       \n",
            "Roger Norrington, London Classical Players                                           \n",
            "Charles Dutoit & L'Orchestre Symphonique de Montréal                                 \n",
            "Equale Brass Ensemble, John Eliot Gardiner & Munich Monteverdi Orchestra and Choir   \n",
            "Kent Nagano and Orchestre de l'Opéra de Lyon                                         \n",
            "Julian Bream                                                                         \n",
            "Martin Roscoe                                                                        \n",
            "Göteborgs Symfoniker & Neeme Järvi                                                   \n",
            "Itzhak Perlman                                                                       \n",
            "Michele Campanella                                                                   \n",
            "Gerald Moore                                                                         \n",
            "Mela Tenenbaum, Pro Musica Prague & Richard Kapp                                     \n",
            "Emerson String Quartet                                                               \n",
            "C. Monteverdi, Nigel Rogers - Chiaroscuro; London Baroque; London Cornett & Sackbu   \n",
            "Nash Ensemble                                                                        \n",
            "Philip Glass Ensemble                                                                \n"
          ]
        }
      ]
    },
    {
      "cell_type": "code",
      "source": [
        "%%script sqlite3 --column --header chinook.db\n",
        "SELECT COUNT(Name) as 'Distinct Names'\n",
        "FROM artists\n",
        "WHERE Name LIKE 'A%'"
      ],
      "metadata": {
        "id": "N6ubjGtRtT2W",
        "colab": {
          "base_uri": "https://localhost:8080/"
        },
        "outputId": "d1698e54-ed2e-422d-d058-b5d4a8d8167c"
      },
      "execution_count": null,
      "outputs": [
        {
          "output_type": "stream",
          "name": "stdout",
          "text": [
            "Distinct Names\n",
            "--------------\n",
            "26            \n"
          ]
        }
      ]
    },
    {
      "cell_type": "markdown",
      "source": [
        "#### BETWEEN\n"
      ],
      "metadata": {
        "id": "_y6QUHLktV_U"
      }
    },
    {
      "cell_type": "markdown",
      "source": [
        "How many tracks were at between 250K - 300K milliseconds or 5000000 - 550K Bytes?"
      ],
      "metadata": {
        "id": "ASSjOItSNN3O"
      }
    },
    {
      "cell_type": "code",
      "source": [
        "%%script sqlite3 --column --header chinook.db\n",
        "SELECT COUNT(*)\n",
        "FROM tracks\n",
        "WHERE Milliseconds BETWEEN 250000 AND 300000"
      ],
      "metadata": {
        "id": "Ui7Cj9hNNN3P",
        "colab": {
          "base_uri": "https://localhost:8080/"
        },
        "outputId": "0f6c5150-707e-4dca-9c82-3158b2bda90d"
      },
      "execution_count": null,
      "outputs": [
        {
          "output_type": "stream",
          "name": "stdout",
          "text": [
            "COUNT(*)\n",
            "--------\n",
            "779     \n"
          ]
        }
      ]
    },
    {
      "cell_type": "code",
      "source": [
        "%%script sqlite3 --column --header chinook.db\n",
        "SELECT COUNT(*)\n",
        "FROM tracks\n",
        "WHERE Bytes BETWEEN 5000000 AND 5500000"
      ],
      "metadata": {
        "id": "NOteiLSSNN3Q",
        "colab": {
          "base_uri": "https://localhost:8080/"
        },
        "outputId": "5ef1fd9b-56e4-4289-eb90-a4d2c084e12a"
      },
      "execution_count": null,
      "outputs": [
        {
          "output_type": "stream",
          "name": "stdout",
          "text": [
            "COUNT(*)\n",
            "--------\n",
            "143     \n"
          ]
        }
      ]
    },
    {
      "cell_type": "markdown",
      "source": [
        "#### LIMIT\n"
      ],
      "metadata": {
        "id": "t4yBYs3StaKM"
      }
    },
    {
      "cell_type": "markdown",
      "source": [
        "What are the names of 10 tracks?"
      ],
      "metadata": {
        "id": "k-kdW8pkSfZ2"
      }
    },
    {
      "cell_type": "code",
      "source": [
        "%%script sqlite3 --column --header chinook.db\n",
        "SELECT *\n",
        "FROM tracks\n",
        "LIMIT 10"
      ],
      "metadata": {
        "id": "C9r1OJ62NN3Q",
        "colab": {
          "base_uri": "https://localhost:8080/"
        },
        "outputId": "408383cf-717f-4188-e8e2-9009bce71643"
      },
      "execution_count": null,
      "outputs": [
        {
          "output_type": "stream",
          "name": "stdout",
          "text": [
            "TrackId  Name                                     AlbumId  MediaTypeId  GenreId  Composer                                                                Milliseconds  Bytes     UnitPrice\n",
            "-------  ---------------------------------------  -------  -----------  -------  ----------------------------------------------------------------------  ------------  --------  ---------\n",
            "1        For Those About To Rock (We Salute You)  1        1            1        Angus Young, Malcolm Young, Brian Johnson                               343719        11170334  0.99     \n",
            "2        Balls to the Wall                        2        2            1                                                                                342562        5510424   0.99     \n",
            "3        Fast As a Shark                          3        2            1        F. Baltes, S. Kaufman, U. Dirkscneider & W. Hoffman                     230619        3990994   0.99     \n",
            "4        Restless and Wild                        3        2            1        F. Baltes, R.A. Smith-Diesel, S. Kaufman, U. Dirkscneider & W. Hoffman  252051        4331779   0.99     \n",
            "5        Princess of the Dawn                     3        2            1        Deaffy & R.A. Smith-Diesel                                              375418        6290521   0.99     \n",
            "6        Put The Finger On You                    1        1            1        Angus Young, Malcolm Young, Brian Johnson                               205662        6713451   0.99     \n",
            "7        Let's Get It Up                          1        1            1        Angus Young, Malcolm Young, Brian Johnson                               233926        7636561   0.99     \n",
            "8        Inject The Venom                         1        1            1        Angus Young, Malcolm Young, Brian Johnson                               210834        6852860   0.99     \n",
            "9        Snowballed                               1        1            1        Angus Young, Malcolm Young, Brian Johnson                               203102        6599424   0.99     \n",
            "10       Evil Walks                               1        1            1        Angus Young, Malcolm Young, Brian Johnson                               263497        8611245   0.99     \n"
          ]
        }
      ]
    },
    {
      "cell_type": "code",
      "source": [],
      "metadata": {
        "id": "_Il2QfY5tbk-"
      },
      "execution_count": null,
      "outputs": []
    },
    {
      "cell_type": "markdown",
      "source": [
        "### Sorting and Grouping\n"
      ],
      "metadata": {
        "id": "edKaaA6Rtdwg"
      }
    },
    {
      "cell_type": "markdown",
      "source": [
        "#### ORDER BY\n"
      ],
      "metadata": {
        "id": "_fTITAmyt2po"
      }
    },
    {
      "cell_type": "markdown",
      "source": [
        "What were the 10 biggest total amounts from the invoices table?"
      ],
      "metadata": {
        "id": "sYtwSMuqV1B6"
      }
    },
    {
      "cell_type": "code",
      "source": [
        "%%script sqlite3 --column --header chinook.db\n",
        "SELECT *\n",
        "FROM invoices\n",
        "ORDER BY total DESC\n",
        "LIMIT 10"
      ],
      "metadata": {
        "id": "RaxezzYxt5P0",
        "colab": {
          "base_uri": "https://localhost:8080/"
        },
        "outputId": "19d2bc47-eade-49ea-e476-4b8da4642827"
      },
      "execution_count": null,
      "outputs": [
        {
          "output_type": "stream",
          "name": "stdout",
          "text": [
            "InvoiceId  CustomerId  InvoiceDate          BillingAddress                        BillingCity  BillingState  BillingCountry  BillingPostalCode  Total\n",
            "---------  ----------  -------------------  ------------------------------------  -----------  ------------  --------------  -----------------  -----\n",
            "404        6           2013-11-13 00:00:00  Rilská 3174/6                         Prague                     Czech Republic  14300              25.86\n",
            "299        26          2012-08-05 00:00:00  2211 W Berry Street                   Fort Worth   TX            USA             76110              23.86\n",
            "96         45          2010-02-18 00:00:00  Erzsébet krt. 58.                     Budapest                   Hungary         H-1073             21.86\n",
            "194        46          2011-04-28 00:00:00  3 Chatham Street                      Dublin       Dublin        Ireland                            21.86\n",
            "89         7           2010-01-18 00:00:00  Rotenturmstraße 4, 1010 Innere Stadt  Vienne                     Austria         1010               18.86\n",
            "201        25          2011-05-29 00:00:00  319 N. Frances Street                 Madison      WI            USA             53703              18.86\n",
            "88         57          2010-01-13 00:00:00  Calle Lira, 198                       Santiago                   Chile                              17.91\n",
            "306        5           2012-09-05 00:00:00  Klanova 9/506                         Prague                     Czech Republic  14700              16.86\n",
            "313        43          2012-10-06 00:00:00  68, Rue Jouvence                      Dijon                      France          21000              16.86\n",
            "103        24          2010-03-21 00:00:00  162 E Superior Street                 Chicago      IL            USA             60611              15.86\n"
          ]
        }
      ]
    },
    {
      "cell_type": "markdown",
      "source": [
        "#### DISTINCT\n"
      ],
      "metadata": {
        "id": "PUATyeRnt55e"
      }
    },
    {
      "cell_type": "markdown",
      "source": [
        "There are 275 distinct artists."
      ],
      "metadata": {
        "id": "ZEJj1o8kWJum"
      }
    },
    {
      "cell_type": "code",
      "source": [
        "%%script sqlite3 --column --header chinook.db\n",
        "SELECT COUNT(DISTINCT ArtistID) as 'Distinct Artists'\n",
        "FROM artists"
      ],
      "metadata": {
        "id": "ajXEZavNt8De",
        "colab": {
          "base_uri": "https://localhost:8080/"
        },
        "outputId": "d9292556-e416-4256-df51-00a8348ba1ef"
      },
      "execution_count": null,
      "outputs": [
        {
          "output_type": "stream",
          "name": "stdout",
          "text": [
            "Distinct Artists\n",
            "----------------\n",
            "275             \n"
          ]
        }
      ]
    },
    {
      "cell_type": "markdown",
      "source": [
        "#### GROUP BY\n"
      ],
      "metadata": {
        "id": "N6ZmZqVTt8o_"
      }
    },
    {
      "cell_type": "markdown",
      "source": [
        "What is the ablum ID of artists 3? Answer: 5. What about artists 3-20? Results below."
      ],
      "metadata": {
        "id": "kGGsjYR4Yrwc"
      }
    },
    {
      "cell_type": "code",
      "source": [
        "%%script sqlite3 --column --header chinook.db\n",
        "SELECT Albumid, Artistid, Title\n",
        "FROM albums\n",
        "WHERE Artistid BETWEEN 3 and 20\n",
        "GROUP BY Artistid\n",
        "ORDER BY Artistid ASC\n",
        "LIMIT 20"
      ],
      "metadata": {
        "id": "vPZ1IpVtZUWk",
        "colab": {
          "base_uri": "https://localhost:8080/"
        },
        "outputId": "d1a25bd8-ff6f-472e-91df-14ae5d923c7f"
      },
      "execution_count": null,
      "outputs": [
        {
          "output_type": "stream",
          "name": "stdout",
          "text": [
            "AlbumId  ArtistId  Title                                           \n",
            "-------  --------  ------------------------------------------------\n",
            "5        3         Big Ones                                        \n",
            "6        4         Jagged Little Pill                              \n",
            "7        5         Facelift                                        \n",
            "8        6         Warner 25 Anos                                  \n",
            "9        7         Plays Metallica By Four Cellos                  \n",
            "10       8         Audioslave                                      \n",
            "12       9         BackBeat Soundtrack                             \n",
            "13       10        The Best Of Billy Cobham                        \n",
            "14       11        Alcohol Fueled Brewtality Live! [Disc 1]        \n",
            "16       12        Black Sabbath                                   \n",
            "18       13        Body Count                                      \n",
            "19       14        Chemical Wedding                                \n",
            "20       15        The Best Of Buddy Guy - The Millenium Collection\n",
            "21       16        Prenda Minha                                    \n",
            "23       17        Minha Historia                                  \n",
            "24       18        Afrociberdelia                                  \n",
            "26       19        Acústico MTV [Live]                             \n",
            "28       20        Na Pista                                        \n"
          ]
        }
      ]
    },
    {
      "cell_type": "code",
      "source": [
        "%%script sqlite3 --column --header chinook.db\n",
        "SELECT Albumid, Artistid, Title\n",
        "FROM albums\n",
        "WHERE Title LIKE '_a%'\n",
        "GROUP BY Artistid\n",
        "ORDER BY Artistid DESC\n",
        "LIMIT 10"
      ],
      "metadata": {
        "id": "qVtatv_7t_aD",
        "colab": {
          "base_uri": "https://localhost:8080/"
        },
        "outputId": "5b785895-4179-4639-c930-954b999d4439"
      },
      "execution_count": null,
      "outputs": [
        {
          "output_type": "stream",
          "name": "stdout",
          "text": [
            "AlbumId  ArtistId  Title                                               \n",
            "-------  --------  ----------------------------------------------------\n",
            "327      257       Bach: Orchestral Suites Nos. 1 - 4                  \n",
            "325      255       Bartok: Violin & Viola Concertos                    \n",
            "323      253       Carried to Dust (Bonus Track Version)               \n",
            "321      252       Back to Black                                       \n",
            "309      244       Palestrina: Missa Papae Marcelli & Allegri: Miserere\n",
            "302      236       Mascagni: Cavalleria Rusticana                      \n",
            "300      234       Bach: The Brandenburg Concertos                     \n",
            "297      231       Bach: Toccata & Fugue in D Minor                    \n",
            "295      229       Carmina Burana                                      \n",
            "293      227       Pavarotti's Opera Made Easy                         \n"
          ]
        }
      ]
    },
    {
      "cell_type": "markdown",
      "source": [
        "### Aggregates\n"
      ],
      "metadata": {
        "id": "7kv4-CiEuB0y"
      }
    },
    {
      "cell_type": "markdown",
      "source": [
        "#### MAX\n"
      ],
      "metadata": {
        "id": "xLHUN4XOuCp2"
      }
    },
    {
      "cell_type": "markdown",
      "source": [
        "What was the most expensive track in the trakcs table? Answer: $1.99.\n"
      ],
      "metadata": {
        "id": "NlMJClBWcJng"
      }
    },
    {
      "cell_type": "code",
      "source": [
        "%%script sqlite3 --column --header chinook.db\n",
        "SELECT MAX(UnitPrice) as 'Max_Price'\n",
        "FROM tracks\n"
      ],
      "metadata": {
        "id": "6GF8AHywucTn",
        "colab": {
          "base_uri": "https://localhost:8080/"
        },
        "outputId": "af70abfd-b645-4017-f167-7034f1f0d5df"
      },
      "execution_count": null,
      "outputs": [
        {
          "output_type": "stream",
          "name": "stdout",
          "text": [
            "Max_Price\n",
            "---------\n",
            "1.99     \n"
          ]
        }
      ]
    },
    {
      "cell_type": "markdown",
      "source": [
        "#### MIN\n"
      ],
      "metadata": {
        "id": "rzbUOvbDuckT"
      }
    },
    {
      "cell_type": "markdown",
      "source": [
        "What was the least expensive track in the trakcs table? Answer: $0.99."
      ],
      "metadata": {
        "id": "rSBkZ5azcUuw"
      }
    },
    {
      "cell_type": "code",
      "source": [
        "%%script sqlite3 --column --header chinook.db\n",
        "SELECT MIN(UnitPrice) as 'Min_Price'\n",
        "FROM tracks\n"
      ],
      "metadata": {
        "id": "jmSydmQaudiy",
        "colab": {
          "base_uri": "https://localhost:8080/"
        },
        "outputId": "8f5ba554-66dc-46fc-e9e2-f7d5aea337b5"
      },
      "execution_count": null,
      "outputs": [
        {
          "output_type": "stream",
          "name": "stdout",
          "text": [
            "Min_Price\n",
            "---------\n",
            "0.99     \n"
          ]
        }
      ]
    },
    {
      "cell_type": "markdown",
      "source": [
        "#### SUM\n"
      ],
      "metadata": {
        "id": "FwS2ZXoIufKT"
      }
    },
    {
      "cell_type": "markdown",
      "source": [
        "What is the sum of all the tracks purchased in the tracks table? Answer: $3680.969"
      ],
      "metadata": {
        "id": "DaMriiIWch7-"
      }
    },
    {
      "cell_type": "code",
      "source": [
        "%%script sqlite3 --column --header chinook.db\n",
        "SELECT SUM(UnitPrice) as 'Sum_Price'\n",
        "FROM tracks\n"
      ],
      "metadata": {
        "id": "LPdT1Tdsufnt",
        "colab": {
          "base_uri": "https://localhost:8080/"
        },
        "outputId": "eb43408f-a4b7-460c-af13-67c7e9136824"
      },
      "execution_count": null,
      "outputs": [
        {
          "output_type": "stream",
          "name": "stdout",
          "text": [
            "Sum_Price      \n",
            "---------------\n",
            "3680.9699999997\n"
          ]
        }
      ]
    },
    {
      "cell_type": "markdown",
      "source": [
        "#### AVG\n"
      ],
      "metadata": {
        "id": "pXAZhhjYuf9_"
      }
    },
    {
      "cell_type": "markdown",
      "source": [
        "What is the average of all the tracks purchased in the tracks table? Answer: $1.05"
      ],
      "metadata": {
        "id": "2-wGcYuNcxAs"
      }
    },
    {
      "cell_type": "code",
      "source": [
        "%%script sqlite3 --column --header chinook.db\n",
        "SELECT AVG(UnitPrice) as 'Sum_Price'\n",
        "FROM tracks"
      ],
      "metadata": {
        "id": "xTMsN1SHuh1f",
        "colab": {
          "base_uri": "https://localhost:8080/"
        },
        "outputId": "0457dbbc-14e4-4087-887c-f7a53a6fa5f8"
      },
      "execution_count": null,
      "outputs": [
        {
          "output_type": "stream",
          "name": "stdout",
          "text": [
            "Sum_Price       \n",
            "----------------\n",
            "1.05080502426483\n"
          ]
        }
      ]
    },
    {
      "cell_type": "markdown",
      "source": [
        "#### COUNT\n"
      ],
      "metadata": {
        "id": "gTO6szPauiNH"
      }
    },
    {
      "cell_type": "markdown",
      "source": [
        "How many different artists are there? Answer: There are 275 distinct artists."
      ],
      "metadata": {
        "id": "6bIi1l7W0E8h"
      }
    },
    {
      "cell_type": "code",
      "source": [
        "%%script sqlite3 --column --header chinook.db\n",
        "SELECT COUNT(DISTINCT ArtistID)\n",
        "FROM artists\n"
      ],
      "metadata": {
        "id": "5MzGJv29ukTj",
        "colab": {
          "base_uri": "https://localhost:8080/"
        },
        "outputId": "365f4730-d407-45af-e043-1236a8f5eb84"
      },
      "execution_count": null,
      "outputs": [
        {
          "output_type": "stream",
          "name": "stdout",
          "text": [
            "COUNT(DISTINCT ArtistID)\n",
            "------------------------\n",
            "275                     \n"
          ]
        }
      ]
    },
    {
      "cell_type": "code",
      "source": [
        "%%script sqlite3 --column --header chinook.db\n",
        "SELECT COUNT(DISTINCT ArtistID) as 'Distinct Artists'\n",
        "FROM artists"
      ],
      "metadata": {
        "id": "F_8oMyRWMwc4",
        "colab": {
          "base_uri": "https://localhost:8080/"
        },
        "outputId": "eee78fd1-3180-457a-8e22-63fcdc1a3273"
      },
      "execution_count": null,
      "outputs": [
        {
          "output_type": "stream",
          "name": "stdout",
          "text": [
            "Distinct Artists\n",
            "----------------\n",
            "275             \n"
          ]
        }
      ]
    },
    {
      "cell_type": "markdown",
      "source": [
        "### Plots"
      ],
      "metadata": {
        "id": "a97X7BMuumHk"
      }
    },
    {
      "cell_type": "code",
      "source": [
        "import pandas as pd\n",
        "import sqlite3\n",
        "import matplotlib.pyplot as plt\n",
        "import numpy as np\n",
        "\n",
        "\n",
        "connection = sqlite3.connect('chinook.db')\n",
        "query = \"SELECT * FROM tracks\"\n",
        "cursor = connection.execute(query)\n",
        "results = cursor.fetchall()\n",
        "\n",
        "tracks_df = pd.DataFrame(results, columns=[description[0] for description in cursor.description])\n",
        "tracks_df.transpose()"
      ],
      "metadata": {
        "colab": {
          "base_uri": "https://localhost:8080/",
          "height": 589
        },
        "id": "YpLl3623ek8Y",
        "outputId": "02b800f3-3e05-4325-fb7d-ed91f14256c7"
      },
      "execution_count": null,
      "outputs": [
        {
          "output_type": "execute_result",
          "data": {
            "text/plain": [
              "                                                   0                  1     \\\n",
              "TrackId                                               1                  2   \n",
              "Name            For Those About To Rock (We Salute You)  Balls to the Wall   \n",
              "AlbumId                                               1                  2   \n",
              "MediaTypeId                                           1                  2   \n",
              "GenreId                                               1                  1   \n",
              "Composer      Angus Young, Malcolm Young, Brian Johnson               None   \n",
              "Milliseconds                                     343719             342562   \n",
              "Bytes                                          11170334            5510424   \n",
              "UnitPrice                                          0.99               0.99   \n",
              "\n",
              "                                                           2     \\\n",
              "TrackId                                                       3   \n",
              "Name                                            Fast As a Shark   \n",
              "AlbumId                                                       3   \n",
              "MediaTypeId                                                   2   \n",
              "GenreId                                                       1   \n",
              "Composer      F. Baltes, S. Kaufman, U. Dirkscneider & W. Ho...   \n",
              "Milliseconds                                             230619   \n",
              "Bytes                                                   3990994   \n",
              "UnitPrice                                                  0.99   \n",
              "\n",
              "                                                           3     \\\n",
              "TrackId                                                       4   \n",
              "Name                                          Restless and Wild   \n",
              "AlbumId                                                       3   \n",
              "MediaTypeId                                                   2   \n",
              "GenreId                                                       1   \n",
              "Composer      F. Baltes, R.A. Smith-Diesel, S. Kaufman, U. D...   \n",
              "Milliseconds                                             252051   \n",
              "Bytes                                                   4331779   \n",
              "UnitPrice                                                  0.99   \n",
              "\n",
              "                                    4     \\\n",
              "TrackId                                5   \n",
              "Name                Princess of the Dawn   \n",
              "AlbumId                                3   \n",
              "MediaTypeId                            2   \n",
              "GenreId                                1   \n",
              "Composer      Deaffy & R.A. Smith-Diesel   \n",
              "Milliseconds                      375418   \n",
              "Bytes                            6290521   \n",
              "UnitPrice                           0.99   \n",
              "\n",
              "                                                   5     \\\n",
              "TrackId                                               6   \n",
              "Name                              Put The Finger On You   \n",
              "AlbumId                                               1   \n",
              "MediaTypeId                                           1   \n",
              "GenreId                                               1   \n",
              "Composer      Angus Young, Malcolm Young, Brian Johnson   \n",
              "Milliseconds                                     205662   \n",
              "Bytes                                           6713451   \n",
              "UnitPrice                                          0.99   \n",
              "\n",
              "                                                   6     \\\n",
              "TrackId                                               7   \n",
              "Name                                    Let's Get It Up   \n",
              "AlbumId                                               1   \n",
              "MediaTypeId                                           1   \n",
              "GenreId                                               1   \n",
              "Composer      Angus Young, Malcolm Young, Brian Johnson   \n",
              "Milliseconds                                     233926   \n",
              "Bytes                                           7636561   \n",
              "UnitPrice                                          0.99   \n",
              "\n",
              "                                                   7     \\\n",
              "TrackId                                               8   \n",
              "Name                                   Inject The Venom   \n",
              "AlbumId                                               1   \n",
              "MediaTypeId                                           1   \n",
              "GenreId                                               1   \n",
              "Composer      Angus Young, Malcolm Young, Brian Johnson   \n",
              "Milliseconds                                     210834   \n",
              "Bytes                                           6852860   \n",
              "UnitPrice                                          0.99   \n",
              "\n",
              "                                                   8     \\\n",
              "TrackId                                               9   \n",
              "Name                                         Snowballed   \n",
              "AlbumId                                               1   \n",
              "MediaTypeId                                           1   \n",
              "GenreId                                               1   \n",
              "Composer      Angus Young, Malcolm Young, Brian Johnson   \n",
              "Milliseconds                                     203102   \n",
              "Bytes                                           6599424   \n",
              "UnitPrice                                          0.99   \n",
              "\n",
              "                                                   9     ...  \\\n",
              "TrackId                                              10  ...   \n",
              "Name                                         Evil Walks  ...   \n",
              "AlbumId                                               1  ...   \n",
              "MediaTypeId                                           1  ...   \n",
              "GenreId                                               1  ...   \n",
              "Composer      Angus Young, Malcolm Young, Brian Johnson  ...   \n",
              "Milliseconds                                     263497  ...   \n",
              "Bytes                                           8611245  ...   \n",
              "UnitPrice                                          0.99  ...   \n",
              "\n",
              "                                                           3493  \\\n",
              "TrackId                                                    3494   \n",
              "Name          Symphony No. 2, Op. 16 -  \"The Four Temperamen...   \n",
              "AlbumId                                                     338   \n",
              "MediaTypeId                                                   2   \n",
              "GenreId                                                      24   \n",
              "Composer                                           Carl Nielsen   \n",
              "Milliseconds                                             286998   \n",
              "Bytes                                                   4834785   \n",
              "UnitPrice                                                  0.99   \n",
              "\n",
              "                                                           3494  \\\n",
              "TrackId                                                    3495   \n",
              "Name          24 Caprices, Op. 1, No. 24, for Solo Violin, i...   \n",
              "AlbumId                                                     339   \n",
              "MediaTypeId                                                   2   \n",
              "GenreId                                                      24   \n",
              "Composer                                       Niccolò Paganini   \n",
              "Milliseconds                                             265541   \n",
              "Bytes                                                   4371533   \n",
              "UnitPrice                                                  0.99   \n",
              "\n",
              "                                                         3495  \\\n",
              "TrackId                                                  3496   \n",
              "Name          Étude 1, In C Major - Preludio (Presto) - Liszt   \n",
              "AlbumId                                                   340   \n",
              "MediaTypeId                                                 4   \n",
              "GenreId                                                    24   \n",
              "Composer                                                 None   \n",
              "Milliseconds                                            51780   \n",
              "Bytes                                                 2229617   \n",
              "UnitPrice                                                0.99   \n",
              "\n",
              "                         3496  \\\n",
              "TrackId                  3497   \n",
              "Name          Erlkonig, D.328   \n",
              "AlbumId                   341   \n",
              "MediaTypeId                 2   \n",
              "GenreId                    24   \n",
              "Composer                 None   \n",
              "Milliseconds           261849   \n",
              "Bytes                 4307907   \n",
              "UnitPrice                0.99   \n",
              "\n",
              "                                                           3497  \\\n",
              "TrackId                                                    3498   \n",
              "Name          Concerto for Violin, Strings and Continuo in G...   \n",
              "AlbumId                                                     342   \n",
              "MediaTypeId                                                   4   \n",
              "GenreId                                                      24   \n",
              "Composer                               Pietro Antonio Locatelli   \n",
              "Milliseconds                                             493573   \n",
              "Bytes                                                  16454937   \n",
              "UnitPrice                                                  0.99   \n",
              "\n",
              "                                                           3498  \\\n",
              "TrackId                                                    3499   \n",
              "Name          Pini Di Roma (Pinien Von Rom) \\ I Pini Della V...   \n",
              "AlbumId                                                     343   \n",
              "MediaTypeId                                                   2   \n",
              "GenreId                                                      24   \n",
              "Composer                                                   None   \n",
              "Milliseconds                                             286741   \n",
              "Bytes                                                   4718950   \n",
              "UnitPrice                                                  0.99   \n",
              "\n",
              "                                                           3499  \\\n",
              "TrackId                                                    3500   \n",
              "Name          String Quartet No. 12 in C Minor, D. 703 \"Quar...   \n",
              "AlbumId                                                     344   \n",
              "MediaTypeId                                                   2   \n",
              "GenreId                                                      24   \n",
              "Composer                                         Franz Schubert   \n",
              "Milliseconds                                             139200   \n",
              "Bytes                                                   2283131   \n",
              "UnitPrice                                                  0.99   \n",
              "\n",
              "                                              3500  \\\n",
              "TrackId                                       3501   \n",
              "Name          L'orfeo, Act 3, Sinfonia (Orchestra)   \n",
              "AlbumId                                        345   \n",
              "MediaTypeId                                      2   \n",
              "GenreId                                         24   \n",
              "Composer                        Claudio Monteverdi   \n",
              "Milliseconds                                 66639   \n",
              "Bytes                                      1189062   \n",
              "UnitPrice                                     0.99   \n",
              "\n",
              "                                                           3501           3502  \n",
              "TrackId                                                    3502           3503  \n",
              "Name          Quintet for Horn, Violin, 2 Violas, and Cello ...  Koyaanisqatsi  \n",
              "AlbumId                                                     346            347  \n",
              "MediaTypeId                                                   2              2  \n",
              "GenreId                                                      24             10  \n",
              "Composer                                Wolfgang Amadeus Mozart   Philip Glass  \n",
              "Milliseconds                                             221331         206005  \n",
              "Bytes                                                   3665114        3305164  \n",
              "UnitPrice                                                  0.99           0.99  \n",
              "\n",
              "[9 rows x 3503 columns]"
            ],
            "text/html": [
              "\n",
              "  <div id=\"df-2486c0da-9871-4bf0-807b-31508db55458\" class=\"colab-df-container\">\n",
              "    <div>\n",
              "<style scoped>\n",
              "    .dataframe tbody tr th:only-of-type {\n",
              "        vertical-align: middle;\n",
              "    }\n",
              "\n",
              "    .dataframe tbody tr th {\n",
              "        vertical-align: top;\n",
              "    }\n",
              "\n",
              "    .dataframe thead th {\n",
              "        text-align: right;\n",
              "    }\n",
              "</style>\n",
              "<table border=\"1\" class=\"dataframe\">\n",
              "  <thead>\n",
              "    <tr style=\"text-align: right;\">\n",
              "      <th></th>\n",
              "      <th>0</th>\n",
              "      <th>1</th>\n",
              "      <th>2</th>\n",
              "      <th>3</th>\n",
              "      <th>4</th>\n",
              "      <th>5</th>\n",
              "      <th>6</th>\n",
              "      <th>7</th>\n",
              "      <th>8</th>\n",
              "      <th>9</th>\n",
              "      <th>...</th>\n",
              "      <th>3493</th>\n",
              "      <th>3494</th>\n",
              "      <th>3495</th>\n",
              "      <th>3496</th>\n",
              "      <th>3497</th>\n",
              "      <th>3498</th>\n",
              "      <th>3499</th>\n",
              "      <th>3500</th>\n",
              "      <th>3501</th>\n",
              "      <th>3502</th>\n",
              "    </tr>\n",
              "  </thead>\n",
              "  <tbody>\n",
              "    <tr>\n",
              "      <th>TrackId</th>\n",
              "      <td>1</td>\n",
              "      <td>2</td>\n",
              "      <td>3</td>\n",
              "      <td>4</td>\n",
              "      <td>5</td>\n",
              "      <td>6</td>\n",
              "      <td>7</td>\n",
              "      <td>8</td>\n",
              "      <td>9</td>\n",
              "      <td>10</td>\n",
              "      <td>...</td>\n",
              "      <td>3494</td>\n",
              "      <td>3495</td>\n",
              "      <td>3496</td>\n",
              "      <td>3497</td>\n",
              "      <td>3498</td>\n",
              "      <td>3499</td>\n",
              "      <td>3500</td>\n",
              "      <td>3501</td>\n",
              "      <td>3502</td>\n",
              "      <td>3503</td>\n",
              "    </tr>\n",
              "    <tr>\n",
              "      <th>Name</th>\n",
              "      <td>For Those About To Rock (We Salute You)</td>\n",
              "      <td>Balls to the Wall</td>\n",
              "      <td>Fast As a Shark</td>\n",
              "      <td>Restless and Wild</td>\n",
              "      <td>Princess of the Dawn</td>\n",
              "      <td>Put The Finger On You</td>\n",
              "      <td>Let's Get It Up</td>\n",
              "      <td>Inject The Venom</td>\n",
              "      <td>Snowballed</td>\n",
              "      <td>Evil Walks</td>\n",
              "      <td>...</td>\n",
              "      <td>Symphony No. 2, Op. 16 -  \"The Four Temperamen...</td>\n",
              "      <td>24 Caprices, Op. 1, No. 24, for Solo Violin, i...</td>\n",
              "      <td>Étude 1, In C Major - Preludio (Presto) - Liszt</td>\n",
              "      <td>Erlkonig, D.328</td>\n",
              "      <td>Concerto for Violin, Strings and Continuo in G...</td>\n",
              "      <td>Pini Di Roma (Pinien Von Rom) \\ I Pini Della V...</td>\n",
              "      <td>String Quartet No. 12 in C Minor, D. 703 \"Quar...</td>\n",
              "      <td>L'orfeo, Act 3, Sinfonia (Orchestra)</td>\n",
              "      <td>Quintet for Horn, Violin, 2 Violas, and Cello ...</td>\n",
              "      <td>Koyaanisqatsi</td>\n",
              "    </tr>\n",
              "    <tr>\n",
              "      <th>AlbumId</th>\n",
              "      <td>1</td>\n",
              "      <td>2</td>\n",
              "      <td>3</td>\n",
              "      <td>3</td>\n",
              "      <td>3</td>\n",
              "      <td>1</td>\n",
              "      <td>1</td>\n",
              "      <td>1</td>\n",
              "      <td>1</td>\n",
              "      <td>1</td>\n",
              "      <td>...</td>\n",
              "      <td>338</td>\n",
              "      <td>339</td>\n",
              "      <td>340</td>\n",
              "      <td>341</td>\n",
              "      <td>342</td>\n",
              "      <td>343</td>\n",
              "      <td>344</td>\n",
              "      <td>345</td>\n",
              "      <td>346</td>\n",
              "      <td>347</td>\n",
              "    </tr>\n",
              "    <tr>\n",
              "      <th>MediaTypeId</th>\n",
              "      <td>1</td>\n",
              "      <td>2</td>\n",
              "      <td>2</td>\n",
              "      <td>2</td>\n",
              "      <td>2</td>\n",
              "      <td>1</td>\n",
              "      <td>1</td>\n",
              "      <td>1</td>\n",
              "      <td>1</td>\n",
              "      <td>1</td>\n",
              "      <td>...</td>\n",
              "      <td>2</td>\n",
              "      <td>2</td>\n",
              "      <td>4</td>\n",
              "      <td>2</td>\n",
              "      <td>4</td>\n",
              "      <td>2</td>\n",
              "      <td>2</td>\n",
              "      <td>2</td>\n",
              "      <td>2</td>\n",
              "      <td>2</td>\n",
              "    </tr>\n",
              "    <tr>\n",
              "      <th>GenreId</th>\n",
              "      <td>1</td>\n",
              "      <td>1</td>\n",
              "      <td>1</td>\n",
              "      <td>1</td>\n",
              "      <td>1</td>\n",
              "      <td>1</td>\n",
              "      <td>1</td>\n",
              "      <td>1</td>\n",
              "      <td>1</td>\n",
              "      <td>1</td>\n",
              "      <td>...</td>\n",
              "      <td>24</td>\n",
              "      <td>24</td>\n",
              "      <td>24</td>\n",
              "      <td>24</td>\n",
              "      <td>24</td>\n",
              "      <td>24</td>\n",
              "      <td>24</td>\n",
              "      <td>24</td>\n",
              "      <td>24</td>\n",
              "      <td>10</td>\n",
              "    </tr>\n",
              "    <tr>\n",
              "      <th>Composer</th>\n",
              "      <td>Angus Young, Malcolm Young, Brian Johnson</td>\n",
              "      <td>None</td>\n",
              "      <td>F. Baltes, S. Kaufman, U. Dirkscneider &amp; W. Ho...</td>\n",
              "      <td>F. Baltes, R.A. Smith-Diesel, S. Kaufman, U. D...</td>\n",
              "      <td>Deaffy &amp; R.A. Smith-Diesel</td>\n",
              "      <td>Angus Young, Malcolm Young, Brian Johnson</td>\n",
              "      <td>Angus Young, Malcolm Young, Brian Johnson</td>\n",
              "      <td>Angus Young, Malcolm Young, Brian Johnson</td>\n",
              "      <td>Angus Young, Malcolm Young, Brian Johnson</td>\n",
              "      <td>Angus Young, Malcolm Young, Brian Johnson</td>\n",
              "      <td>...</td>\n",
              "      <td>Carl Nielsen</td>\n",
              "      <td>Niccolò Paganini</td>\n",
              "      <td>None</td>\n",
              "      <td>None</td>\n",
              "      <td>Pietro Antonio Locatelli</td>\n",
              "      <td>None</td>\n",
              "      <td>Franz Schubert</td>\n",
              "      <td>Claudio Monteverdi</td>\n",
              "      <td>Wolfgang Amadeus Mozart</td>\n",
              "      <td>Philip Glass</td>\n",
              "    </tr>\n",
              "    <tr>\n",
              "      <th>Milliseconds</th>\n",
              "      <td>343719</td>\n",
              "      <td>342562</td>\n",
              "      <td>230619</td>\n",
              "      <td>252051</td>\n",
              "      <td>375418</td>\n",
              "      <td>205662</td>\n",
              "      <td>233926</td>\n",
              "      <td>210834</td>\n",
              "      <td>203102</td>\n",
              "      <td>263497</td>\n",
              "      <td>...</td>\n",
              "      <td>286998</td>\n",
              "      <td>265541</td>\n",
              "      <td>51780</td>\n",
              "      <td>261849</td>\n",
              "      <td>493573</td>\n",
              "      <td>286741</td>\n",
              "      <td>139200</td>\n",
              "      <td>66639</td>\n",
              "      <td>221331</td>\n",
              "      <td>206005</td>\n",
              "    </tr>\n",
              "    <tr>\n",
              "      <th>Bytes</th>\n",
              "      <td>11170334</td>\n",
              "      <td>5510424</td>\n",
              "      <td>3990994</td>\n",
              "      <td>4331779</td>\n",
              "      <td>6290521</td>\n",
              "      <td>6713451</td>\n",
              "      <td>7636561</td>\n",
              "      <td>6852860</td>\n",
              "      <td>6599424</td>\n",
              "      <td>8611245</td>\n",
              "      <td>...</td>\n",
              "      <td>4834785</td>\n",
              "      <td>4371533</td>\n",
              "      <td>2229617</td>\n",
              "      <td>4307907</td>\n",
              "      <td>16454937</td>\n",
              "      <td>4718950</td>\n",
              "      <td>2283131</td>\n",
              "      <td>1189062</td>\n",
              "      <td>3665114</td>\n",
              "      <td>3305164</td>\n",
              "    </tr>\n",
              "    <tr>\n",
              "      <th>UnitPrice</th>\n",
              "      <td>0.99</td>\n",
              "      <td>0.99</td>\n",
              "      <td>0.99</td>\n",
              "      <td>0.99</td>\n",
              "      <td>0.99</td>\n",
              "      <td>0.99</td>\n",
              "      <td>0.99</td>\n",
              "      <td>0.99</td>\n",
              "      <td>0.99</td>\n",
              "      <td>0.99</td>\n",
              "      <td>...</td>\n",
              "      <td>0.99</td>\n",
              "      <td>0.99</td>\n",
              "      <td>0.99</td>\n",
              "      <td>0.99</td>\n",
              "      <td>0.99</td>\n",
              "      <td>0.99</td>\n",
              "      <td>0.99</td>\n",
              "      <td>0.99</td>\n",
              "      <td>0.99</td>\n",
              "      <td>0.99</td>\n",
              "    </tr>\n",
              "  </tbody>\n",
              "</table>\n",
              "<p>9 rows × 3503 columns</p>\n",
              "</div>\n",
              "    <div class=\"colab-df-buttons\">\n",
              "\n",
              "  <div class=\"colab-df-container\">\n",
              "    <button class=\"colab-df-convert\" onclick=\"convertToInteractive('df-2486c0da-9871-4bf0-807b-31508db55458')\"\n",
              "            title=\"Convert this dataframe to an interactive table.\"\n",
              "            style=\"display:none;\">\n",
              "\n",
              "  <svg xmlns=\"http://www.w3.org/2000/svg\" height=\"24px\" viewBox=\"0 -960 960 960\">\n",
              "    <path d=\"M120-120v-720h720v720H120Zm60-500h600v-160H180v160Zm220 220h160v-160H400v160Zm0 220h160v-160H400v160ZM180-400h160v-160H180v160Zm440 0h160v-160H620v160ZM180-180h160v-160H180v160Zm440 0h160v-160H620v160Z\"/>\n",
              "  </svg>\n",
              "    </button>\n",
              "\n",
              "  <style>\n",
              "    .colab-df-container {\n",
              "      display:flex;\n",
              "      gap: 12px;\n",
              "    }\n",
              "\n",
              "    .colab-df-convert {\n",
              "      background-color: #E8F0FE;\n",
              "      border: none;\n",
              "      border-radius: 50%;\n",
              "      cursor: pointer;\n",
              "      display: none;\n",
              "      fill: #1967D2;\n",
              "      height: 32px;\n",
              "      padding: 0 0 0 0;\n",
              "      width: 32px;\n",
              "    }\n",
              "\n",
              "    .colab-df-convert:hover {\n",
              "      background-color: #E2EBFA;\n",
              "      box-shadow: 0px 1px 2px rgba(60, 64, 67, 0.3), 0px 1px 3px 1px rgba(60, 64, 67, 0.15);\n",
              "      fill: #174EA6;\n",
              "    }\n",
              "\n",
              "    .colab-df-buttons div {\n",
              "      margin-bottom: 4px;\n",
              "    }\n",
              "\n",
              "    [theme=dark] .colab-df-convert {\n",
              "      background-color: #3B4455;\n",
              "      fill: #D2E3FC;\n",
              "    }\n",
              "\n",
              "    [theme=dark] .colab-df-convert:hover {\n",
              "      background-color: #434B5C;\n",
              "      box-shadow: 0px 1px 3px 1px rgba(0, 0, 0, 0.15);\n",
              "      filter: drop-shadow(0px 1px 2px rgba(0, 0, 0, 0.3));\n",
              "      fill: #FFFFFF;\n",
              "    }\n",
              "  </style>\n",
              "\n",
              "    <script>\n",
              "      const buttonEl =\n",
              "        document.querySelector('#df-2486c0da-9871-4bf0-807b-31508db55458 button.colab-df-convert');\n",
              "      buttonEl.style.display =\n",
              "        google.colab.kernel.accessAllowed ? 'block' : 'none';\n",
              "\n",
              "      async function convertToInteractive(key) {\n",
              "        const element = document.querySelector('#df-2486c0da-9871-4bf0-807b-31508db55458');\n",
              "        const dataTable =\n",
              "          await google.colab.kernel.invokeFunction('convertToInteractive',\n",
              "                                                    [key], {});\n",
              "        if (!dataTable) return;\n",
              "\n",
              "        const docLinkHtml = 'Like what you see? Visit the ' +\n",
              "          '<a target=\"_blank\" href=https://colab.research.google.com/notebooks/data_table.ipynb>data table notebook</a>'\n",
              "          + ' to learn more about interactive tables.';\n",
              "        element.innerHTML = '';\n",
              "        dataTable['output_type'] = 'display_data';\n",
              "        await google.colab.output.renderOutput(dataTable, element);\n",
              "        const docLink = document.createElement('div');\n",
              "        docLink.innerHTML = docLinkHtml;\n",
              "        element.appendChild(docLink);\n",
              "      }\n",
              "    </script>\n",
              "  </div>\n",
              "\n",
              "\n",
              "<div id=\"df-5ec37715-b7cb-49df-80f9-5ae0522b5b66\">\n",
              "  <button class=\"colab-df-quickchart\" onclick=\"quickchart('df-5ec37715-b7cb-49df-80f9-5ae0522b5b66')\"\n",
              "            title=\"Suggest charts\"\n",
              "            style=\"display:none;\">\n",
              "\n",
              "<svg xmlns=\"http://www.w3.org/2000/svg\" height=\"24px\"viewBox=\"0 0 24 24\"\n",
              "     width=\"24px\">\n",
              "    <g>\n",
              "        <path d=\"M19 3H5c-1.1 0-2 .9-2 2v14c0 1.1.9 2 2 2h14c1.1 0 2-.9 2-2V5c0-1.1-.9-2-2-2zM9 17H7v-7h2v7zm4 0h-2V7h2v10zm4 0h-2v-4h2v4z\"/>\n",
              "    </g>\n",
              "</svg>\n",
              "  </button>\n",
              "\n",
              "<style>\n",
              "  .colab-df-quickchart {\n",
              "      --bg-color: #E8F0FE;\n",
              "      --fill-color: #1967D2;\n",
              "      --hover-bg-color: #E2EBFA;\n",
              "      --hover-fill-color: #174EA6;\n",
              "      --disabled-fill-color: #AAA;\n",
              "      --disabled-bg-color: #DDD;\n",
              "  }\n",
              "\n",
              "  [theme=dark] .colab-df-quickchart {\n",
              "      --bg-color: #3B4455;\n",
              "      --fill-color: #D2E3FC;\n",
              "      --hover-bg-color: #434B5C;\n",
              "      --hover-fill-color: #FFFFFF;\n",
              "      --disabled-bg-color: #3B4455;\n",
              "      --disabled-fill-color: #666;\n",
              "  }\n",
              "\n",
              "  .colab-df-quickchart {\n",
              "    background-color: var(--bg-color);\n",
              "    border: none;\n",
              "    border-radius: 50%;\n",
              "    cursor: pointer;\n",
              "    display: none;\n",
              "    fill: var(--fill-color);\n",
              "    height: 32px;\n",
              "    padding: 0;\n",
              "    width: 32px;\n",
              "  }\n",
              "\n",
              "  .colab-df-quickchart:hover {\n",
              "    background-color: var(--hover-bg-color);\n",
              "    box-shadow: 0 1px 2px rgba(60, 64, 67, 0.3), 0 1px 3px 1px rgba(60, 64, 67, 0.15);\n",
              "    fill: var(--button-hover-fill-color);\n",
              "  }\n",
              "\n",
              "  .colab-df-quickchart-complete:disabled,\n",
              "  .colab-df-quickchart-complete:disabled:hover {\n",
              "    background-color: var(--disabled-bg-color);\n",
              "    fill: var(--disabled-fill-color);\n",
              "    box-shadow: none;\n",
              "  }\n",
              "\n",
              "  .colab-df-spinner {\n",
              "    border: 2px solid var(--fill-color);\n",
              "    border-color: transparent;\n",
              "    border-bottom-color: var(--fill-color);\n",
              "    animation:\n",
              "      spin 1s steps(1) infinite;\n",
              "  }\n",
              "\n",
              "  @keyframes spin {\n",
              "    0% {\n",
              "      border-color: transparent;\n",
              "      border-bottom-color: var(--fill-color);\n",
              "      border-left-color: var(--fill-color);\n",
              "    }\n",
              "    20% {\n",
              "      border-color: transparent;\n",
              "      border-left-color: var(--fill-color);\n",
              "      border-top-color: var(--fill-color);\n",
              "    }\n",
              "    30% {\n",
              "      border-color: transparent;\n",
              "      border-left-color: var(--fill-color);\n",
              "      border-top-color: var(--fill-color);\n",
              "      border-right-color: var(--fill-color);\n",
              "    }\n",
              "    40% {\n",
              "      border-color: transparent;\n",
              "      border-right-color: var(--fill-color);\n",
              "      border-top-color: var(--fill-color);\n",
              "    }\n",
              "    60% {\n",
              "      border-color: transparent;\n",
              "      border-right-color: var(--fill-color);\n",
              "    }\n",
              "    80% {\n",
              "      border-color: transparent;\n",
              "      border-right-color: var(--fill-color);\n",
              "      border-bottom-color: var(--fill-color);\n",
              "    }\n",
              "    90% {\n",
              "      border-color: transparent;\n",
              "      border-bottom-color: var(--fill-color);\n",
              "    }\n",
              "  }\n",
              "</style>\n",
              "\n",
              "  <script>\n",
              "    async function quickchart(key) {\n",
              "      const quickchartButtonEl =\n",
              "        document.querySelector('#' + key + ' button');\n",
              "      quickchartButtonEl.disabled = true;  // To prevent multiple clicks.\n",
              "      quickchartButtonEl.classList.add('colab-df-spinner');\n",
              "      try {\n",
              "        const charts = await google.colab.kernel.invokeFunction(\n",
              "            'suggestCharts', [key], {});\n",
              "      } catch (error) {\n",
              "        console.error('Error during call to suggestCharts:', error);\n",
              "      }\n",
              "      quickchartButtonEl.classList.remove('colab-df-spinner');\n",
              "      quickchartButtonEl.classList.add('colab-df-quickchart-complete');\n",
              "    }\n",
              "    (() => {\n",
              "      let quickchartButtonEl =\n",
              "        document.querySelector('#df-5ec37715-b7cb-49df-80f9-5ae0522b5b66 button');\n",
              "      quickchartButtonEl.style.display =\n",
              "        google.colab.kernel.accessAllowed ? 'block' : 'none';\n",
              "    })();\n",
              "  </script>\n",
              "</div>\n",
              "\n",
              "    </div>\n",
              "  </div>\n"
            ],
            "application/vnd.google.colaboratory.intrinsic+json": {
              "type": "dataframe"
            }
          },
          "metadata": {},
          "execution_count": 57
        }
      ]
    },
    {
      "cell_type": "markdown",
      "source": [
        "Milliseconds Vs Bytes"
      ],
      "metadata": {
        "id": "qWP-QKEVf5Xf"
      }
    },
    {
      "cell_type": "code",
      "source": [
        "x = tracks_df['Milliseconds']\n",
        "y = tracks_df['Bytes']"
      ],
      "metadata": {
        "id": "mP7mjPnPlUEt"
      },
      "execution_count": null,
      "outputs": []
    },
    {
      "cell_type": "code",
      "source": [
        "plt.hist(x, 100)"
      ],
      "metadata": {
        "id": "QQvRVe1ylxFf",
        "colab": {
          "base_uri": "https://localhost:8080/",
          "height": 1000
        },
        "outputId": "316a05c7-db41-4871-e62c-8b2c48abf8ac"
      },
      "execution_count": null,
      "outputs": [
        {
          "output_type": "execute_result",
          "data": {
            "text/plain": [
              "(array([ 25.,  47., 219., 664., 973., 669., 330., 148.,  72.,  55.,  31.,\n",
              "         20.,  13.,   3.,   6.,   5.,   5.,   3.,   0.,   0.,   1.,   1.,\n",
              "          1.,   7.,  30.,   4.,   1.,   0.,   0.,   0.,   1.,   1.,   4.,\n",
              "          1.,   3.,   0.,   0.,   0.,   0.,   0.,   0.,   0.,   0.,   0.,\n",
              "          0.,   0.,   3.,   5.,  22.,  94.,   3.,   2.,   3.,   1.,   4.,\n",
              "         21.,   0.,   0.,   0.,   0.,   0.,   0.,   0.,   0.,   0.,   0.,\n",
              "          0.,   0.,   0.,   0.,   0.,   0.,   0.,   0.,   0.,   0.,   0.,\n",
              "          0.,   0.,   0.,   0.,   0.,   0.,   0.,   0.,   0.,   0.,   0.,\n",
              "          0.,   0.,   0.,   0.,   0.,   0.,   0.,   0.,   1.,   0.,   0.,\n",
              "          1.]),\n",
              " array([1.07100000e+03, 5.39298200e+04, 1.06788640e+05, 1.59647460e+05,\n",
              "        2.12506280e+05, 2.65365100e+05, 3.18223920e+05, 3.71082740e+05,\n",
              "        4.23941560e+05, 4.76800380e+05, 5.29659200e+05, 5.82518020e+05,\n",
              "        6.35376840e+05, 6.88235660e+05, 7.41094480e+05, 7.93953300e+05,\n",
              "        8.46812120e+05, 8.99670940e+05, 9.52529760e+05, 1.00538858e+06,\n",
              "        1.05824740e+06, 1.11110622e+06, 1.16396504e+06, 1.21682386e+06,\n",
              "        1.26968268e+06, 1.32254150e+06, 1.37540032e+06, 1.42825914e+06,\n",
              "        1.48111796e+06, 1.53397678e+06, 1.58683560e+06, 1.63969442e+06,\n",
              "        1.69255324e+06, 1.74541206e+06, 1.79827088e+06, 1.85112970e+06,\n",
              "        1.90398852e+06, 1.95684734e+06, 2.00970616e+06, 2.06256498e+06,\n",
              "        2.11542380e+06, 2.16828262e+06, 2.22114144e+06, 2.27400026e+06,\n",
              "        2.32685908e+06, 2.37971790e+06, 2.43257672e+06, 2.48543554e+06,\n",
              "        2.53829436e+06, 2.59115318e+06, 2.64401200e+06, 2.69687082e+06,\n",
              "        2.74972964e+06, 2.80258846e+06, 2.85544728e+06, 2.90830610e+06,\n",
              "        2.96116492e+06, 3.01402374e+06, 3.06688256e+06, 3.11974138e+06,\n",
              "        3.17260020e+06, 3.22545902e+06, 3.27831784e+06, 3.33117666e+06,\n",
              "        3.38403548e+06, 3.43689430e+06, 3.48975312e+06, 3.54261194e+06,\n",
              "        3.59547076e+06, 3.64832958e+06, 3.70118840e+06, 3.75404722e+06,\n",
              "        3.80690604e+06, 3.85976486e+06, 3.91262368e+06, 3.96548250e+06,\n",
              "        4.01834132e+06, 4.07120014e+06, 4.12405896e+06, 4.17691778e+06,\n",
              "        4.22977660e+06, 4.28263542e+06, 4.33549424e+06, 4.38835306e+06,\n",
              "        4.44121188e+06, 4.49407070e+06, 4.54692952e+06, 4.59978834e+06,\n",
              "        4.65264716e+06, 4.70550598e+06, 4.75836480e+06, 4.81122362e+06,\n",
              "        4.86408244e+06, 4.91694126e+06, 4.96980008e+06, 5.02265890e+06,\n",
              "        5.07551772e+06, 5.12837654e+06, 5.18123536e+06, 5.23409418e+06,\n",
              "        5.28695300e+06]),\n",
              " <BarContainer object of 100 artists>)"
            ]
          },
          "metadata": {},
          "execution_count": 59
        },
        {
          "output_type": "display_data",
          "data": {
            "text/plain": [
              "<Figure size 640x480 with 1 Axes>"
            ],
            "image/png": "[encoded data removed]"
          },
          "metadata": {}
        }
      ]
    },
    {
      "cell_type": "code",
      "source": [
        "plt.scatter(x, y)\n",
        "plt.xlabel('MILLISECONDS')\n",
        "plt.ylabel('BYTES')"
      ],
      "metadata": {
        "id": "JZtnWMNol7Q7",
        "colab": {
          "base_uri": "https://localhost:8080/",
          "height": 482
        },
        "outputId": "1f4d1942-da15-4709-cc51-84be47535731"
      },
      "execution_count": null,
      "outputs": [
        {
          "output_type": "execute_result",
          "data": {
            "text/plain": [
              "Text(0, 0.5, 'BYTES')"
            ]
          },
          "metadata": {},
          "execution_count": 60
        },
        {
          "output_type": "display_data",
          "data": {
            "text/plain": [
              "<Figure size 640x480 with 1 Axes>"
            ],
            "image/png": "[encoded data removed]"
          },
          "metadata": {}
        }
      ]
    },
    {
      "cell_type": "code",
      "source": [
        "tracks_df['log_milliseconds'] = np.log(tracks_df['Milliseconds'])\n",
        "tracks_df['log_bytes'] = np.log(tracks_df['Bytes'])\n",
        "plt.scatter(tracks_df['log_milliseconds'], tracks_df['log_bytes'])\n",
        "plt.xlabel('Log of Milliseconds')\n",
        "plt.ylabel('Bytes')\n",
        "plt.title('Log of Milliseconds vs Log Of Bytes')\n",
        "plt.show()"
      ],
      "metadata": {
        "colab": {
          "base_uri": "https://localhost:8080/",
          "height": 472
        },
        "id": "7OwEDn9rnCSz",
        "outputId": "42eea6ac-f778-460d-d90e-1da4f43300ab"
      },
      "execution_count": null,
      "outputs": [
        {
          "output_type": "display_data",
          "data": {
            "text/plain": [
              "<Figure size 640x480 with 1 Axes>"
            ],
            "image/png": "[encoded data removed]"
          },
          "metadata": {}
        }
      ]
    },
    {
      "cell_type": "code",
      "source": [
        "tracks_df['log_bytes'] = np.log(tracks_df['Bytes'])\n",
        "plt.scatter(tracks_df['log_bytes'], tracks_df['UnitPrice'],)\n",
        "plt.xlabel('Log of Milliseconds')\n",
        "plt.ylabel('Unit Price')\n",
        "plt.title('Log of Milliseconds vs Unit Price')\n",
        "plt.show()"
      ],
      "metadata": {
        "colab": {
          "base_uri": "https://localhost:8080/",
          "height": 472
        },
        "id": "87WFdQsTnubk",
        "outputId": "d031860f-fbb1-4cdc-d314-59c53e6a3de5"
      },
      "execution_count": null,
      "outputs": [
        {
          "output_type": "display_data",
          "data": {
            "text/plain": [
              "<Figure size 640x480 with 1 Axes>"
            ],
            "image/png": "[encoded data removed]"
          },
          "metadata": {}
        }
      ]
    },
    {
      "cell_type": "markdown",
      "source": [
        "## EXTRA CREDIT:\n",
        "* Use a CTE\n",
        "* Use a query that joins two or more tables.\n",
        "* Make a model to see if you can predict something\n",
        "* Come up with something else cool to do with your data"
      ],
      "metadata": {
        "id": "BndCITEuuqCm"
      }
    },
    {
      "cell_type": "code",
      "source": [],
      "metadata": {
        "id": "J8dM30Rczv-N"
      },
      "execution_count": null,
      "outputs": []
    }
  ]
}